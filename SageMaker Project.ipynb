{
 "cells": [
  {
   "cell_type": "markdown",
   "metadata": {},
   "source": [
    "# Creating a Sentiment Analysis Web App\n",
    "## Using PyTorch and SageMaker\n",
    "\n",
    "_Deep Learning Nanodegree Program | Deployment_\n",
    "\n",
    "---\n",
    "\n",
    "Now that we have a basic understanding of how SageMaker works we will try to use it to construct a complete project from end to end. Our goal will be to have a simple web page which a user can use to enter a movie review. The web page will then send the review off to our deployed model which will predict the sentiment of the entered review.\n",
    "\n",
    "## Instructions\n",
    "\n",
    "Some template code has already been provided for you, and you will need to implement additional functionality to successfully complete this notebook. You will not need to modify the included code beyond what is requested. Sections that begin with '**TODO**' in the header indicate that you need to complete or implement some portion within them. Instructions will be provided for each section and the specifics of the implementation are marked in the code block with a `# TODO: ...` comment. Please be sure to read the instructions carefully!\n",
    "\n",
    "In addition to implementing code, there will be questions for you to answer which relate to the task and your implementation. Each section where you will answer a question is preceded by a '**Question:**' header. Carefully read each question and provide your answer below the '**Answer:**' header by editing the Markdown cell.\n",
    "\n",
    "> **Note**: Code and Markdown cells can be executed using the **Shift+Enter** keyboard shortcut. In addition, a cell can be edited by typically clicking it (double-click for Markdown cells) or by pressing **Enter** while it is highlighted.\n",
    "\n",
    "## General Outline\n",
    "\n",
    "Recall the general outline for SageMaker projects using a notebook instance.\n",
    "\n",
    "1. Download or otherwise retrieve the data.\n",
    "2. Process / Prepare the data.\n",
    "3. Upload the processed data to S3.\n",
    "4. Train a chosen model.\n",
    "5. Test the trained model (typically using a batch transform job).\n",
    "6. Deploy the trained model.\n",
    "7. Use the deployed model.\n",
    "\n",
    "For this project, you will be following the steps in the general outline with some modifications. \n",
    "\n",
    "First, you will not be testing the model in its own step. You will still be testing the model, however, you will do it by deploying your model and then using the deployed model by sending the test data to it. One of the reasons for doing this is so that you can make sure that your deployed model is working correctly before moving forward.\n",
    "\n",
    "In addition, you will deploy and use your trained model a second time. In the second iteration you will customize the way that your trained model is deployed by including some of your own code. In addition, your newly deployed model will be used in the sentiment analysis web app."
   ]
  },
  {
   "cell_type": "markdown",
   "metadata": {},
   "source": [
    "## Step 1: Downloading the data\n",
    "\n",
    "As in the XGBoost in SageMaker notebook, we will be using the [IMDb dataset](http://ai.stanford.edu/~amaas/data/sentiment/)\n",
    "\n",
    "> Maas, Andrew L., et al. [Learning Word Vectors for Sentiment Analysis](http://ai.stanford.edu/~amaas/data/sentiment/). In _Proceedings of the 49th Annual Meeting of the Association for Computational Linguistics: Human Language Technologies_. Association for Computational Linguistics, 2011."
   ]
  },
  {
   "cell_type": "code",
   "execution_count": 1,
   "metadata": {},
   "outputs": [
    {
     "name": "stdout",
     "output_type": "stream",
     "text": [
      "--2019-06-08 09:09:34--  http://ai.stanford.edu/~amaas/data/sentiment/aclImdb_v1.tar.gz\n",
      "Resolving ai.stanford.edu (ai.stanford.edu)... 171.64.68.10\n",
      "Connecting to ai.stanford.edu (ai.stanford.edu)|171.64.68.10|:80... connected.\n",
      "HTTP request sent, awaiting response... 200 OK\n",
      "Length: 84125825 (80M) [application/x-gzip]\n",
      "Saving to: ‘../data/aclImdb_v1.tar.gz’\n",
      "\n",
      "../data/aclImdb_v1. 100%[===================>]  80.23M  22.5MB/s    in 5.5s    \n",
      "\n",
      "2019-06-08 09:09:40 (14.7 MB/s) - ‘../data/aclImdb_v1.tar.gz’ saved [84125825/84125825]\n",
      "\n"
     ]
    }
   ],
   "source": [
    "%mkdir ../data\n",
    "!wget -O ../data/aclImdb_v1.tar.gz http://ai.stanford.edu/~amaas/data/sentiment/aclImdb_v1.tar.gz\n",
    "!tar -zxf ../data/aclImdb_v1.tar.gz -C ../data"
   ]
  },
  {
   "cell_type": "markdown",
   "metadata": {},
   "source": [
    "## Step 2: Preparing and Processing the data\n",
    "\n",
    "Also, as in the XGBoost notebook, we will be doing some initial data processing. The first few steps are the same as in the XGBoost example. To begin with, we will read in each of the reviews and combine them into a single input structure. Then, we will split the dataset into a training set and a testing set."
   ]
  },
  {
   "cell_type": "code",
   "execution_count": 2,
   "metadata": {},
   "outputs": [],
   "source": [
    "import os\n",
    "import glob\n",
    "\n",
    "def read_imdb_data(data_dir='../data/aclImdb'):\n",
    "    data = {}\n",
    "    labels = {}\n",
    "    \n",
    "    for data_type in ['train', 'test']:\n",
    "        data[data_type] = {}\n",
    "        labels[data_type] = {}\n",
    "        \n",
    "        for sentiment in ['pos', 'neg']:\n",
    "            data[data_type][sentiment] = []\n",
    "            labels[data_type][sentiment] = []\n",
    "            \n",
    "            path = os.path.join(data_dir, data_type, sentiment, '*.txt')\n",
    "            files = glob.glob(path)\n",
    "            \n",
    "            for f in files:\n",
    "                with open(f) as review:\n",
    "                    data[data_type][sentiment].append(review.read())\n",
    "                    # Here we represent a positive review by '1' and a negative review by '0'\n",
    "                    labels[data_type][sentiment].append(1 if sentiment == 'pos' else 0)\n",
    "                    \n",
    "            assert len(data[data_type][sentiment]) == len(labels[data_type][sentiment]), \\\n",
    "                    \"{}/{} data size does not match labels size\".format(data_type, sentiment)\n",
    "                \n",
    "    return data, labels"
   ]
  },
  {
   "cell_type": "code",
   "execution_count": 3,
   "metadata": {},
   "outputs": [
    {
     "name": "stdout",
     "output_type": "stream",
     "text": [
      "IMDB reviews: train = 12500 pos / 12500 neg, test = 12500 pos / 12500 neg\n"
     ]
    }
   ],
   "source": [
    "data, labels = read_imdb_data()\n",
    "print(\"IMDB reviews: train = {} pos / {} neg, test = {} pos / {} neg\".format(\n",
    "            len(data['train']['pos']), len(data['train']['neg']),\n",
    "            len(data['test']['pos']), len(data['test']['neg'])))"
   ]
  },
  {
   "cell_type": "markdown",
   "metadata": {},
   "source": [
    "Now that we've read the raw training and testing data from the downloaded dataset, we will combine the positive and negative reviews and shuffle the resulting records."
   ]
  },
  {
   "cell_type": "code",
   "execution_count": 4,
   "metadata": {},
   "outputs": [],
   "source": [
    "from sklearn.utils import shuffle\n",
    "\n",
    "def prepare_imdb_data(data, labels):\n",
    "    \"\"\"Prepare training and test sets from IMDb movie reviews.\"\"\"\n",
    "    \n",
    "    #Combine positive and negative reviews and labels\n",
    "    data_train = data['train']['pos'] + data['train']['neg']\n",
    "    data_test = data['test']['pos'] + data['test']['neg']\n",
    "    labels_train = labels['train']['pos'] + labels['train']['neg']\n",
    "    labels_test = labels['test']['pos'] + labels['test']['neg']\n",
    "    \n",
    "    #Shuffle reviews and corresponding labels within training and test sets\n",
    "    data_train, labels_train = shuffle(data_train, labels_train)\n",
    "    data_test, labels_test = shuffle(data_test, labels_test)\n",
    "    \n",
    "    # Return a unified training data, test data, training labels, test labets\n",
    "    return data_train, data_test, labels_train, labels_test"
   ]
  },
  {
   "cell_type": "code",
   "execution_count": 5,
   "metadata": {},
   "outputs": [
    {
     "name": "stdout",
     "output_type": "stream",
     "text": [
      "IMDb reviews (combined): train = 25000, test = 25000\n"
     ]
    }
   ],
   "source": [
    "train_X, test_X, train_y, test_y = prepare_imdb_data(data, labels)\n",
    "print(\"IMDb reviews (combined): train = {}, test = {}\".format(len(train_X), len(test_X)))"
   ]
  },
  {
   "cell_type": "markdown",
   "metadata": {},
   "source": [
    "Now that we have our training and testing sets unified and prepared, we should do a quick check and see an example of the data our model will be trained on. This is generally a good idea as it allows you to see how each of the further processing steps affects the reviews and it also ensures that the data has been loaded correctly."
   ]
  },
  {
   "cell_type": "code",
   "execution_count": 7,
   "metadata": {},
   "outputs": [
    {
     "name": "stdout",
     "output_type": "stream",
     "text": [
      "just below the surface lies what? a simply awful movie is what.<br /><br />as other viewers have justifiably commented, the storm sequences are just plain ridiculous. chopping already sodden firewood in the pouring rain? now that's smart. menace? foreboding? sexual tension? for those read dull & contrived, dull & contrived and dull & overly contrived.<br /><br />i want to say thank god for mia sara's shower scene but in retrospect i think the producers of the film, having seen the completed mess realised that they had to put something in to make it half way worthwhile at all. so it just becomes yet another contrivance. do yourself a favour and give this a miss.\n",
      "0\n"
     ]
    }
   ],
   "source": [
    "print(train_X[123])\n",
    "\n",
    "print(train_y[123])"
   ]
  },
  {
   "cell_type": "markdown",
   "metadata": {},
   "source": [
    "The first step in processing the reviews is to make sure that any html tags that appear should be removed. In addition we wish to tokenize our input, that way words such as *entertained* and *entertaining* are considered the same with regard to sentiment analysis."
   ]
  },
  {
   "cell_type": "code",
   "execution_count": 8,
   "metadata": {},
   "outputs": [],
   "source": [
    "import nltk\n",
    "from nltk.corpus import stopwords\n",
    "from nltk.stem.porter import *\n",
    "\n",
    "import re\n",
    "from bs4 import BeautifulSoup\n",
    "\n",
    "def review_to_words(review):\n",
    "    nltk.download(\"stopwords\", quiet=True)\n",
    "    stemmer = PorterStemmer()\n",
    "    \n",
    "    text = BeautifulSoup(review, \"html.parser\").get_text() # Remove HTML tags\n",
    "    text = re.sub(r\"[^a-zA-Z0-9]\", \" \", text.lower()) # Convert to lower case\n",
    "    words = text.split() # Split string into words\n",
    "    words = [w for w in words if w not in stopwords.words(\"english\")] # Remove stopwords\n",
    "    words = [PorterStemmer().stem(w) for w in words] # stem\n",
    "    \n",
    "    return words"
   ]
  },
  {
   "cell_type": "markdown",
   "metadata": {},
   "source": [
    "The `review_to_words` method defined above uses `BeautifulSoup` to remove any html tags that appear and uses the `nltk` package to tokenize the reviews. As a check to ensure we know how everything is working, try applying `review_to_words` to one of the reviews in the training set."
   ]
  },
  {
   "cell_type": "code",
   "execution_count": 11,
   "metadata": {},
   "outputs": [
    {
     "name": "stdout",
     "output_type": "stream",
     "text": [
      "['surfac', 'lie', 'simpli', 'aw', 'movi', 'viewer', 'justifi', 'comment', 'storm', 'sequenc', 'plain', 'ridicul', 'chop', 'alreadi', 'sodden', 'firewood', 'pour', 'rain', 'smart', 'menac', 'forebod', 'sexual', 'tension', 'read', 'dull', 'contriv', 'dull', 'contriv', 'dull', 'overli', 'contriv', 'want', 'say', 'thank', 'god', 'mia', 'sara', 'shower', 'scene', 'retrospect', 'think', 'produc', 'film', 'seen', 'complet', 'mess', 'realis', 'put', 'someth', 'make', 'half', 'way', 'worthwhil', 'becom', 'yet', 'anoth', 'contriv', 'favour', 'give', 'miss']\n"
     ]
    }
   ],
   "source": [
    "# TODO: Apply review_to_words to a review (train_X[100] or any other review)\n",
    "review = review_to_words(train_X[123])\n",
    "\n",
    "print(review)"
   ]
  },
  {
   "cell_type": "markdown",
   "metadata": {},
   "source": [
    "**Question:** Above we mentioned that `review_to_words` method removes html formatting and allows us to tokenize the words found in a review, for example, converting *entertained* and *entertaining* into *entertain* so that they are treated as though they are the same word. What else, if anything, does this method do to the input?"
   ]
  },
  {
   "cell_type": "markdown",
   "metadata": {},
   "source": [
    "**Answer:**\n",
    "\n",
    "- removes HTML\n",
    "- removes upper/lowercase difference\n",
    "- removes any unnecessary characters\n",
    "- removes stop words"
   ]
  },
  {
   "cell_type": "markdown",
   "metadata": {},
   "source": [
    "The method below applies the `review_to_words` method to each of the reviews in the training and testing datasets. In addition it caches the results. This is because performing this processing step can take a long time. This way if you are unable to complete the notebook in the current session, you can come back without needing to process the data a second time."
   ]
  },
  {
   "cell_type": "code",
   "execution_count": 12,
   "metadata": {},
   "outputs": [],
   "source": [
    "import pickle\n",
    "\n",
    "cache_dir = os.path.join(\"../cache\", \"sentiment_analysis\")  # where to store cache files\n",
    "os.makedirs(cache_dir, exist_ok=True)  # ensure cache directory exists\n",
    "\n",
    "def preprocess_data(data_train, data_test, labels_train, labels_test,\n",
    "                    cache_dir=cache_dir, cache_file=\"preprocessed_data.pkl\"):\n",
    "    \"\"\"Convert each review to words; read from cache if available.\"\"\"\n",
    "\n",
    "    # If cache_file is not None, try to read from it first\n",
    "    cache_data = None\n",
    "    if cache_file is not None:\n",
    "        try:\n",
    "            with open(os.path.join(cache_dir, cache_file), \"rb\") as f:\n",
    "                cache_data = pickle.load(f)\n",
    "            print(\"Read preprocessed data from cache file:\", cache_file)\n",
    "        except:\n",
    "            pass  # unable to read from cache, but that's okay\n",
    "    \n",
    "    # If cache is missing, then do the heavy lifting\n",
    "    if cache_data is None:\n",
    "        # Preprocess training and test data to obtain words for each review\n",
    "        #words_train = list(map(review_to_words, data_train))\n",
    "        #words_test = list(map(review_to_words, data_test))\n",
    "        words_train = [review_to_words(review) for review in data_train]\n",
    "        words_test = [review_to_words(review) for review in data_test]\n",
    "        \n",
    "        # Write to cache file for future runs\n",
    "        if cache_file is not None:\n",
    "            cache_data = dict(words_train=words_train, words_test=words_test,\n",
    "                              labels_train=labels_train, labels_test=labels_test)\n",
    "            with open(os.path.join(cache_dir, cache_file), \"wb\") as f:\n",
    "                pickle.dump(cache_data, f)\n",
    "            print(\"Wrote preprocessed data to cache file:\", cache_file)\n",
    "    else:\n",
    "        # Unpack data loaded from cache file\n",
    "        words_train, words_test, labels_train, labels_test = (cache_data['words_train'],\n",
    "                cache_data['words_test'], cache_data['labels_train'], cache_data['labels_test'])\n",
    "    \n",
    "    return words_train, words_test, labels_train, labels_test"
   ]
  },
  {
   "cell_type": "code",
   "execution_count": 13,
   "metadata": {},
   "outputs": [
    {
     "name": "stdout",
     "output_type": "stream",
     "text": [
      "Wrote preprocessed data to cache file: preprocessed_data.pkl\n"
     ]
    }
   ],
   "source": [
    "# Preprocess data\n",
    "train_X, test_X, train_y, test_y = preprocess_data(train_X, test_X, train_y, test_y)"
   ]
  },
  {
   "cell_type": "markdown",
   "metadata": {},
   "source": [
    "## Transform the data\n",
    "\n",
    "In the XGBoost notebook we transformed the data from its word representation to a bag-of-words feature representation. For the model we are going to construct in this notebook we will construct a feature representation which is very similar. To start, we will represent each word as an integer. Of course, some of the words that appear in the reviews occur very infrequently and so likely don't contain much information for the purposes of sentiment analysis. The way we will deal with this problem is that we will fix the size of our working vocabulary and we will only include the words that appear most frequently. We will then combine all of the infrequent words into a single category and, in our case, we will label it as `1`.\n",
    "\n",
    "Since we will be using a recurrent neural network, it will be convenient if the length of each review is the same. To do this, we will fix a size for our reviews and then pad short reviews with the category 'no word' (which we will label `0`) and truncate long reviews."
   ]
  },
  {
   "cell_type": "markdown",
   "metadata": {},
   "source": [
    "### (TODO) Create a word dictionary\n",
    "\n",
    "To begin with, we need to construct a way to map words that appear in the reviews to integers. Here we fix the size of our vocabulary (including the 'no word' and 'infrequent' categories) to be `5000` but you may wish to change this to see how it affects the model.\n",
    "\n",
    "> **TODO:** Complete the implementation for the `build_dict()` method below. Note that even though the vocab_size is set to `5000`, we only want to construct a mapping for the most frequently appearing `4998` words. This is because we want to reserve the special labels `0` for 'no word' and `1` for 'infrequent word'."
   ]
  },
  {
   "cell_type": "code",
   "execution_count": 14,
   "metadata": {},
   "outputs": [],
   "source": [
    "import numpy as np\n",
    "from collections import Counter\n",
    "\n",
    "def get_word_count(data):\n",
    "    \n",
    "    # TODO: Determine how often each word appears in `data`. Note that `data` is a list of sentences and that a\n",
    "    #       sentence is a list of words.\n",
    "    \n",
    "    # A dict storing the words that appear in the reviews along with how often they occur\n",
    "    word_count = {} \n",
    "    \n",
    "    # Go through all the review in the data provided\n",
    "    for review in data:\n",
    "        # go through all the data/word in the review\n",
    "        for word in review:\n",
    "            if word in word_count:\n",
    "                word_count[word] += 1\n",
    "            else: \n",
    "                word_count[word] = 1\n",
    "    return word_count\n",
    "\n",
    "\n",
    "def build_dict(data, vocab_size = 5000):\n",
    "    \"\"\"Construct and return a dictionary mapping each of the most frequently appearing words to a unique integer.\"\"\"\n",
    "    \n",
    "    word_count = get_word_count(data)\n",
    "    # TODO: Sort the words found in `data` so that sorted_words[0] is the most frequently appearing word and\n",
    "    #       sorted_words[-1] is the least frequently appearing word.\n",
    "    \n",
    "    sorted_words = [v[0] for v in sorted(word_count.items(), key=lambda kv: kv[1], reverse=True)] \n",
    "    \n",
    "    word_dict = {} # This is what we are building, a dictionary that translates words into integers\n",
    "    for idx, word in enumerate(sorted_words[:vocab_size - 2]): # The -2 is so that we save room for the 'no word'\n",
    "        word_dict[word] = idx + 2                              # 'infrequent' labels\n",
    "        \n",
    "    return word_dict"
   ]
  },
  {
   "cell_type": "code",
   "execution_count": 15,
   "metadata": {},
   "outputs": [],
   "source": [
    "word_dict = build_dict(train_X)"
   ]
  },
  {
   "cell_type": "code",
   "execution_count": 16,
   "metadata": {},
   "outputs": [
    {
     "name": "stdout",
     "output_type": "stream",
     "text": [
      "{'movi': 2, 'film': 3, 'one': 4, 'like': 5, 'time': 6, 'good': 7, 'make': 8, 'charact': 9, 'get': 10, 'see': 11, 'watch': 12, 'stori': 13, 'even': 14, 'would': 15, 'realli': 16, 'well': 17, 'scene': 18, 'look': 19, 'show': 20, 'much': 21, 'end': 22, 'peopl': 23, 'bad': 24, 'go': 25, 'great': 26, 'also': 27, 'first': 28, 'love': 29, 'think': 30, 'way': 31, 'act': 32, 'play': 33, 'made': 34, 'thing': 35, 'could': 36, 'know': 37, 'say': 38, 'seem': 39, 'work': 40, 'plot': 41, 'two': 42, 'actor': 43, 'year': 44, 'come': 45, 'mani': 46, 'seen': 47, 'take': 48, 'life': 49, 'want': 50, 'never': 51, 'littl': 52, 'best': 53, 'tri': 54, 'man': 55, 'ever': 56, 'give': 57, 'better': 58, 'still': 59, 'perform': 60, 'find': 61, 'feel': 62, 'part': 63, 'back': 64, 'use': 65, 'someth': 66, 'director': 67, 'actual': 68, 'interest': 69, 'lot': 70, 'real': 71, 'old': 72, 'cast': 73, 'though': 74, 'live': 75, 'star': 76, 'enjoy': 77, 'guy': 78, 'anoth': 79, 'new': 80, 'role': 81, 'noth': 82, '10': 83, 'funni': 84, 'music': 85, 'point': 86, 'start': 87, 'set': 88, 'girl': 89, 'origin': 90, 'day': 91, 'world': 92, 'everi': 93, 'believ': 94, 'turn': 95, 'quit': 96, 'us': 97, 'direct': 98, 'thought': 99, 'fact': 100, 'minut': 101, 'horror': 102, 'kill': 103, 'action': 104, 'comedi': 105, 'pretti': 106, 'young': 107, 'wonder': 108, 'happen': 109, 'around': 110, 'got': 111, 'effect': 112, 'right': 113, 'long': 114, 'howev': 115, 'big': 116, 'line': 117, 'famili': 118, 'enough': 119, 'seri': 120, 'may': 121, 'need': 122, 'fan': 123, 'bit': 124, 'script': 125, 'beauti': 126, 'person': 127, 'becom': 128, 'without': 129, 'must': 130, 'alway': 131, 'friend': 132, 'tell': 133, 'reason': 134, 'saw': 135, 'last': 136, 'final': 137, 'kid': 138, 'almost': 139, 'put': 140, 'least': 141, 'sure': 142, 'done': 143, 'whole': 144, 'place': 145, 'complet': 146, 'kind': 147, 'expect': 148, 'differ': 149, 'shot': 150, 'far': 151, 'mean': 152, 'anyth': 153, 'book': 154, 'laugh': 155, 'might': 156, 'name': 157, 'sinc': 158, 'begin': 159, '2': 160, 'probabl': 161, 'woman': 162, 'help': 163, 'entertain': 164, 'let': 165, 'screen': 166, 'call': 167, 'tv': 168, 'moment': 169, 'away': 170, 'read': 171, 'yet': 172, 'rather': 173, 'worst': 174, 'run': 175, 'fun': 176, 'lead': 177, 'hard': 178, 'audienc': 179, 'idea': 180, 'anyon': 181, 'episod': 182, 'american': 183, 'found': 184, 'appear': 185, 'bore': 186, 'especi': 187, 'although': 188, 'hope': 189, 'keep': 190, 'cours': 191, 'anim': 192, 'job': 193, 'goe': 194, 'move': 195, 'sens': 196, 'version': 197, 'dvd': 198, 'war': 199, 'money': 200, 'someon': 201, 'mind': 202, 'mayb': 203, 'problem': 204, 'true': 205, 'hous': 206, 'everyth': 207, 'nice': 208, 'second': 209, 'rate': 210, 'three': 211, 'night': 212, 'face': 213, 'follow': 214, 'recommend': 215, 'product': 216, 'main': 217, 'worth': 218, 'leav': 219, 'human': 220, 'special': 221, 'excel': 222, 'togeth': 223, 'wast': 224, 'sound': 225, 'everyon': 226, 'john': 227, 'hand': 228, '1': 229, 'father': 230, 'later': 231, 'eye': 232, 'said': 233, 'view': 234, 'instead': 235, 'review': 236, 'boy': 237, 'high': 238, 'hour': 239, 'miss': 240, 'classic': 241, 'talk': 242, 'wife': 243, 'understand': 244, 'left': 245, 'care': 246, 'black': 247, 'death': 248, 'open': 249, 'murder': 250, 'write': 251, 'half': 252, 'head': 253, 'rememb': 254, 'chang': 255, 'viewer': 256, 'fight': 257, 'gener': 258, 'surpris': 259, 'includ': 260, 'short': 261, 'die': 262, 'fall': 263, 'less': 264, 'els': 265, 'entir': 266, 'piec': 267, 'involv': 268, 'pictur': 269, 'simpli': 270, 'power': 271, 'home': 272, 'top': 273, 'total': 274, 'usual': 275, 'budget': 276, 'attempt': 277, 'suppos': 278, 'releas': 279, 'hollywood': 280, 'terribl': 281, 'song': 282, 'men': 283, 'possibl': 284, 'featur': 285, 'portray': 286, 'disappoint': 287, 'poor': 288, '3': 289, 'coupl': 290, 'camera': 291, 'stupid': 292, 'dead': 293, 'wrong': 294, 'produc': 295, 'low': 296, 'either': 297, 'video': 298, 'aw': 299, 'definit': 300, 'except': 301, 'rest': 302, 'given': 303, 'absolut': 304, 'women': 305, 'lack': 306, 'word': 307, 'writer': 308, 'titl': 309, 'talent': 310, 'decid': 311, 'full': 312, 'perfect': 313, 'along': 314, 'style': 315, 'close': 316, 'truli': 317, 'school': 318, 'emot': 319, 'save': 320, 'age': 321, 'sex': 322, 'next': 323, 'bring': 324, 'mr': 325, 'case': 326, 'killer': 327, 'heart': 328, 'comment': 329, 'sort': 330, 'creat': 331, 'perhap': 332, 'came': 333, 'brother': 334, 'sever': 335, 'joke': 336, 'art': 337, 'dialogu': 338, 'game': 339, 'small': 340, 'base': 341, 'flick': 342, 'written': 343, 'sequenc': 344, 'meet': 345, 'earli': 346, 'often': 347, 'other': 348, 'mother': 349, 'develop': 350, 'humor': 351, 'actress': 352, 'consid': 353, 'dark': 354, 'guess': 355, 'amaz': 356, 'unfortun': 357, 'light': 358, 'lost': 359, 'exampl': 360, 'cinema': 361, 'drama': 362, 'white': 363, 'ye': 364, 'experi': 365, 'imagin': 366, 'mention': 367, 'stop': 368, 'natur': 369, 'forc': 370, 'manag': 371, 'felt': 372, 'present': 373, 'cut': 374, 'children': 375, 'fail': 376, 'son': 377, 'support': 378, 'qualiti': 379, 'car': 380, 'ask': 381, 'hit': 382, 'side': 383, 'voic': 384, 'extrem': 385, 'impress': 386, 'wors': 387, 'evil': 388, 'stand': 389, 'went': 390, 'certainli': 391, 'basic': 392, 'oh': 393, 'overal': 394, 'favorit': 395, 'horribl': 396, 'mysteri': 397, 'number': 398, 'type': 399, 'danc': 400, 'wait': 401, 'hero': 402, '5': 403, 'alreadi': 404, 'learn': 405, 'matter': 406, '4': 407, 'michael': 408, 'genr': 409, 'fine': 410, 'despit': 411, 'throughout': 412, 'walk': 413, 'success': 414, 'histori': 415, 'question': 416, 'zombi': 417, 'town': 418, 'relationship': 419, 'realiz': 420, 'child': 421, 'past': 422, 'daughter': 423, 'late': 424, 'b': 425, 'wish': 426, 'hate': 427, 'credit': 428, 'event': 429, 'theme': 430, 'touch': 431, 'citi': 432, 'today': 433, 'sometim': 434, 'behind': 435, 'god': 436, 'twist': 437, 'sit': 438, 'deal': 439, 'stay': 440, 'annoy': 441, 'abl': 442, 'rent': 443, 'pleas': 444, 'edit': 445, 'blood': 446, 'deserv': 447, 'comic': 448, 'anyway': 449, 'appar': 450, 'soon': 451, 'gave': 452, 'etc': 453, 'level': 454, 'slow': 455, 'chanc': 456, 'score': 457, 'bodi': 458, 'brilliant': 459, 'incred': 460, 'figur': 461, 'situat': 462, 'self': 463, 'major': 464, 'stuff': 465, 'decent': 466, 'element': 467, 'dream': 468, 'return': 469, 'obvious': 470, 'order': 471, 'continu': 472, 'pace': 473, 'ridicul': 474, 'happi': 475, 'highli': 476, 'add': 477, 'group': 478, 'thank': 479, 'ladi': 480, 'novel': 481, 'pain': 482, 'speak': 483, 'career': 484, 'shoot': 485, 'strang': 486, 'heard': 487, 'sad': 488, 'polic': 489, 'husband': 490, 'import': 491, 'break': 492, 'took': 493, 'strong': 494, 'cannot': 495, 'predict': 496, 'robert': 497, 'violenc': 498, 'hilari': 499, 'recent': 500, 'countri': 501, 'known': 502, 'particularli': 503, 'pick': 504, 'documentari': 505, 'season': 506, 'critic': 507, 'jame': 508, 'compar': 509, 'obviou': 510, 'alon': 511, 'told': 512, 'state': 513, 'visual': 514, 'rock': 515, 'offer': 516, 'exist': 517, 'theater': 518, 'opinion': 519, 'gore': 520, 'crap': 521, 'hold': 522, 'result': 523, 'room': 524, 'realiti': 525, 'hear': 526, 'clich': 527, 'effort': 528, 'thriller': 529, 'caus': 530, 'sequel': 531, 'serious': 532, 'explain': 533, 'king': 534, 'local': 535, 'ago': 536, 'hell': 537, 'none': 538, 'note': 539, 'allow': 540, 'sister': 541, 'david': 542, 'simpl': 543, 'femal': 544, 'deliv': 545, 'ok': 546, 'convinc': 547, 'class': 548, 'check': 549, 'suspens': 550, 'win': 551, 'oscar': 552, 'buy': 553, 'huge': 554, 'valu': 555, 'sexual': 556, 'cool': 557, 'scari': 558, 'excit': 559, 'similar': 560, 'provid': 561, 'apart': 562, 'exactli': 563, 'shown': 564, 'avoid': 565, 'seriou': 566, 'english': 567, 'whose': 568, 'taken': 569, 'cinematographi': 570, 'shock': 571, 'polit': 572, 'spoiler': 573, 'offic': 574, 'across': 575, 'middl': 576, 'street': 577, 'pass': 578, 'messag': 579, 'silli': 580, 'somewhat': 581, 'charm': 582, 'modern': 583, 'filmmak': 584, 'confus': 585, 'form': 586, 'tale': 587, 'singl': 588, 'jack': 589, 'mostli': 590, 'carri': 591, 'attent': 592, 'william': 593, 'sing': 594, 'subject': 595, 'five': 596, 'prove': 597, 'richard': 598, 'team': 599, 'stage': 600, 'cop': 601, 'unlik': 602, 'georg': 603, 'monster': 604, 'televis': 605, 'earth': 606, 'cover': 607, 'villain': 608, 'pay': 609, 'marri': 610, 'toward': 611, 'build': 612, 'pull': 613, 'parent': 614, 'due': 615, 'fill': 616, 'respect': 617, 'dialog': 618, 'four': 619, 'remind': 620, 'futur': 621, 'weak': 622, 'typic': 623, '7': 624, 'cheap': 625, 'intellig': 626, 'british': 627, 'atmospher': 628, '80': 629, 'clearli': 630, 'paul': 631, 'dog': 632, 'non': 633, 'artist': 634, 'knew': 635, 'fast': 636, '8': 637, 'crime': 638, 'easili': 639, 'escap': 640, 'doubt': 641, 'adult': 642, 'detail': 643, 'date': 644, 'member': 645, 'romant': 646, 'fire': 647, 'gun': 648, 'drive': 649, 'straight': 650, 'beyond': 651, 'fit': 652, 'attack': 653, 'imag': 654, 'upon': 655, 'posit': 656, 'whether': 657, 'peter': 658, 'fantast': 659, 'appreci': 660, 'aspect': 661, 'captur': 662, 'ten': 663, 'plan': 664, 'discov': 665, 'remain': 666, 'period': 667, 'near': 668, 'realist': 669, 'air': 670, 'mark': 671, 'red': 672, 'dull': 673, 'adapt': 674, 'within': 675, 'spend': 676, 'lose': 677, 'color': 678, 'materi': 679, 'chase': 680, 'mari': 681, 'storylin': 682, 'forget': 683, 'bunch': 684, 'clear': 685, 'lee': 686, 'victim': 687, 'nearli': 688, 'box': 689, 'york': 690, 'inspir': 691, 'match': 692, 'finish': 693, 'mess': 694, 'standard': 695, 'easi': 696, 'truth': 697, 'busi': 698, 'suffer': 699, 'dramat': 700, 'bill': 701, 'space': 702, 'western': 703, 'e': 704, 'list': 705, 'battl': 706, 'notic': 707, 'de': 708, 'french': 709, 'ad': 710, '9': 711, 'tom': 712, 'larg': 713, 'among': 714, 'eventu': 715, 'train': 716, 'accept': 717, 'agre': 718, 'soundtrack': 719, 'spirit': 720, 'third': 721, 'teenag': 722, 'adventur': 723, 'soldier': 724, 'sorri': 725, 'suggest': 726, 'drug': 727, 'famou': 728, 'babi': 729, 'cri': 730, 'normal': 731, 'troubl': 732, 'ultim': 733, 'contain': 734, 'certain': 735, 'cultur': 736, 'romanc': 737, 'rare': 738, 'lame': 739, 'somehow': 740, 'mix': 741, 'disney': 742, 'gone': 743, 'cartoon': 744, 'student': 745, 'fear': 746, 'reveal': 747, 'kept': 748, 'suck': 749, 'attract': 750, 'appeal': 751, 'premis': 752, 'greatest': 753, 'secret': 754, 'design': 755, 'shame': 756, 'throw': 757, 'copi': 758, 'scare': 759, 'wit': 760, 'admit': 761, 'america': 762, 'particular': 763, 'relat': 764, 'brought': 765, 'screenplay': 766, 'whatev': 767, 'pure': 768, '70': 769, 'averag': 770, 'harri': 771, 'master': 772, 'describ': 773, 'treat': 774, 'male': 775, '20': 776, 'fantasi': 777, 'issu': 778, 'warn': 779, 'inde': 780, 'forward': 781, 'background': 782, 'free': 783, 'project': 784, 'japanes': 785, 'memor': 786, 'poorli': 787, 'award': 788, 'locat': 789, 'amus': 790, 'potenti': 791, 'struggl': 792, 'weird': 793, 'magic': 794, 'societi': 795, 'okay': 796, 'doctor': 797, 'imdb': 798, 'accent': 799, 'hot': 800, 'water': 801, 'alien': 802, 'dr': 803, '30': 804, 'express': 805, 'odd': 806, 'choic': 807, 'crazi': 808, 'studio': 809, 'fiction': 810, 'control': 811, 'becam': 812, 'masterpiec': 813, 'difficult': 814, 'fli': 815, 'joe': 816, 'scream': 817, 'costum': 818, 'lover': 819, 'uniqu': 820, 'refer': 821, 'remak': 822, 'girlfriend': 823, 'vampir': 824, 'prison': 825, 'execut': 826, 'wear': 827, 'jump': 828, 'unless': 829, 'wood': 830, 'creepi': 831, 'cheesi': 832, 'superb': 833, 'otherwis': 834, 'parti': 835, 'roll': 836, 'ghost': 837, 'public': 838, 'mad': 839, 'depict': 840, 'earlier': 841, 'jane': 842, 'badli': 843, 'moral': 844, 'week': 845, 'fi': 846, 'dumb': 847, 'flaw': 848, 'grow': 849, 'sci': 850, 'deep': 851, 'maker': 852, 'cat': 853, 'older': 854, 'connect': 855, 'footag': 856, 'bother': 857, 'plenti': 858, 'outsid': 859, 'stick': 860, 'gay': 861, 'catch': 862, 'plu': 863, 'co': 864, 'popular': 865, 'equal': 866, 'social': 867, 'disturb': 868, 'quickli': 869, 'perfectli': 870, 'dress': 871, 'era': 872, '90': 873, 'mistak': 874, 'lie': 875, 'ride': 876, 'previou': 877, 'combin': 878, 'band': 879, 'concept': 880, 'surviv': 881, 'answer': 882, 'rich': 883, 'front': 884, 'sweet': 885, 'christma': 886, 'insid': 887, 'eat': 888, 'bare': 889, 'concern': 890, 'beat': 891, 'listen': 892, 'ben': 893, 'c': 894, 'serv': 895, 'term': 896, 'meant': 897, 'la': 898, 'german': 899, 'stereotyp': 900, 'hardli': 901, 'law': 902, 'innoc': 903, 'desper': 904, 'memori': 905, 'promis': 906, 'cute': 907, 'intent': 908, 'inform': 909, 'variou': 910, 'steal': 911, 'brain': 912, 'post': 913, 'tone': 914, 'island': 915, 'amount': 916, 'nuditi': 917, 'compani': 918, 'track': 919, 'store': 920, 'claim': 921, 'flat': 922, '50': 923, 'hair': 924, 'land': 925, 'univers': 926, 'kick': 927, 'danger': 928, 'scott': 929, 'fairli': 930, 'player': 931, 'plain': 932, 'step': 933, 'crew': 934, 'toni': 935, 'share': 936, 'centuri': 937, 'tast': 938, 'engag': 939, 'achiev': 940, 'travel': 941, 'cold': 942, 'suit': 943, 'rip': 944, 'record': 945, 'sadli': 946, 'manner': 947, 'spot': 948, 'tension': 949, 'wrote': 950, 'intens': 951, 'fascin': 952, 'familiar': 953, 'burn': 954, 'remark': 955, 'depth': 956, 'histor': 957, 'destroy': 958, 'sleep': 959, 'purpos': 960, 'languag': 961, 'ignor': 962, 'ruin': 963, 'delight': 964, 'unbeliev': 965, 'italian': 966, 'collect': 967, 'soul': 968, 'abil': 969, 'clever': 970, 'detect': 971, 'violent': 972, 'rape': 973, 'reach': 974, 'door': 975, 'scienc': 976, 'trash': 977, 'liter': 978, 'caught': 979, 'reveng': 980, 'commun': 981, 'creatur': 982, 'trip': 983, 'approach': 984, 'fashion': 985, 'intrigu': 986, 'skill': 987, 'paint': 988, 'introduc': 989, 'complex': 990, 'channel': 991, 'camp': 992, 'christian': 993, 'extra': 994, 'hole': 995, 'limit': 996, 'immedi': 997, 'ann': 998, 'mental': 999, 'million': 1000, 'mere': 1001, '6': 1002, 'comput': 1003, 'slightli': 1004, 'conclus': 1005, 'slasher': 1006, 'suddenli': 1007, 'imposs': 1008, 'crimin': 1009, 'teen': 1010, 'neither': 1011, 'nation': 1012, 'spent': 1013, 'physic': 1014, 'respons': 1015, 'planet': 1016, 'receiv': 1017, 'fake': 1018, 'sick': 1019, 'blue': 1020, 'bizarr': 1021, 'embarrass': 1022, 'indian': 1023, 'ring': 1024, '15': 1025, 'pop': 1026, 'drop': 1027, 'drag': 1028, 'haunt': 1029, 'pointless': 1030, 'suspect': 1031, 'search': 1032, 'edg': 1033, 'handl': 1034, 'common': 1035, 'biggest': 1036, 'faith': 1037, 'hurt': 1038, 'arriv': 1039, 'technic': 1040, 'angel': 1041, 'dad': 1042, 'genuin': 1043, 'solid': 1044, 'awesom': 1045, 'f': 1046, 'van': 1047, 'former': 1048, 'focu': 1049, 'colleg': 1050, 'count': 1051, 'tear': 1052, 'heavi': 1053, 'wall': 1054, 'rais': 1055, 'visit': 1056, 'laughabl': 1057, 'younger': 1058, 'fair': 1059, 'excus': 1060, 'sign': 1061, 'cult': 1062, 'motion': 1063, 'tough': 1064, 'key': 1065, 'desir': 1066, 'super': 1067, 'stun': 1068, 'addit': 1069, 'exploit': 1070, 'cloth': 1071, 'smith': 1072, 'tortur': 1073, 'race': 1074, 'davi': 1075, 'cross': 1076, 'author': 1077, 'jim': 1078, 'compel': 1079, 'focus': 1080, 'minor': 1081, 'consist': 1082, 'chemistri': 1083, 'pathet': 1084, 'commit': 1085, 'park': 1086, 'tradit': 1087, 'frank': 1088, 'obsess': 1089, 'grade': 1090, '60': 1091, 'asid': 1092, 'brutal': 1093, 'somewher': 1094, 'steve': 1095, 'u': 1096, 'depress': 1097, 'explor': 1098, 'opportun': 1099, 'grant': 1100, 'rule': 1101, 'besid': 1102, 'honest': 1103, 'dub': 1104, 'anti': 1105, 'trailer': 1106, 'intend': 1107, 'bar': 1108, 'west': 1109, 'longer': 1110, 'regard': 1111, 'scientist': 1112, 'decad': 1113, 'judg': 1114, 'silent': 1115, 'armi': 1116, 'creativ': 1117, 'wild': 1118, 'g': 1119, 'stewart': 1120, 'south': 1121, 'draw': 1122, 'road': 1123, 'govern': 1124, 'boss': 1125, 'ex': 1126, 'practic': 1127, 'festiv': 1128, 'surprisingli': 1129, 'motiv': 1130, 'club': 1131, 'gang': 1132, 'page': 1133, 'green': 1134, 'london': 1135, 'redeem': 1136, 'display': 1137, 'militari': 1138, 'idiot': 1139, 'machin': 1140, 'aliv': 1141, 'thrill': 1142, 'repeat': 1143, '100': 1144, 'yeah': 1145, 'folk': 1146, 'nobodi': 1147, '40': 1148, 'garbag': 1149, 'journey': 1150, 'ground': 1151, 'tire': 1152, 'smile': 1153, 'mood': 1154, 'bought': 1155, 'stone': 1156, 'sam': 1157, 'cost': 1158, 'noir': 1159, 'mouth': 1160, 'terrif': 1161, 'agent': 1162, 'requir': 1163, 'utterli': 1164, 'sexi': 1165, 'honestli': 1166, 'area': 1167, 'report': 1168, 'geniu': 1169, 'glad': 1170, 'enter': 1171, 'investig': 1172, 'humour': 1173, 'serial': 1174, 'passion': 1175, 'occasion': 1176, 'narr': 1177, 'marriag': 1178, 'climax': 1179, 'industri': 1180, 'studi': 1181, 'nowher': 1182, 'center': 1183, 'ship': 1184, 'demon': 1185, 'charli': 1186, 'hors': 1187, 'loos': 1188, 'bear': 1189, 'wow': 1190, 'hang': 1191, 'graphic': 1192, 'admir': 1193, 'giant': 1194, 'send': 1195, 'loud': 1196, 'damn': 1197, 'rel': 1198, 'profession': 1199, 'subtl': 1200, 'nake': 1201, 'blow': 1202, 'bottom': 1203, 'batman': 1204, 'insult': 1205, 'boyfriend': 1206, 'kelli': 1207, 'r': 1208, 'doubl': 1209, 'initi': 1210, 'frame': 1211, 'gem': 1212, 'opera': 1213, 'drawn': 1214, 'challeng': 1215, 'cinemat': 1216, 'church': 1217, 'affect': 1218, 'j': 1219, 'seek': 1220, 'evid': 1221, 'fulli': 1222, 'nightmar': 1223, 'l': 1224, 'conflict': 1225, 'arm': 1226, 'essenti': 1227, 'wind': 1228, 'christoph': 1229, 'henri': 1230, 'grace': 1231, 'narrat': 1232, 'assum': 1233, 'witch': 1234, 'hunt': 1235, 'push': 1236, 'wise': 1237, 'chri': 1238, 'nomin': 1239, 'repres': 1240, 'month': 1241, 'avail': 1242, 'sceneri': 1243, 'affair': 1244, 'hide': 1245, 'smart': 1246, 'thu': 1247, 'justic': 1248, 'bond': 1249, 'flashback': 1250, 'outstand': 1251, 'interview': 1252, 'presenc': 1253, 'constantli': 1254, 'satisfi': 1255, 'bed': 1256, 'central': 1257, 'iron': 1258, 'content': 1259, 'sell': 1260, 'everybodi': 1261, 'gag': 1262, 'slowli': 1263, 'hotel': 1264, 'hire': 1265, 'system': 1266, 'thrown': 1267, 'charl': 1268, 'adam': 1269, 'hey': 1270, 'individu': 1271, 'mediocr': 1272, 'allen': 1273, 'jone': 1274, 'lesson': 1275, 'billi': 1276, 'ray': 1277, 'photographi': 1278, 'cameo': 1279, 'fellow': 1280, 'pari': 1281, 'strike': 1282, 'brief': 1283, 'rise': 1284, 'absurd': 1285, 'independ': 1286, 'neg': 1287, 'phone': 1288, 'impact': 1289, 'born': 1290, 'model': 1291, 'ill': 1292, 'angl': 1293, 'spoil': 1294, 'fresh': 1295, 'likabl': 1296, 'abus': 1297, 'hill': 1298, 'discuss': 1299, 'ahead': 1300, 'sight': 1301, 'photograph': 1302, 'sent': 1303, 'blame': 1304, 'logic': 1305, 'shine': 1306, 'occur': 1307, 'bruce': 1308, 'mainli': 1309, 'forev': 1310, 'commerci': 1311, 'skip': 1312, 'teacher': 1313, 'surround': 1314, 'segment': 1315, 'held': 1316, 'zero': 1317, 'blond': 1318, 'resembl': 1319, 'trap': 1320, 'summer': 1321, 'satir': 1322, 'six': 1323, 'fool': 1324, 'ball': 1325, 'queen': 1326, 'tragedi': 1327, 'twice': 1328, 'sub': 1329, 'pack': 1330, 'reaction': 1331, 'bomb': 1332, 'will': 1333, 'hospit': 1334, 'protagonist': 1335, 'sport': 1336, 'mile': 1337, 'mom': 1338, 'jerri': 1339, 'trust': 1340, 'vote': 1341, 'drink': 1342, 'encount': 1343, 'plane': 1344, 'current': 1345, 'al': 1346, 'program': 1347, 'station': 1348, 'choos': 1349, 'celebr': 1350, 'martin': 1351, 'join': 1352, 'tragic': 1353, 'favourit': 1354, 'lord': 1355, 'field': 1356, 'round': 1357, 'jean': 1358, 'vision': 1359, 'robot': 1360, 'arthur': 1361, 'tie': 1362, 'random': 1363, 'roger': 1364, 'fortun': 1365, 'intern': 1366, 'dread': 1367, 'psycholog': 1368, 'epic': 1369, 'improv': 1370, 'prefer': 1371, 'nonsens': 1372, 'pleasur': 1373, 'formula': 1374, 'legend': 1375, 'highlight': 1376, 'dollar': 1377, '11': 1378, 'tape': 1379, 'thin': 1380, 'gorgeou': 1381, 'wide': 1382, 'fox': 1383, 'object': 1384, 'porn': 1385, 'influenc': 1386, 'ugli': 1387, 'buddi': 1388, 'ii': 1389, 'prepar': 1390, 'nasti': 1391, 'reflect': 1392, 'warm': 1393, 'supposedli': 1394, 'progress': 1395, 'youth': 1396, 'worthi': 1397, 'unusu': 1398, 'latter': 1399, 'length': 1400, 'crash': 1401, 'superior': 1402, 'childhood': 1403, 'shop': 1404, 'seven': 1405, 'theatr': 1406, 'remot': 1407, 'disgust': 1408, 'paid': 1409, 'pilot': 1410, 'funniest': 1411, 'convers': 1412, 'trick': 1413, 'fell': 1414, 'castl': 1415, 'disast': 1416, 'rob': 1417, 'gangster': 1418, 'establish': 1419, 'mine': 1420, 'ident': 1421, 'heaven': 1422, 'suicid': 1423, 'disappear': 1424, 'mask': 1425, 'tend': 1426, 'forgotten': 1427, 'heroin': 1428, 'decis': 1429, 'singer': 1430, 'partner': 1431, 'brian': 1432, 'desert': 1433, 'alan': 1434, 'recogn': 1435, 'stuck': 1436, 'sky': 1437, 'ms': 1438, 'p': 1439, 'thoroughli': 1440, 'replac': 1441, 'accur': 1442, 'market': 1443, 'uncl': 1444, 'commentari': 1445, 'clue': 1446, 'danni': 1447, 'seemingli': 1448, 'eddi': 1449, 'andi': 1450, 'jackson': 1451, 'devil': 1452, 'that': 1453, 'pair': 1454, 'refus': 1455, 'therefor': 1456, 'unit': 1457, 'fault': 1458, 'ed': 1459, 'fate': 1460, 'accid': 1461, 'river': 1462, 'afraid': 1463, 'tune': 1464, 'russian': 1465, 'hidden': 1466, 'stephen': 1467, 'clean': 1468, 'convey': 1469, 'readi': 1470, 'quick': 1471, 'test': 1472, 'irrit': 1473, 'instanc': 1474, 'captain': 1475, 'european': 1476, 'insan': 1477, 'frustrat': 1478, 'daniel': 1479, 'rescu': 1480, '1950': 1481, 'wed': 1482, 'food': 1483, 'chines': 1484, 'lock': 1485, 'angri': 1486, 'dirti': 1487, 'joy': 1488, 'price': 1489, 'steven': 1490, 'bland': 1491, 'cage': 1492, 'rang': 1493, 'anymor': 1494, 'wooden': 1495, 'rush': 1496, 'news': 1497, 'jason': 1498, 'n': 1499, 'led': 1500, 'twenti': 1501, 'martial': 1502, 'board': 1503, 'worri': 1504, '12': 1505, 'hunter': 1506, 'cgi': 1507, 'transform': 1508, 'symbol': 1509, 'piti': 1510, 'sentiment': 1511, 'johnni': 1512, 'invent': 1513, 'x': 1514, 'onto': 1515, 'explan': 1516, 'attitud': 1517, 'process': 1518, 'owner': 1519, 'awar': 1520, 'aim': 1521, 'favor': 1522, 'floor': 1523, 'energi': 1524, 'target': 1525, 'necessari': 1526, 'religi': 1527, 'opposit': 1528, 'chick': 1529, 'window': 1530, 'blind': 1531, 'insight': 1532, 'movement': 1533, 'mountain': 1534, 'possess': 1535, 'research': 1536, 'deepli': 1537, 'comparison': 1538, 'rain': 1539, 'grand': 1540, 'comed': 1541, 'whatsoev': 1542, 'mid': 1543, 'began': 1544, 'shadow': 1545, 'bank': 1546, 'princ': 1547, 'parodi': 1548, 'taylor': 1549, 'credibl': 1550, 'weapon': 1551, 'friendship': 1552, 'pre': 1553, 'dougla': 1554, 'teach': 1555, 'flesh': 1556, 'protect': 1557, 'bloodi': 1558, 'hint': 1559, 'terror': 1560, 'marvel': 1561, 'anybodi': 1562, 'drunk': 1563, 'leader': 1564, 'load': 1565, 'watchabl': 1566, 'superman': 1567, 'accord': 1568, 'brown': 1569, 'freddi': 1570, 'appropri': 1571, 'jeff': 1572, 'hitler': 1573, 'tim': 1574, 'seat': 1575, 'villag': 1576, 'keaton': 1577, 'knock': 1578, 'unknown': 1579, 'charg': 1580, 'empti': 1581, 'unnecessari': 1582, 'england': 1583, 'media': 1584, 'enemi': 1585, 'dare': 1586, 'perspect': 1587, 'strength': 1588, 'utter': 1589, 'buck': 1590, 'wave': 1591, 'craft': 1592, 'kiss': 1593, 'nativ': 1594, 'ford': 1595, 'correct': 1596, 'contrast': 1597, 'distract': 1598, 'speed': 1599, 'anywher': 1600, 'magnific': 1601, 'soap': 1602, 'chill': 1603, 'knowledg': 1604, 'nazi': 1605, '1980': 1606, 'mission': 1607, 'breath': 1608, 'ice': 1609, 'fred': 1610, 'crowd': 1611, 'jr': 1612, 'moon': 1613, 'joan': 1614, 'soft': 1615, '000': 1616, 'kate': 1617, 'frighten': 1618, 'hundr': 1619, 'dan': 1620, 'dick': 1621, 'nick': 1622, 'dozen': 1623, 'somebodi': 1624, 'radio': 1625, 'simon': 1626, 'thousand': 1627, 'shakespear': 1628, 'loss': 1629, 'academi': 1630, 'andrew': 1631, 'quot': 1632, 'vehicl': 1633, 'root': 1634, 'sum': 1635, 'account': 1636, 'leg': 1637, 'convent': 1638, '1970': 1639, 'behavior': 1640, 'gold': 1641, 'regular': 1642, 'demand': 1643, 'worker': 1644, 'compet': 1645, 'pretenti': 1646, 'japan': 1647, 'explos': 1648, 'stretch': 1649, 'interpret': 1650, 'lynch': 1651, 'privat': 1652, 'notabl': 1653, 'candi': 1654, 'debut': 1655, 'tarzan': 1656, 'constant': 1657, 'sea': 1658, 'spi': 1659, 'revolv': 1660, 'translat': 1661, 'prais': 1662, 'threaten': 1663, 'franc': 1664, 'technolog': 1665, 'quiet': 1666, 'failur': 1667, 'jesu': 1668, 'ass': 1669, 'sat': 1670, 'kevin': 1671, 'met': 1672, 'higher': 1673, 'punch': 1674, 'aid': 1675, 'toy': 1676, 'vh': 1677, 'mike': 1678, 'abandon': 1679, 'interact': 1680, 'confront': 1681, 'separ': 1682, 'command': 1683, 'bet': 1684, 'recal': 1685, 'site': 1686, 'gotten': 1687, 'stunt': 1688, 'techniqu': 1689, 'belong': 1690, 'servic': 1691, 'freak': 1692, 'cabl': 1693, 'foot': 1694, 'bug': 1695, 'fu': 1696, 'capabl': 1697, 'african': 1698, 'jimmi': 1699, 'bright': 1700, 'fat': 1701, 'clark': 1702, 'presid': 1703, 'succeed': 1704, 'stock': 1705, 'boat': 1706, 'gene': 1707, 'spanish': 1708, 'structur': 1709, 'paper': 1710, 'kidnap': 1711, 'whilst': 1712, 'factor': 1713, 'belief': 1714, 'tree': 1715, 'bob': 1716, 'witti': 1717, 'realism': 1718, 'attend': 1719, 'educ': 1720, 'complic': 1721, 'realis': 1722, 'finest': 1723, 'broken': 1724, 'santa': 1725, 'assist': 1726, 'observ': 1727, 'smoke': 1728, 'determin': 1729, 'up': 1730, 'depart': 1731, 'v': 1732, 'oper': 1733, 'domin': 1734, 'rubbish': 1735, 'fame': 1736, 'routin': 1737, 'lewi': 1738, 'hat': 1739, 'lone': 1740, 'advanc': 1741, 'foreign': 1742, 'morgan': 1743, 'kinda': 1744, 'hook': 1745, 'safe': 1746, 'numer': 1747, 'rank': 1748, 'shallow': 1749, 'shape': 1750, 'vs': 1751, 'washington': 1752, 'rose': 1753, 'civil': 1754, 'werewolf': 1755, 'gari': 1756, 'morn': 1757, 'winner': 1758, 'accomplish': 1759, 'ordinari': 1760, 'kong': 1761, 'whenev': 1762, 'peac': 1763, 'virtual': 1764, 'grab': 1765, 'luck': 1766, 'h': 1767, 'offens': 1768, 'complain': 1769, 'welcom': 1770, 'unfunni': 1771, 'bigger': 1772, 'contriv': 1773, 'activ': 1774, 'patient': 1775, 'con': 1776, 'dimension': 1777, 'trek': 1778, 'pretend': 1779, 'dri': 1780, 'code': 1781, 'lesbian': 1782, 'flash': 1783, 'eric': 1784, 'wake': 1785, 'cain': 1786, 'dancer': 1787, 'corrupt': 1788, 'guard': 1789, 'albert': 1790, 'statu': 1791, 'manipul': 1792, 'gain': 1793, 'sourc': 1794, 'signific': 1795, 'speech': 1796, 'awkward': 1797, 'context': 1798, 'sean': 1799, 'corni': 1800, 'anthoni': 1801, '13': 1802, 'clip': 1803, 'psycho': 1804, 'curiou': 1805, 'theatric': 1806, 'reli': 1807, 'advic': 1808, 'priest': 1809, 'w': 1810, 'religion': 1811, 'addict': 1812, 'flow': 1813, 'howard': 1814, 'specif': 1815, 'skin': 1816, 'secur': 1817, 'asian': 1818, 'jennif': 1819, 'core': 1820, 'luke': 1821, 'promot': 1822, 'comfort': 1823, 'golden': 1824, 'organ': 1825, 'lucki': 1826, 'cheat': 1827, 'cash': 1828, 'dislik': 1829, 'lower': 1830, 'associ': 1831, 'balanc': 1832, 'wing': 1833, 'frequent': 1834, 'frankli': 1835, 'contribut': 1836, 'devic': 1837, 'spell': 1838, 'degre': 1839, 'regret': 1840, 'sake': 1841, 'forgiv': 1842, 'lake': 1843, 'print': 1844, 'thoma': 1845, 'mass': 1846, 'betti': 1847, 'gordon': 1848, 'unexpect': 1849, 'crack': 1850, 'amateur': 1851, 'depend': 1852, 'categori': 1853, 'grown': 1854, 'construct': 1855, 'unfold': 1856, 'invit': 1857, 'grew': 1858, 'honor': 1859, 'intellectu': 1860, 'matur': 1861, 'anna': 1862, 'condit': 1863, 'walter': 1864, 'sole': 1865, 'sudden': 1866, 'mirror': 1867, 'spectacular': 1868, 'veteran': 1869, 'meanwhil': 1870, 'demonstr': 1871, 'gift': 1872, 'liner': 1873, 'overli': 1874, 'freedom': 1875, 'robin': 1876, 'grip': 1877, 'card': 1878, 'experienc': 1879, 'theori': 1880, 'drew': 1881, 'subtitl': 1882, 'sheriff': 1883, 'unabl': 1884, 'crappi': 1885, 'brilliantli': 1886, 'circumst': 1887, 'colour': 1888, 'section': 1889, 'oliv': 1890, 'pile': 1891, 'matt': 1892, 'laughter': 1893, 'path': 1894, 'parker': 1895, 'altern': 1896, 'cook': 1897, 'sheer': 1898, 'treatment': 1899, 'wander': 1900, 'relief': 1901, 'accident': 1902, 'defin': 1903, 'hall': 1904, 'sinatra': 1905, 'lawyer': 1906, 'captiv': 1907, 'hank': 1908, 'dragon': 1909, 'moor': 1910, 'gratuit': 1911, 'halloween': 1912, 'kung': 1913, 'cowboy': 1914, 'wound': 1915, 'unintent': 1916, 'barbara': 1917, 'k': 1918, 'broadway': 1919, 'wayn': 1920, 'jacki': 1921, 'spoof': 1922, 'canadian': 1923, 'winter': 1924, 'statement': 1925, 'surreal': 1926, 'fare': 1927, 'compos': 1928, 'gonna': 1929, 'treasur': 1930, 'cheer': 1931, 'fish': 1932, 'sensit': 1933, 'unrealist': 1934, 'emerg': 1935, 'woodi': 1936, 'victor': 1937, 'driven': 1938, 'neighbor': 1939, 'ran': 1940, 'sympathet': 1941, 'expos': 1942, 'authent': 1943, 'menac': 1944, 'topic': 1945, 'glass': 1946, 'overlook': 1947, 'handsom': 1948, 'chief': 1949, 'michel': 1950, 'gross': 1951, 'ancient': 1952, 'feet': 1953, 'comedian': 1954, 'contemporari': 1955, 'russel': 1956, 'stranger': 1957, 'pleasant': 1958, 'network': 1959, 'cinderella': 1960, 'nevertheless': 1961, 'built': 1962, 'consider': 1963, 'underr': 1964, 'miser': 1965, 'letter': 1966, 'blockbust': 1967, 'earn': 1968, 'endless': 1969, 'gori': 1970, 'brook': 1971, 'solv': 1972, 'switch': 1973, 'convict': 1974, 'bullet': 1975, 'virgin': 1976, 'victoria': 1977, 'joseph': 1978, 'edward': 1979, '0': 1980, 'chosen': 1981, 'cynic': 1982, 'scenario': 1983, 'scale': 1984, 'alex': 1985, 'com': 1986, 'outrag': 1987, 'curs': 1988, 'gut': 1989, 'sword': 1990, 'screenwrit': 1991, 'uk': 1992, 'proper': 1993, 'driver': 1994, 'wrap': 1995, 'monkey': 1996, 'juli': 1997, 'substanc': 1998, 'bird': 1999, 'indic': 2000, 'court': 2001, 'remov': 2002, 'par': 2003, 'naiv': 2004, 'loser': 2005, 'inevit': 2006, 'advertis': 2007, 'nanci': 2008, 'grave': 2009, 'consequ': 2010, 'rental': 2011, 'roy': 2012, 'bridg': 2013, 'slap': 2014, 'invis': 2015, 'fatal': 2016, 'germani': 2017, 'brave': 2018, 'le': 2019, 'provok': 2020, 'loui': 2021, 'ador': 2022, 'footbal': 2023, 'anger': 2024, 'alcohol': 2025, 'anderson': 2026, 'chan': 2027, 'willi': 2028, 'stumbl': 2029, 'professor': 2030, 'ryan': 2031, 'patrick': 2032, 'australian': 2033, '1930': 2034, 'sharp': 2035, 'assassin': 2036, 'bat': 2037, 'cell': 2038, 'liber': 2039, 'amateurish': 2040, 'saturday': 2041, 'heck': 2042, 'strongli': 2043, 'ape': 2044, 'deni': 2045, 'eight': 2046, 'refresh': 2047, 'lousi': 2048, 'trilog': 2049, 'sin': 2050, 'resid': 2051, 'vagu': 2052, 'san': 2053, 'justifi': 2054, 'mini': 2055, 'sympathi': 2056, 'indi': 2057, 'terrifi': 2058, 'creator': 2059, 'reput': 2060, 'defeat': 2061, 'task': 2062, 'expert': 2063, 'tediou': 2064, 'endur': 2065, 'prevent': 2066, 'tabl': 2067, 'offend': 2068, 'trial': 2069, 'rival': 2070, 'employ': 2071, 'basebal': 2072, 'imit': 2073, 'che': 2074, 'dig': 2075, 'max': 2076, 'pitch': 2077, 'fairi': 2078, 'beach': 2079, 'complaint': 2080, 'weekend': 2081, 'europ': 2082, 'purchas': 2083, 'format': 2084, 'risk': 2085, 'murphi': 2086, 'harsh': 2087, 'glimps': 2088, 'bite': 2089, 'hype': 2090, 'tini': 2091, 'titan': 2092, 'powel': 2093, 'reminisc': 2094, 'nois': 2095, 'till': 2096, 'prime': 2097, 'strip': 2098, 'asleep': 2099, 'north': 2100, '14': 2101, 'fals': 2102, 'texa': 2103, 'africa': 2104, 'revel': 2105, 'descript': 2106, 'destruct': 2107, 'surfac': 2108, 'uninterest': 2109, 'spin': 2110, 'semi': 2111, 'arrest': 2112, 'excess': 2113, 'inner': 2114, 'sitcom': 2115, 'twin': 2116, 'controversi': 2117, 'makeup': 2118, 'argu': 2119, 'dinosaur': 2120, 'hitchcock': 2121, 'massiv': 2122, 'maintain': 2123, 'insist': 2124, 'stare': 2125, 'melodrama': 2126, 'ludicr': 2127, 'kim': 2128, 'reject': 2129, 'expens': 2130, 'ideal': 2131, 'press': 2132, 'erot': 2133, 'forest': 2134, 'ga': 2135, 'subplot': 2136, 'nail': 2137, 'atroci': 2138, 'supernatur': 2139, 'host': 2140, 'ala': 2141, 'columbo': 2142, 'notch': 2143, 'presum': 2144, 'dude': 2145, 'cant': 2146, 'identifi': 2147, 'method': 2148, 'plagu': 2149, 'guest': 2150, 'forgett': 2151, 'character': 2152, 'crude': 2153, 'closer': 2154, 'landscap': 2155, 'princess': 2156, 'beast': 2157, 'ear': 2158, 'lion': 2159, 'foster': 2160, 'border': 2161, 'storytel': 2162, 'aunt': 2163, 'previous': 2164, 'bound': 2165, 'jungl': 2166, 'birth': 2167, 'pacino': 2168, 'urban': 2169, 'accus': 2170, 'damag': 2171, 'jess': 2172, 'guid': 2173, 'chose': 2174, 'nude': 2175, 'propaganda': 2176, 'thirti': 2177, 'emma': 2178, 'doll': 2179, 'mainstream': 2180, 'pet': 2181, '25': 2182, 'mate': 2183, 'warrior': 2184, 'whoever': 2185, 'cooper': 2186, 'merit': 2187, 'upset': 2188, 'gritti': 2189, 'size': 2190, 'exact': 2191, 'friday': 2192, 'poster': 2193, 'deadli': 2194, 'latest': 2195, 'sun': 2196, 'wilson': 2197, 'settl': 2198, 'corps': 2199, 'contact': 2200, 'buff': 2201, 'ton': 2202, 'popul': 2203, '1990': 2204, 'warner': 2205, 'blend': 2206, 'citizen': 2207, 'rough': 2208, 'contest': 2209, 'environ': 2210, 'overcom': 2211, 'mgm': 2212, 'widow': 2213, 'select': 2214, 'alic': 2215, 'pitt': 2216, 'bu': 2217, 'rat': 2218, 'metal': 2219, 'link': 2220, 'lift': 2221, 'particip': 2222, 'revolut': 2223, 'ted': 2224, 'guilti': 2225, 'corpor': 2226, 'prostitut': 2227, 'corner': 2228, 'johnson': 2229, '1960': 2230, 'moron': 2231, 'matrix': 2232, 'accompani': 2233, 'exagger': 2234, 'afternoon': 2235, 'friendli': 2236, 'sincer': 2237, 'leagu': 2238, 'holm': 2239, 'hood': 2240, 'multipl': 2241, 'doom': 2242, 'instal': 2243, 'clair': 2244, 'hip': 2245, 'irish': 2246, 'string': 2247, 'lugosi': 2248, 'campi': 2249, 'advis': 2250, 'defend': 2251, 'junk': 2252, 'examin': 2253, 'sunday': 2254, 'aka': 2255, 'blah': 2256, 'grim': 2257, 'pro': 2258, 'tight': 2259, 'shut': 2260, 'icon': 2261, 'shake': 2262, 'confid': 2263, 'varieti': 2264, 'rachel': 2265, 'medic': 2266, 'attach': 2267, 'sullivan': 2268, 'jaw': 2269, 'directli': 2270, 'goal': 2271, 'denni': 2272, 'mexican': 2273, 'courag': 2274, 'legendari': 2275, 'duke': 2276, 'terrorist': 2277, 'prior': 2278, 'truck': 2279, 'sarah': 2280, 'sentenc': 2281, 'breast': 2282, 'bourn': 2283, 'vietnam': 2284, 'dean': 2285, 'yell': 2286, 'un': 2287, 'proceed': 2288, 'split': 2289, 'behav': 2290, 'donald': 2291, 'nose': 2292, 'entri': 2293, 'hong': 2294, 'unconvinc': 2295, 'forth': 2296, 'buri': 2297, 'jerk': 2298, 'concentr': 2299, 'stolen': 2300, 'gather': 2301, 'everywher': 2302, 'lifetim': 2303, 'confess': 2304, 'swim': 2305, 'borrow': 2306, 'crush': 2307, 'pan': 2308, 'julia': 2309, 'deliveri': 2310, 'california': 2311, 'turkey': 2312, 'lip': 2313, 'spite': 2314, 'offici': 2315, 'downright': 2316, 'flight': 2317, 'china': 2318, 'quest': 2319, 'hoffman': 2320, 'proud': 2321, 'reward': 2322, 'freeman': 2323, 'worthwhil': 2324, 'lazi': 2325, 'sink': 2326, 'jon': 2327, 'jail': 2328, 'notori': 2329, 'inept': 2330, 'sir': 2331, 'betray': 2332, 'fade': 2333, 'fabul': 2334, 'encourag': 2335, 'imageri': 2336, 'relev': 2337, 'branagh': 2338, 'storm': 2339, 'shower': 2340, 'retard': 2341, 'bag': 2342, 'lisa': 2343, 'cousin': 2344, 'teeth': 2345, 'bell': 2346, 'survivor': 2347, 'susan': 2348, 'trade': 2349, 'facial': 2350, 'summari': 2351, 'quirki': 2352, 'tremend': 2353, 'finger': 2354, 'mexico': 2355, 'stab': 2356, 'toler': 2357, 'bride': 2358, 'shark': 2359, 'alright': 2360, 'hugh': 2361, 'hyster': 2362, 'pose': 2363, 'bitter': 2364, 'blown': 2365, 'ha': 2366, 'von': 2367, 'ron': 2368, 'afterward': 2369, 'cruel': 2370, 'ned': 2371, 'address': 2372, 'christ': 2373, 'larri': 2374, 'scheme': 2375, 'bone': 2376, 'swear': 2377, 'beg': 2378, 'traci': 2379, 'distinct': 2380, 'pursu': 2381, 'snake': 2382, 'feed': 2383, 'thumb': 2384, 'screw': 2385, 'tour': 2386, 'chair': 2387, 'photo': 2388, 'obscur': 2389, 'occas': 2390, 'raw': 2391, 'stomach': 2392, 'mechan': 2393, 'cabin': 2394, 'necessarili': 2395, 'chain': 2396, 'holiday': 2397, 'sidney': 2398, 'southern': 2399, 'heavili': 2400, 'render': 2401, 'resist': 2402, 'gruesom': 2403, 'argument': 2404, 'hardi': 2405, 'indulg': 2406, 'india': 2407, 'satan': 2408, 'understood': 2409, 'racist': 2410, 'philip': 2411, 'tongu': 2412, 'midnight': 2413, 'obnoxi': 2414, 'pregnant': 2415, 'integr': 2416, 'fourth': 2417, 'forgot': 2418, 'lay': 2419, 'outfit': 2420, 'stalk': 2421, 'belov': 2422, 'inhabit': 2423, 'magazin': 2424, '17': 2425, 'restor': 2426, 'carol': 2427, 'deeper': 2428, 'ticket': 2429, 'slapstick': 2430, 'garden': 2431, 'devot': 2432, 'lincoln': 2433, 'shoe': 2434, 'brad': 2435, 'incid': 2436, 'guarante': 2437, 'maria': 2438, 'benefit': 2439, 'divorc': 2440, 'sandler': 2441, 'underground': 2442, 'disbelief': 2443, 'elizabeth': 2444, 'lili': 2445, 'anticip': 2446, 'princip': 2447, 'explod': 2448, 'amazingli': 2449, 'creation': 2450, 'greater': 2451, 'mildli': 2452, 'capit': 2453, 'cring': 2454, 'slave': 2455, 'bbc': 2456, 'halfway': 2457, 'introduct': 2458, 'lesli': 2459, 'extraordinari': 2460, 'funnier': 2461, 'transfer': 2462, 'tap': 2463, 'advantag': 2464, 'punish': 2465, 'enhanc': 2466, 'text': 2467, 'overwhelm': 2468, 'wreck': 2469, 'extent': 2470, 'plant': 2471, 'horrif': 2472, 'lo': 2473, 'jessica': 2474, 'error': 2475, 'preview': 2476, 'deliber': 2477, 'dynam': 2478, 'east': 2479, 'lane': 2480, 'homosexu': 2481, 'vincent': 2482, 'miscast': 2483, 'appli': 2484, 'sophist': 2485, '2000': 2486, 'ensu': 2487, 'basi': 2488, 'miller': 2489, 'vacat': 2490, 'sleazi': 2491, 'measur': 2492, 'elev': 2493, 'mansion': 2494, 'extend': 2495, 'reed': 2496, 'steel': 2497, 'uncomfort': 2498, 'via': 2499, 'bollywood': 2500, 'spoken': 2501, 'assign': 2502, 'alter': 2503, 'conceiv': 2504, 'blair': 2505, 'melt': 2506, 'cathol': 2507, 'goofi': 2508, 'stanley': 2509, 'breathtak': 2510, 'fix': 2511, 'hippi': 2512, 'beer': 2513, 'daili': 2514, 'overact': 2515, 'mous': 2516, 'savag': 2517, 'dentist': 2518, 'everyday': 2519, 'succe': 2520, 'carpent': 2521, 'subsequ': 2522, 'sacrific': 2523, 'burt': 2524, 'properli': 2525, 'oppos': 2526, 'nowaday': 2527, 'inspector': 2528, 'circl': 2529, 'massacr': 2530, 'block': 2531, 'neck': 2532, 'laura': 2533, 'christi': 2534, 'concert': 2535, 'fallen': 2536, 'portrait': 2537, 'mob': 2538, 'access': 2539, 'pool': 2540, 'fay': 2541, 'grey': 2542, 'lesser': 2543, 'seagal': 2544, 'competit': 2545, 'usa': 2546, 'relax': 2547, 'react': 2548, 'isol': 2549, 'chees': 2550, 'jake': 2551, 'sinist': 2552, 'jewish': 2553, 'nine': 2554, 'appal': 2555, 'immens': 2556, 'creep': 2557, '2006': 2558, 'stink': 2559, 'chop': 2560, 'lyric': 2561, 'spiritu': 2562, 'nonetheless': 2563, 'ironi': 2564, 'suitabl': 2565, 'adopt': 2566, 'needless': 2567, 'nut': 2568, 'spring': 2569, 'retir': 2570, 'rage': 2571, 'navi': 2572, 'franchis': 2573, 'luci': 2574, 'reduc': 2575, 'showcas': 2576, 'user': 2577, 'sold': 2578, 'shirt': 2579, 'uninspir': 2580, 'digit': 2581, 'bath': 2582, 'jay': 2583, 'nurs': 2584, 'bulli': 2585, 'asham': 2586, 'zone': 2587, 'per': 2588, 'stanwyck': 2589, 'illustr': 2590, 'oddli': 2591, 'broadcast': 2592, 'upper': 2593, '1940': 2594, '2001': 2595, 'amongst': 2596, 'sutherland': 2597, 'laid': 2598, 'throat': 2599, 'baker': 2600, 'disguis': 2601, 'stylish': 2602, 'aspir': 2603, 'fulfil': 2604, 'brando': 2605, 'pride': 2606, 'endear': 2607, 'thief': 2608, 'em': 2609, 'wwii': 2610, 'nobl': 2611, 'wanna': 2612, '18': 2613, 'neighborhood': 2614, 'pound': 2615, 'impli': 2616, '16': 2617, 'distribut': 2618, 'tens': 2619, 'dinner': 2620, 'shift': 2621, 'bett': 2622, 'coher': 2623, 'bo': 2624, 'diseas': 2625, 'albeit': 2626, 'shoulder': 2627, 'prop': 2628, 'dawn': 2629, 'rochest': 2630, 'cinematograph': 2631, 'snow': 2632, 'silenc': 2633, 'forti': 2634, 'rebel': 2635, 'knife': 2636, 'poignant': 2637, 'function': 2638, 'matthau': 2639, 'wash': 2640, 'contract': 2641, 'surf': 2642, 'shout': 2643, 'heat': 2644, 'proof': 2645, 'height': 2646, 'henc': 2647, 'silver': 2648, 'derek': 2649, 'mindless': 2650, 'chuck': 2651, 'reunion': 2652, 'elvira': 2653, 'cancel': 2654, 'internet': 2655, 'horrend': 2656, 'widmark': 2657, 'duti': 2658, 'instinct': 2659, 'cannib': 2660, 'eeri': 2661, 'greatli': 2662, 'musician': 2663, 'alik': 2664, 'incoher': 2665, 'etern': 2666, 'absorb': 2667, 'glori': 2668, 'mill': 2669, 'premier': 2670, 'torn': 2671, 'repetit': 2672, 'spielberg': 2673, 'elvi': 2674, 'neat': 2675, 'innov': 2676, 'pie': 2677, 'itali': 2678, 'trite': 2679, 'redempt': 2680, 'lovabl': 2681, 'fbi': 2682, 'britain': 2683, 'precis': 2684, 'wealthi': 2685, 'announc': 2686, 'nelson': 2687, 'burton': 2688, 'blank': 2689, 'diamond': 2690, 'bang': 2691, 'horrifi': 2692, 'crisi': 2693, 'infam': 2694, 'racism': 2695, 'homag': 2696, 'helen': 2697, 'hammer': 2698, 'dedic': 2699, 'wilder': 2700, 'ensembl': 2701, 'flop': 2702, 'chaplin': 2703, 'happili': 2704, 'streisand': 2705, 'parallel': 2706, 'pat': 2707, 'resolut': 2708, 'broke': 2709, 'conclud': 2710, 'mar': 2711, 'st': 2712, 'factori': 2713, 'carter': 2714, 'disagre': 2715, 'triumph': 2716, 'cube': 2717, 'plastic': 2718, 'oil': 2719, 'fighter': 2720, 'own': 2721, 'climb': 2722, 'weight': 2723, 'march': 2724, 'bush': 2725, 'chuckl': 2726, 'row': 2727, 'vega': 2728, 'rocket': 2729, 'lust': 2730, 'thug': 2731, 'wherea': 2732, 'kurt': 2733, 'spare': 2734, 'unforgett': 2735, 'dump': 2736, 'enorm': 2737, 'meaning': 2738, 'boot': 2739, 'luca': 2740, 'mst3k': 2741, 'sensibl': 2742, 'dane': 2743, 'stress': 2744, 'arnold': 2745, 'engin': 2746, 'threat': 2747, 'karloff': 2748, 'adequ': 2749, 'caricatur': 2750, 'brand': 2751, 'bobbi': 2752, 'difficulti': 2753, 'fifti': 2754, 'dear': 2755, 'butt': 2756, 'rap': 2757, 'swing': 2758, 'secretari': 2759, 'polish': 2760, 'fest': 2761, 'ego': 2762, 'journalist': 2763, 'homeless': 2764, 'ralph': 2765, 'elabor': 2766, 'arrog': 2767, 'flynn': 2768, 'barri': 2769, 'hamlet': 2770, 'unbear': 2771, 'resort': 2772, 'float': 2773, 'tool': 2774, 'grate': 2775, 'simpson': 2776, 'fanci': 2777, 'conspiraci': 2778, 'spike': 2779, 'puppet': 2780, 'induc': 2781, 'arrang': 2782, 'exercis': 2783, 'cruis': 2784, 'tribut': 2785, 'guilt': 2786, 'pig': 2787, 'muppet': 2788, 'boll': 2789, 'choreograph': 2790, 'basement': 2791, 'phillip': 2792, 'puzzl': 2793, 'korean': 2794, 'ham': 2795, 'toilet': 2796, 'babe': 2797, 'layer': 2798, 'file': 2799, 'editor': 2800, 'ward': 2801, 'fianc': 2802, 'medium': 2803, 'slip': 2804, 'stan': 2805, 'item': 2806, 'document': 2807, '24': 2808, 'tower': 2809, 'scarecrow': 2810, 'spark': 2811, 'transit': 2812, 'territori': 2813, 'larger': 2814, 'doc': 2815, 'assur': 2816, 'superfici': 2817, 'glover': 2818, 'catherin': 2819, 'librari': 2820, 'persona': 2821, 'philosoph': 2822, 'denzel': 2823, 'slaughter': 2824, 'minim': 2825, 'orient': 2826, 'inexplic': 2827, 'portion': 2828, 'walken': 2829, 'ban': 2830, 'jeremi': 2831, 'pg': 2832, 'shi': 2833, 'sneak': 2834, 'owe': 2835, 'wolf': 2836, 'financi': 2837, 'boredom': 2838, 'jet': 2839, 'dorothi': 2840, 'curti': 2841, 'backdrop': 2842, 'profound': 2843, 'eleph': 2844, 'cusack': 2845, 'whale': 2846, 'multi': 2847, 'metaphor': 2848, 'ambigu': 2849, 'hudson': 2850, 'union': 2851, 'notion': 2852, 'stiff': 2853, 'rave': 2854, 'elsewher': 2855, 'implaus': 2856, 'birthday': 2857, 'viru': 2858, '2005': 2859, 'gadget': 2860, 'ultra': 2861, 'hack': 2862, 'distanc': 2863, 'slight': 2864, 'eastwood': 2865, 'reader': 2866, 'afford': 2867, 'poison': 2868, 'urg': 2869, 'bibl': 2870, 'squar': 2871, 'canada': 2872, '1st': 2873, 'disc': 2874, 'newspap': 2875, 'pad': 2876, 'superhero': 2877, 'hawk': 2878, 'deriv': 2879, 'eva': 2880, 'lloyd': 2881, 'montag': 2882, 'spread': 2883, 'drown': 2884, 'huh': 2885, 'cure': 2886, 'essenc': 2887, 'charisma': 2888, 'button': 2889, 'restaur': 2890, 'skit': 2891, 'health': 2892, 'sadist': 2893, 'heston': 2894, 'companion': 2895, 'peak': 2896, 'muslim': 2897, 'lab': 2898, 'scoobi': 2899, 'invest': 2900, 'gradual': 2901, 'dealt': 2902, 'fetch': 2903, 'godfath': 2904, 'estat': 2905, 'maniac': 2906, 'miik': 2907, 'gothic': 2908, 'subtleti': 2909, 'countless': 2910, 'cup': 2911, 'ritter': 2912, 'servant': 2913, 'kane': 2914, 'alli': 2915, 'tea': 2916, 'elect': 2917, 'charismat': 2918, 'electr': 2919, 'heroic': 2920, 'salli': 2921, 'briefli': 2922, 'iii': 2923, 'grandmoth': 2924, 'toss': 2925, 'reel': 2926, 'wannab': 2927, 'tender': 2928, 'ingredi': 2929, 'nuanc': 2930, 'cole': 2931, 'resourc': 2932, 'admittedli': 2933, 'neil': 2934, 'bud': 2935, 'punk': 2936, 'gate': 2937, 'dawson': 2938, 'mild': 2939, 'shall': 2940, 'poverti': 2941, 'stronger': 2942, 'kubrick': 2943, 'carrey': 2944, 'stood': 2945, 'pit': 2946, 'reev': 2947, 'pauli': 2948, 'label': 2949, 'mafia': 2950, 'smash': 2951, 'assault': 2952, 'smooth': 2953, 'burst': 2954, 'cardboard': 2955, 'cox': 2956, 'outcom': 2957, 'fond': 2958, 'terri': 2959, 'ian': 2960, 'useless': 2961, 'tag': 2962, 'easier': 2963, 'updat': 2964, 'astair': 2965, 'bakshi': 2966, 'samurai': 2967, 'qualifi': 2968, 'exchang': 2969, 'vari': 2970, 'increasingli': 2971, 'sketch': 2972, 'coincid': 2973, 'vulner': 2974, '2002': 2975, 'resolv': 2976, 'fist': 2977, 'melodramat': 2978, 'divers': 2979, 'rex': 2980, 'brillianc': 2981, 'luckili': 2982, 'reynold': 2983, 'be': 2984, 'tame': 2985, 'suspend': 2986, 'scratch': 2987, 'blast': 2988, 'templ': 2989, 'conveni': 2990, 'insert': 2991, 'hamilton': 2992, 'strictli': 2993, 'gotta': 2994, 'nuclear': 2995, 'soprano': 2996, 'walker': 2997, 'seventi': 2998, 'farm': 2999, 'matthew': 3000, 'jami': 3001, 'fisher': 3002, 'meat': 3003, 'pin': 3004, 'ambiti': 3005, 'coach': 3006, 'monk': 3007, 'clock': 3008, 'ninja': 3009, 'eccentr': 3010, 'grasp': 3011, 'recreat': 3012, 'brosnan': 3013, 'convolut': 3014, 'instantli': 3015, 'revers': 3016, 'timeless': 3017, 'kudo': 3018, 'struck': 3019, 'discoveri': 3020, 'cave': 3021, 'worthless': 3022, 'empir': 3023, 'joey': 3024, 'closet': 3025, 'spooki': 3026, 'butcher': 3027, 'mitchel': 3028, 'sidekick': 3029, 'partli': 3030, 'importantli': 3031, 'evok': 3032, 'declar': 3033, 'communist': 3034, 'pal': 3035, 'cliff': 3036, 'wipe': 3037, 'eighti': 3038, 'miracl': 3039, 'fifteen': 3040, 'norman': 3041, 'selfish': 3042, 'sloppi': 3043, 'clown': 3044, 'gray': 3045, 'bleak': 3046, 'inconsist': 3047, 'seller': 3048, 'ho': 3049, 'cheek': 3050, 'enthusiast': 3051, 'piano': 3052, 'aforement': 3053, 'farc': 3054, '45': 3055, 'australia': 3056, 'websit': 3057, 'stoog': 3058, 'lifestyl': 3059, 'chew': 3060, 'flawless': 3061, 'seed': 3062, 'psychiatrist': 3063, 'debat': 3064, 'superbl': 3065, 'destin': 3066, 'abc': 3067, 'pressur': 3068, 'bash': 3069, 'anni': 3070, 'drivel': 3071, 'emili': 3072, 'akshay': 3073, 'regardless': 3074, 'directori': 3075, 'dash': 3076, 'soviet': 3077, 'slice': 3078, 'dire': 3079, 'splatter': 3080, 'wrestl': 3081, 'wick': 3082, 'incompet': 3083, 'kitchen': 3084, 'seduc': 3085, 'increas': 3086, 'suppli': 3087, 'duo': 3088, 'lou': 3089, 'jar': 3090, 'boil': 3091, 'artifici': 3092, 'beaten': 3093, 'curios': 3094, 'glow': 3095, 'judi': 3096, 'dave': 3097, 'doo': 3098, 'prize': 3099, 'blob': 3100, 'ken': 3101, 'cagney': 3102, 'distant': 3103, 'helicopt': 3104, 'mann': 3105, 'recov': 3106, 'pleasantli': 3107, 'cameron': 3108, 'cia': 3109, 'chapter': 3110, 'flower': 3111, 'turner': 3112, 'web': 3113, 'goldberg': 3114, 'eleg': 3115, 'hop': 3116, 'combat': 3117, 'favour': 3118, 'psychot': 3119, 'ellen': 3120, 'perri': 3121, 'drunken': 3122, 'splendid': 3123, 'glenn': 3124, 'panic': 3125, 'francisco': 3126, 'laurel': 3127, 'craig': 3128, 'craven': 3129, 'ranger': 3130, 'rid': 3131, 'graduat': 3132, 'shortli': 3133, 'alexand': 3134, 'min': 3135, 'slightest': 3136, 'ruth': 3137, 'flip': 3138, 'plausibl': 3139, 'hatr': 3140, 'gentl': 3141, 'greek': 3142, 'philosophi': 3143, 'fx': 3144, 'wizard': 3145, 'falk': 3146, 'gandhi': 3147, '20th': 3148, 'modesti': 3149, 'jealou': 3150, 'dracula': 3151, 'felix': 3152, 'futurist': 3153, 'ocean': 3154, 'unpleas': 3155, 'manhattan': 3156, 'knight': 3157, 'tall': 3158, 'holi': 3159, 'preciou': 3160, 'legal': 3161, 'fund': 3162, 'we': 3163, 'harm': 3164, 'lend': 3165, 'bless': 3166, 'digniti': 3167, 'overdon': 3168, 'scientif': 3169, 'explicit': 3170, 'tank': 3171, 'forbidden': 3172, 'reviv': 3173, 'childish': 3174, 'mock': 3175, 'nod': 3176, 'giallo': 3177, 'thread': 3178, 'ami': 3179, 'pirat': 3180, 'broad': 3181, 'margaret': 3182, 'thick': 3183, '2004': 3184, 'repeatedli': 3185, 'nerv': 3186, 'awaken': 3187, '99': 3188, 'yesterday': 3189, 'mel': 3190, 'elderli': 3191, 'fever': 3192, 'eve': 3193, 'awe': 3194, 'unwatch': 3195, 'torment': 3196, 'verhoeven': 3197, 'politician': 3198, 'kay': 3199, 'publish': 3200, 'absenc': 3201, 'romero': 3202, 'launch': 3203, 'rivet': 3204, 'ah': 3205, 'uniform': 3206, 'automat': 3207, 'eas': 3208, 'griffith': 3209, 'ambit': 3210, 'timothi': 3211, 'bin': 3212, 'custom': 3213, 'acclaim': 3214, 'stiller': 3215, 'roman': 3216, 'lean': 3217, 'royal': 3218, 'purpl': 3219, 'phrase': 3220, 'transport': 3221, 'tomato': 3222, 'gabriel': 3223, 'darker': 3224, 'stinker': 3225, 'crook': 3226, 'bathroom': 3227, 'pierc': 3228, 'termin': 3229, 'warren': 3230, 'wallac': 3231, 'homicid': 3232, 'foul': 3233, 'antic': 3234, 'pulp': 3235, 'sunshin': 3236, 'eyr': 3237, 'choreographi': 3238, 'horrid': 3239, 'revolutionari': 3240, 'donna': 3241, 'packag': 3242, 'sixti': 3243, 'marin': 3244, 'saint': 3245, 'album': 3246, 'evolv': 3247, 'kenneth': 3248, 'hollow': 3249, 'contrari': 3250, '2003': 3251, 'q': 3252, 'pray': 3253, 'prom': 3254, 'awak': 3255, 'coloni': 3256, 'viciou': 3257, 'li': 3258, 'ought': 3259, 'brazil': 3260, 'rambo': 3261, 'juvenil': 3262, 'karen': 3263, 'ireland': 3264, 'option': 3265, 'nerd': 3266, 'stole': 3267, 'beatti': 3268, 'blade': 3269, 'mildr': 3270, 'dose': 3271, 'twelv': 3272, 'overr': 3273, 'boast': 3274, 'candid': 3275, 'mummi': 3276, 'conserv': 3277, 'kapoor': 3278, 'defi': 3279, 'ramon': 3280, 'global': 3281, 'fulci': 3282, 'collabor': 3283, 'confirm': 3284, 'altman': 3285, 'astonish': 3286, 'trio': 3287, 'natali': 3288, 'detract': 3289, 'funer': 3290, 'protest': 3291, 'flame': 3292, 'jazz': 3293, 'kirk': 3294, 'audio': 3295, 'whip': 3296, 'delici': 3297, 'destini': 3298, 'leap': 3299, 'shade': 3300, 'nicholson': 3301, 'tommi': 3302, 'racial': 3303, 'spit': 3304, 'mystic': 3305, 'bull': 3306, 'blake': 3307, 'bottl': 3308, 'enterpris': 3309, 'yellow': 3310, 'altogeth': 3311, 'reunit': 3312, 'staff': 3313, 'threw': 3314, 'pseudo': 3315, 'vivid': 3316, 'harder': 3317, 'adolesc': 3318, 'enchant': 3319, 'popcorn': 3320, 'fonda': 3321, 'merci': 3322, 'bedroom': 3323, 'swedish': 3324, 'neo': 3325, 'visibl': 3326, 'todd': 3327, 'inherit': 3328, 'meaningless': 3329, 'decor': 3330, 'leonard': 3331, 'wire': 3332, 'kennedi': 3333, 'voight': 3334, 'suspici': 3335, 'befriend': 3336, 'respond': 3337, 'madonna': 3338, 'lemmon': 3339, 'crocodil': 3340, 'fanat': 3341, 'synopsi': 3342, 'tip': 3343, 'uneven': 3344, 'await': 3345, 'moodi': 3346, 'lawrenc': 3347, 'jew': 3348, 'bust': 3349, 'roommat': 3350, 'reserv': 3351, 'ruthless': 3352, 'exhibit': 3353, 'atlanti': 3354, 'edi': 3355, 'bold': 3356, 'dimens': 3357, 'clint': 3358, 'ventur': 3359, 'incident': 3360, 'clumsi': 3361, 'audit': 3362, 'unsettl': 3363, 'bradi': 3364, 'carl': 3365, '2007': 3366, 'rural': 3367, 'chao': 3368, 'voyag': 3369, 'abysm': 3370, 'palma': 3371, 'bargain': 3372, 'garner': 3373, 'centr': 3374, 'holli': 3375, 'immigr': 3376, 'daddi': 3377, 'trail': 3378, '2nd': 3379, 'lit': 3380, 'ant': 3381, 'acknowledg': 3382, 'humili': 3383, 'elimin': 3384, 'cd': 3385, 'troop': 3386, 'echo': 3387, 'cuba': 3388, 'imperson': 3389, 'characterist': 3390, 'hart': 3391, 'neglect': 3392, 'versu': 3393, 'poetic': 3394, 'wealth': 3395, 'cari': 3396, 'nearbi': 3397, 'timon': 3398, 'mall': 3399, 'tiger': 3400, 'collaps': 3401, 'repuls': 3402, 'pun': 3403, 'domest': 3404, 'mistaken': 3405, 'marshal': 3406, 'paus': 3407, 'infect': 3408, 'celluloid': 3409, 'saga': 3410, 'solo': 3411, 'homer': 3412, 'jeffrey': 3413, 'mickey': 3414, 'prejudic': 3415, 'assembl': 3416, 'coat': 3417, 'sore': 3418, 'olivi': 3419, 'promin': 3420, 'hbo': 3421, 'gear': 3422, 'milk': 3423, 'inappropri': 3424, 'harvey': 3425, 'coffe': 3426, 'equip': 3427, 'cake': 3428, 'leon': 3429, 'undoubtedli': 3430, 'tribe': 3431, 'inan': 3432, 'apolog': 3433, '1996': 3434, 'interrupt': 3435, 'pant': 3436, 'chest': 3437, 'ginger': 3438, 'pen': 3439, 'pot': 3440, 'retain': 3441, 'exot': 3442, 'devast': 3443, 'embrac': 3444, 'maggi': 3445, 'furthermor': 3446, 'humbl': 3447, 'solut': 3448, 'vulgar': 3449, 'jenni': 3450, 'aveng': 3451, 'primari': 3452, 'brooklyn': 3453, 'highest': 3454, 'colonel': 3455, 'airplan': 3456, 'institut': 3457, 'colleagu': 3458, 'instant': 3459, 'polanski': 3460, 'florida': 3461, 'trace': 3462, 'consum': 3463, '3rd': 3464, '1999': 3465, 'seduct': 3466, 'poke': 3467, 'illog': 3468, 'linda': 3469, 'gender': 3470, 'disabl': 3471, 'principl': 3472, 'sale': 3473, 'ya': 3474, 'godzilla': 3475, 'rick': 3476, 'descend': 3477, 'wive': 3478, 'bowl': 3479, 'strain': 3480, 'dian': 3481, 'smaller': 3482, 'outer': 3483, 'cope': 3484, 'dutch': 3485, 'yard': 3486, 'inferior': 3487, 'dive': 3488, 'blatant': 3489, 'devoid': 3490, 'mixtur': 3491, 'beneath': 3492, 'dud': 3493, 'lol': 3494, 'rabbit': 3495, 'secondli': 3496, 'gloriou': 3497, 'predecessor': 3498, 'scope': 3499, 'glamor': 3500, 'primarili': 3501, 'bubbl': 3502, 'hal': 3503, 'vast': 3504, 'cue': 3505, 'gundam': 3506, 'disjoint': 3507, 'pearl': 3508, 'alert': 3509, 'et': 3510, 'senseless': 3511, 'april': 3512, 'z': 3513, 'casual': 3514, 'alfr': 3515, 'grinch': 3516, 'countrysid': 3517, 'aggress': 3518, 'shelf': 3519, 'streep': 3520, 'hideou': 3521, 'simplist': 3522, 'museum': 3523, 'breed': 3524, 'domino': 3525, 'shirley': 3526, 'myer': 3527, 'trademark': 3528, 'garbo': 3529, 'arab': 3530, 'invas': 3531, 'talki': 3532, 'acid': 3533, 'illeg': 3534, 'boom': 3535, 'stir': 3536, 'slide': 3537, 'applaud': 3538, 'stellar': 3539, 'unhappi': 3540, 'rendit': 3541, 'loyal': 3542, 'mail': 3543, 'robberi': 3544, 'mayor': 3545, 'hardcor': 3546, 'oz': 3547, 'uwe': 3548, 'robinson': 3549, 'experiment': 3550, 'maci': 3551, 'disgrac': 3552, 'obtain': 3553, 'hopeless': 3554, 'defens': 3555, 'khan': 3556, 'vanish': 3557, 'sh': 3558, 'stack': 3559, 'soccer': 3560, 'rifl': 3561, 'dismiss': 3562, 'counter': 3563, 'blew': 3564, 'spider': 3565, 'tempt': 3566, 'wont': 3567, 'span': 3568, 'amanda': 3569, 'incomprehens': 3570, 'dicken': 3571, 'scroog': 3572, 'berlin': 3573, 'declin': 3574, 'fri': 3575, 'emphasi': 3576, 'craze': 3577, 'grandfath': 3578, 'tenant': 3579, 'hartley': 3580, 'recruit': 3581, 'psychic': 3582, 'topless': 3583, 'diana': 3584, 'shed': 3585, 'ethnic': 3586, 'ration': 3587, 'sympath': 3588, 'trashi': 3589, 'shaw': 3590, 'justin': 3591, 'niro': 3592, 'riot': 3593, 'woo': 3594, 'porno': 3595, 'lumet': 3596, 'sibl': 3597, 'parad': 3598, 'goer': 3599, 'revolt': 3600, 'resurrect': 3601, 'wet': 3602, 'bitch': 3603, 'intim': 3604, 'faster': 3605, 'feminist': 3606, 'wheel': 3607, 'nephew': 3608, 'mario': 3609, 'choru': 3610, 'immort': 3611, '00': 3612, 'jonathan': 3613, 'biographi': 3614, 'commend': 3615, 'weakest': 3616, 'patriot': 3617, 'eager': 3618, 'farmer': 3619, 'dealer': 3620, 'lena': 3621, 'slick': 3622, 'steam': 3623, 'unreal': 3624, 'ensur': 3625, 'gap': 3626, 'honesti': 3627, 'ballet': 3628, 'andr': 3629, 'partial': 3630, 'region': 3631, 'wendi': 3632, 'enlighten': 3633, 'rider': 3634, 'hopper': 3635, 'hesit': 3636, 'worm': 3637, 'charlott': 3638, 'sappi': 3639, 'blunt': 3640, 'wore': 3641, 'macarthur': 3642, 'repress': 3643, 'leo': 3644, 'sandra': 3645, 'psychopath': 3646, 'similarli': 3647, 'mutant': 3648, 'confin': 3649, 'victori': 3650, 'composit': 3651, 'snap': 3652, 'properti': 3653, 'prequel': 3654, 'util': 3655, 'vice': 3656, 'morri': 3657, 'skull': 3658, 'owen': 3659, 'kingdom': 3660, 'nostalg': 3661, 'hung': 3662, 'safeti': 3663, 'franco': 3664, 'drum': 3665, 'pattern': 3666, 'latin': 3667, 'tad': 3668, 'acquir': 3669, 'despair': 3670, 'compass': 3671, 'miseri': 3672, 'dust': 3673, 'bow': 3674, 'whoopi': 3675, 'bergman': 3676, 'strand': 3677, 'hyde': 3678, 'bonu': 3679, 'heartbreak': 3680, 'valuabl': 3681, 'recycl': 3682, 'rope': 3683, '1972': 3684, 'emperor': 3685, 'tail': 3686, 'campbel': 3687, 'cg': 3688, 'rocki': 3689, 'farrel': 3690, 'deed': 3691, 'rambl': 3692, 'dalton': 3693, 'nervou': 3694, 'snl': 3695, 'del': 3696, 'exit': 3697, 'speci': 3698, 'thru': 3699, 'repli': 3700, 'drain': 3701, 'montana': 3702, 'compens': 3703, 'kyle': 3704, 'bumbl': 3705, 'tonight': 3706, 'wacki': 3707, 'gal': 3708, 'rapist': 3709, 'radic': 3710, 'downhil': 3711, 'pour': 3712, 'mistress': 3713, '35': 3714, 'rotten': 3715, 'percept': 3716, 'roth': 3717, 'contempl': 3718, 'da': 3719, 'bleed': 3720, 'romp': 3721, 'orson': 3722, 'slug': 3723, 'martian': 3724, 'olli': 3725, 'gimmick': 3726, 'airport': 3727, 'oppress': 3728, 'chess': 3729, 'carradin': 3730, 'attorney': 3731, 'taught': 3732, 'melodi': 3733, 'heal': 3734, 'preach': 3735, 'arc': 3736, 'edgar': 3737, 'unpredict': 3738, 'tackl': 3739, 'pursuit': 3740, 'arguabl': 3741, '1983': 3742, 'pervert': 3743, 'banal': 3744, 'slash': 3745, 'dazzl': 3746, 'belt': 3747, 'champion': 3748, 'programm': 3749, 'paltrow': 3750, 'pervers': 3751, 'mislead': 3752, 'shelley': 3753, 'tooth': 3754, 'stilt': 3755, 'mesmer': 3756, 'vocal': 3757, 'gambl': 3758, 'marti': 3759, 'employe': 3760, 'duval': 3761, 'chicken': 3762, 'tiresom': 3763, 'rubi': 3764, 'sensat': 3765, 'cleverli': 3766, 'maid': 3767, 'conneri': 3768, 'vengeanc': 3769, 'bela': 3770, 'plight': 3771, 'virginia': 3772, 'graham': 3773, 'poem': 3774, 'raymond': 3775, 'uplift': 3776, 'passeng': 3777, 'orang': 3778, 'closest': 3779, 'dixon': 3780, 'franki': 3781, 'swallow': 3782, 'secretli': 3783, 'suffic': 3784, 'abraham': 3785, 'giggl': 3786, 'extens': 3787, 'convincingli': 3788, 'habit': 3789, 'iran': 3790, 'volum': 3791, 'yawn': 3792, 'paranoia': 3793, 'outing': 3794, 'climact': 3795, 'clone': 3796, 'lundgren': 3797, 'quarter': 3798, 'mute': 3799, 'amitabh': 3800, 'inject': 3801, 'calm': 3802, 'monologu': 3803, '1968': 3804, 'profan': 3805, 'gerard': 3806, 'whine': 3807, 'tube': 3808, 'numb': 3809, 'crystal': 3810, 'bay': 3811, 'sirk': 3812, 'scottish': 3813, 'engross': 3814, 'pokemon': 3815, 'bend': 3816, 'abort': 3817, 'backward': 3818, 'plod': 3819, 'meander': 3820, 'linger': 3821, 'im': 3822, 'surpass': 3823, 'chicago': 3824, 'austen': 3825, 'grotesqu': 3826, 'septemb': 3827, 'dispos': 3828, 'lowest': 3829, 'underst': 3830, 'junior': 3831, 'earl': 3832, 'trend': 3833, 'ethan': 3834, 'taxi': 3835, 'franci': 3836, 'frankenstein': 3837, 'expand': 3838, 'poetri': 3839, 'nichola': 3840, 'richardson': 3841, 'profess': 3842, 'fed': 3843, 'spock': 3844, 'nostalgia': 3845, 'simplic': 3846, 'waitress': 3847, 'econom': 3848, 'der': 3849, 'spoke': 3850, 'compliment': 3851, 'cannon': 3852, 'stallon': 3853, 'lure': 3854, 'rant': 3855, 'rubber': 3856, 'muddl': 3857, 'mundan': 3858, 'descent': 3859, 'literatur': 3860, 'eugen': 3861, 'catchi': 3862, 'greedi': 3863, 'sue': 3864, 'tourist': 3865, 'household': 3866, 'myth': 3867, 'instrument': 3868, 'dysfunct': 3869, 'hum': 3870, 'hello': 3871, 'louis': 3872, 'cent': 3873, 'mortal': 3874, 'recognis': 3875, 'damon': 3876, 'mankind': 3877, 'carel': 3878, 'insur': 3879, 'furi': 3880, 'alongsid': 3881, 'stale': 3882, 'flee': 3883, 'june': 3884, 'firstli': 3885, 'duck': 3886, 'irrelev': 3887, 'randi': 3888, 'phoni': 3889, 'recognit': 3890, 'deaf': 3891, 'equival': 3892, 'coast': 3893, 'dement': 3894, 'crucial': 3895, 'lang': 3896, 'omen': 3897, 'molli': 3898, 'occupi': 3899, 'phantom': 3900, 'map': 3901, 'dictat': 3902, 'eaten': 3903, 'bacal': 3904, 'sissi': 3905, 'onlin': 3906, 'dreari': 3907, 'distinguish': 3908, 'bump': 3909, 'daisi': 3910, 'loyalti': 3911, 'lengthi': 3912, 'rude': 3913, 'bike': 3914, 'twilight': 3915, 'labor': 3916, 'biko': 3917, 'drake': 3918, 'newli': 3919, 'cyborg': 3920, 'ashley': 3921, 'likewis': 3922, 'freez': 3923, '1973': 3924, 'rooney': 3925, 'damm': 3926, 'heel': 3927, 'blackmail': 3928, 'buffalo': 3929, 'reign': 3930, 'wisdom': 3931, 'grayson': 3932, 'antwon': 3933, 'nineti': 3934, 'analysi': 3935, 'attribut': 3936, 'provoc': 3937, 'incorpor': 3938, 'approv': 3939, 'proce': 3940, 'unorigin': 3941, 'chronicl': 3942, 'ridden': 3943, 'exposur': 3944, 'emphas': 3945, 'tunnel': 3946, 'worn': 3947, 'baddi': 3948, 'prey': 3949, 'boxer': 3950, 'pink': 3951, 'inher': 3952, 'vein': 3953, 'interior': 3954, 'keith': 3955, 'butler': 3956, 'basketbal': 3957, 'startl': 3958, 'sailor': 3959, 'barrymor': 3960, 'er': 3961, 'drift': 3962, 'predat': 3963, 'barrel': 3964, 'julian': 3965, 'improvis': 3966, 'substitut': 3967, 'stalker': 3968, 'condemn': 3969, 'meg': 3970, 'indiffer': 3971, 'othello': 3972, 'undeni': 3973, 'unrel': 3974, 'nicol': 3975, 'robbin': 3976, 'meyer': 3977, 'carla': 3978, 'degrad': 3979, 'millionair': 3980, 'mormon': 3981, 'belushi': 3982, 'fleet': 3983, 'elm': 3984, 'underli': 3985, 'bunni': 3986, 'mighti': 3987, 'walsh': 3988, 'hypnot': 3989, 'simmon': 3990, 'shove': 3991, 'hay': 3992, 'disord': 3993, 'rukh': 3994, 'watson': 3995, 'edgi': 3996, 'novak': 3997, 'unawar': 3998, 'nyc': 3999, 'warmth': 4000, 'roof': 4001, 'enthusiasm': 4002, 'alison': 4003, 'palac': 4004, 'errol': 4005, 'dolph': 4006, 'exquisit': 4007, 'priceless': 4008, 'lampoon': 4009, 'mtv': 4010, 'alarm': 4011, 'greed': 4012, 'reid': 4013, '3d': 4014, 'vital': 4015, 'firm': 4016, 'agenda': 4017, 'marion': 4018, 'testament': 4019, 'peck': 4020, 'ponder': 4021, 'randomli': 4022, 'spain': 4023, 'simultan': 4024, 'campaign': 4025, 'crown': 4026, 'petti': 4027, 'unleash': 4028, 'valentin': 4029, '13th': 4030, 'israel': 4031, 'glanc': 4032, 'gestur': 4033, 'pamela': 4034, 'what': 4035, 'orlean': 4036, 'distort': 4037, 'showdown': 4038, 'thompson': 4039, 'preserv': 4040, 'iraq': 4041, 'angela': 4042, 'coup': 4043, '1933': 4044, 'championship': 4045, 'eastern': 4046, 'profit': 4047, 'nun': 4048, 'drip': 4049, 'peril': 4050, 'session': 4051, 'minimum': 4052, 'sergeant': 4053, 'cassidi': 4054, 'zizek': 4055, 'beatl': 4056, 'buster': 4057, 'quinn': 4058, 'realm': 4059, 'stroke': 4060, 'travesti': 4061, 'empathi': 4062, 'crow': 4063, 'reson': 4064, 'rout': 4065, 'regist': 4066, 'sabrina': 4067, 'wig': 4068, 'miyazaki': 4069, 'stake': 4070, 'calib': 4071, 'fido': 4072, 'brenda': 4073, 'valley': 4074, 'han': 4075, 'kurosawa': 4076, 'crawl': 4077, 'gentleman': 4078, 'bro': 4079, 'jan': 4080, 'perpetu': 4081, 'contradict': 4082, 'restrain': 4083, 'unimagin': 4084, 'represent': 4085, 'mon': 4086, 'exposit': 4087, 'scotland': 4088, 'cream': 4089, 'climat': 4090, 'shootout': 4091, '1984': 4092, 'cooki': 4093, 'din': 4094, 'delic': 4095, 'absent': 4096, 'abomin': 4097, 'josh': 4098, 'fuller': 4099, 'ustinov': 4100, 'geek': 4101, 'traumat': 4102, 'cloud': 4103, 'shaki': 4104, 'baldwin': 4105, 'shoddi': 4106, 'painter': 4107, 'tacki': 4108, 'sucker': 4109, 'femm': 4110, 'greg': 4111, 'pretens': 4112, '1987': 4113, 'wax': 4114, 'censor': 4115, 'businessman': 4116, 'crawford': 4117, 'distress': 4118, 'meryl': 4119, 'pole': 4120, 'spacey': 4121, 'warrant': 4122, '1997': 4123, 'stargat': 4124, 'monoton': 4125, 'compromis': 4126, 'passabl': 4127, 'derang': 4128, 'darren': 4129, 'mclaglen': 4130, 'demis': 4131, 'unsatisfi': 4132, 'unseen': 4133, 'dana': 4134, 'perceiv': 4135, 'sammi': 4136, 'soderbergh': 4137, 'ross': 4138, 'fog': 4139, 'tech': 4140, 'unravel': 4141, 'tarantino': 4142, 'kumar': 4143, 'reluct': 4144, 'norm': 4145, 'expedit': 4146, 'click': 4147, 'deniro': 4148, 'clash': 4149, 'judgment': 4150, 'fenc': 4151, '1993': 4152, 'valid': 4153, 'verbal': 4154, 'jewel': 4155, 'deceas': 4156, 'wholli': 4157, 'correctli': 4158, 'polici': 4159, 'primit': 4160, 'uncov': 4161, 'accuraci': 4162, 'exclus': 4163, 'anchor': 4164, 'sid': 4165, 'dee': 4166, 'nathan': 4167, 'seal': 4168, 'furiou': 4169, 'austin': 4170, 'antonioni': 4171, 'slam': 4172, 'crippl': 4173, 'malon': 4174, 'behold': 4175, 'murray': 4176, 'debt': 4177, 'joel': 4178, 'ritual': 4179, 'wang': 4180, 'sustain': 4181, 'conduct': 4182, '1995': 4183, 'tax': 4184, 'wretch': 4185, 'patienc': 4186, '2008': 4187, '1971': 4188, 'fart': 4189, 'sand': 4190, 'sunni': 4191, 'hallucin': 4192, 'seldom': 4193, 'mode': 4194, 'trait': 4195, 'enforc': 4196, 'unfair': 4197, 'clerk': 4198, 'logan': 4199, 'sheet': 4200, 'temper': 4201, 'vanc': 4202, 'pocket': 4203, 'shanghai': 4204, 'nicola': 4205, 'fabric': 4206, 'roller': 4207, 'fought': 4208, 'darn': 4209, 'alec': 4210, 'dreck': 4211, '3000': 4212, 'bake': 4213, 'tactic': 4214, 'runner': 4215, 'exhaust': 4216, 'phil': 4217, 'canyon': 4218, 'shell': 4219, 'guitar': 4220, 'technicolor': 4221, 'outlin': 4222, 'legaci': 4223, 'penni': 4224, 'grief': 4225, 'critiqu': 4226, 'stuart': 4227, 'scriptwrit': 4228, 'despis': 4229, 'squad': 4230, 'stark': 4231, 'pete': 4232, 'clau': 4233, 'fundament': 4234, 'rita': 4235, 'schedul': 4236, 'bridget': 4237, 'soup': 4238, 'preposter': 4239, 'helpless': 4240, 'bias': 4241, 'sweep': 4242, 'conscious': 4243, 'preston': 4244, 'robber': 4245, 'isabel': 4246, 'divid': 4247, 'newman': 4248, 'cigarett': 4249, 'inabl': 4250, 'connor': 4251, 'vomit': 4252, 'unexpectedli': 4253, 'passag': 4254, 'bloom': 4255, 'consciou': 4256, 'delv': 4257, 'alicia': 4258, 'sugar': 4259, 'rear': 4260, 'russia': 4261, 'lacklust': 4262, 'restrict': 4263, 'boyl': 4264, 'marc': 4265, 'drove': 4266, 'alley': 4267, 'gregori': 4268, 'flair': 4269, 'downey': 4270, 'liberti': 4271, 'sniper': 4272, 'palanc': 4273, 'rehash': 4274, 'implic': 4275, 'jodi': 4276, 'invad': 4277, 'jacket': 4278, 'agenc': 4279, 'culmin': 4280, 'kansa': 4281, 'propos': 4282, 'sentinel': 4283, 'horn': 4284, 'feat': 4285, 'behaviour': 4286, 'chainsaw': 4287, 'karl': 4288, 'pale': 4289, 'improb': 4290, 'arrow': 4291, '22': 4292, 'bacon': 4293, 'rod': 4294, 'rehears': 4295, 'wrench': 4296, 'awhil': 4297, 'tendenc': 4298, 'foxx': 4299, 'delet': 4300, '1936': 4301, 'lush': 4302, 'aesthet': 4303, 'rampag': 4304, 'tripe': 4305, 'ladder': 4306, 'sharon': 4307, 'asylum': 4308, 'vet': 4309, 'yeti': 4310, 'mccoy': 4311, 'kolchak': 4312, 'cap': 4313, 'underneath': 4314, 'minu': 4315, 'paramount': 4316, 'rhythm': 4317, 'suspicion': 4318, 'paradis': 4319, 'wildli': 4320, 'newcom': 4321, 'basing': 4322, 'rumor': 4323, 'wagner': 4324, 'weav': 4325, 'amazon': 4326, 'scoop': 4327, 'spice': 4328, 'prank': 4329, 'thunderbird': 4330, 'tasteless': 4331, 'visitor': 4332, 'filler': 4333, 'tomorrow': 4334, 'hulk': 4335, '1920': 4336, 'shortcom': 4337, 'suffici': 4338, '19th': 4339, 'lurk': 4340, 'sung': 4341, 'elit': 4342, 'aristocrat': 4343, 'fright': 4344, 'conscienc': 4345, 'stream': 4346, 'el': 4347, '1978': 4348, 'financ': 4349, 'globe': 4350, 'hungri': 4351, 'loneli': 4352, 'coaster': 4353, '1988': 4354, 'hackney': 4355, 'straightforward': 4356, 'atroc': 4357, 'grudg': 4358, 'heist': 4359, 'abrupt': 4360, 'paxton': 4361, 'rub': 4362, 'penn': 4363, 'beverli': 4364, 'hopkin': 4365, 'leigh': 4366, 'smell': 4367, 'chamberlain': 4368, 'immers': 4369, 'standout': 4370, 'bread': 4371, 'secondari': 4372, 'curli': 4373, 'posey': 4374, 'entranc': 4375, 'cancer': 4376, 'inmat': 4377, 'en': 4378, 'counterpart': 4379, 'choppi': 4380, 'impos': 4381, 'ingeni': 4382, 'teas': 4383, '75': 4384, 'dirt': 4385, 'naughti': 4386, 'chavez': 4387, 'brit': 4388, '1939': 4389, 'quietli': 4390, 'recogniz': 4391, 'ram': 4392, 'wwe': 4393, 'couch': 4394, 'tierney': 4395, 'worship': 4396, 'iv': 4397, 'lectur': 4398, 'literari': 4399, 'springer': 4400, '1989': 4401, 'minist': 4402, '1986': 4403, 'ratso': 4404, 'morbid': 4405, 'enthral': 4406, 'yearn': 4407, 'convert': 4408, 'sassi': 4409, 'attenborough': 4410, 'net': 4411, 'laurenc': 4412, 'entitl': 4413, 'watcher': 4414, 'quaid': 4415, 'variat': 4416, 'geni': 4417, 'esther': 4418, 'clan': 4419, 'heartfelt': 4420, 'missil': 4421, 'transcend': 4422, 'misguid': 4423, 'bernard': 4424, 'sublim': 4425, 'nemesi': 4426, 'skeptic': 4427, 'ace': 4428, 'policeman': 4429, 'lindsay': 4430, 'moreov': 4431, 'duel': 4432, 'nolan': 4433, 'cattl': 4434, 'injuri': 4435, 'uncut': 4436, 'rosemari': 4437, 'spiral': 4438, 'setup': 4439, 'cruelti': 4440, 'puppi': 4441, 'poe': 4442, 'enabl': 4443, 'graini': 4444, 'youngest': 4445, 'tyler': 4446, 'mytholog': 4447, 'unexplain': 4448, 'grin': 4449, 'egg': 4450, 'characteris': 4451, 'brood': 4452, 'vader': 4453, 'facil': 4454, 'bye': 4455, '1979': 4456, 'moder': 4457, 'artsi': 4458, 'steadi': 4459, 'hopelessli': 4460, 'kitti': 4461, 'kidman': 4462, 'out': 4463, 'diari': 4464, 'reliabl': 4465, 'buzz': 4466, 'dont': 4467, 'obstacl': 4468, 'carlito': 4469, 'bean': 4470, 'hk': 4471, 'brendan': 4472, 'weather': 4473, 'patricia': 4474, 'spontan': 4475, 'sweat': 4476, 'acquaint': 4477, 'christin': 4478, 'baffl': 4479, 'niec': 4480, 'bounc': 4481, 'heap': 4482, 'effici': 4483, 'hammi': 4484, 'bronson': 4485, 'kline': 4486, 'martha': 4487, 'underworld': 4488, 'clueless': 4489, 'despic': 4490, 'preming': 4491, 'exterior': 4492, 'narrow': 4493, 'bewar': 4494, 'decept': 4495, 'athlet': 4496, 'gina': 4497, '1969': 4498, 'oblig': 4499, 'hain': 4500, 'disastr': 4501, 'fuel': 4502, 'gillian': 4503, 'candl': 4504, 'enlist': 4505, 'harmless': 4506, 'tick': 4507, 'insipid': 4508, 'shatter': 4509, '19': 4510, 'viewpoint': 4511, 'loath': 4512, 'scar': 4513, 'sooner': 4514, 'mayhem': 4515, 'biker': 4516, 'taboo': 4517, 'dilemma': 4518, 'housewif': 4519, 'hepburn': 4520, 'uh': 4521, 'preachi': 4522, 'dandi': 4523, 'astound': 4524, 'goof': 4525, 'trigger': 4526, 'mermaid': 4527, 'loi': 4528, 'fontain': 4529, 'outlaw': 4530, 'circu': 4531, 'virtu': 4532, '73': 4533, 'analyz': 4534, 'sleepwalk': 4535, 'suprem': 4536, 'headach': 4537, 'injur': 4538, 'angst': 4539, 'rome': 4540, 'lester': 4541, 'renaiss': 4542, 'macho': 4543, 'amor': 4544, 'fluff': 4545, 'redund': 4546, 'cassavet': 4547, 'contempt': 4548, 'phenomenon': 4549, 'hokey': 4550, 'hostag': 4551, 'overlong': 4552, 'gere': 4553, 'oldest': 4554, 'zoom': 4555, 'filth': 4556, 'slimi': 4557, 'glorifi': 4558, 'spade': 4559, 'dish': 4560, 'claustrophob': 4561, 'ebert': 4562, 'whore': 4563, 'steer': 4564, 'camcord': 4565, 'intric': 4566, 'stair': 4567, 'dismal': 4568, 'immatur': 4569, 'boston': 4570, 'bent': 4571, 'salt': 4572, 'foolish': 4573, 'stimul': 4574, 'guin': 4575, 'hooker': 4576, 'sox': 4577, 'surgeri': 4578, 'tripl': 4579, 'scorses': 4580, 'idol': 4581, 'ariel': 4582, 'corbett': 4583, 'flirt': 4584, 'antagonist': 4585, 'widescreen': 4586, 'shred': 4587, 'proport': 4588, 'joker': 4589, 'gasp': 4590, 'fascist': 4591, 'remad': 4592, 'radiat': 4593, 'spinal': 4594, 'spree': 4595, 'rhyme': 4596, 'preced': 4597, 'obligatori': 4598, 'perman': 4599, 'corman': 4600, 'flashi': 4601, 'faint': 4602, '1981': 4603, 'gabl': 4604, '1976': 4605, 'keen': 4606, 'margin': 4607, 'beard': 4608, 'assert': 4609, 'trivia': 4610, 'messi': 4611, 'zane': 4612, 'harold': 4613, 'muscl': 4614, 'nolt': 4615, 'frantic': 4616, 'dwarf': 4617, 'mount': 4618, 'strongest': 4619, 'shield': 4620, 'astronaut': 4621, 'conquer': 4622, 'schlock': 4623, 'alvin': 4624, 'mutual': 4625, 'down': 4626, 'naschi': 4627, 'transplant': 4628, 'flag': 4629, 'cush': 4630, 'cow': 4631, 'cohen': 4632, 'triangl': 4633, 'instruct': 4634, 'off': 4635, 'vaniti': 4636, 'brush': 4637, 'deer': 4638, 'sensual': 4639, 'hara': 4640, 'neurot': 4641, 'strive': 4642, '95': 4643, 'persuad': 4644, 'wield': 4645, 'info': 4646, 'mobil': 4647, 'aborigin': 4648, 'bitten': 4649, 'repris': 4650, 'interestingli': 4651, 'discern': 4652, '1945': 4653, 'departur': 4654, 'www': 4655, 'danish': 4656, 'ritchi': 4657, '28': 4658, 'divin': 4659, 'barn': 4660, 'mol': 4661, 'someday': 4662, 'flock': 4663, 'fishburn': 4664, 'claud': 4665, 'bachelor': 4666, 'carey': 4667, 'archiv': 4668, 'resum': 4669, 'boob': 4670, 'scandal': 4671, 'raj': 4672, 'inflict': 4673, 'submit': 4674, 'fragil': 4675, 'frontier': 4676, 'axe': 4677, 'casino': 4678, 'recit': 4679, 'cb': 4680, 'clad': 4681, 'mobster': 4682, 'neill': 4683, 'proclaim': 4684, 'dylan': 4685, 'biblic': 4686, 'loretta': 4687, 'heartwarm': 4688, 'banter': 4689, 'senior': 4690, 'harrison': 4691, 'colin': 4692, 'carlo': 4693, 'anton': 4694, 'parson': 4695, 'vibrant': 4696, 'dim': 4697, 'pixar': 4698, 'cycl': 4699, 'earnest': 4700, 'ish': 4701, 'timberlak': 4702, 'jade': 4703, 'helm': 4704, 'miracul': 4705, 'dame': 4706, 'melissa': 4707, 'prophet': 4708, 'undermin': 4709, 'kathryn': 4710, 'pacif': 4711, 'cher': 4712, 'artwork': 4713, 'cliffhang': 4714, 'hug': 4715, 'hapless': 4716, 'pickford': 4717, 'traffic': 4718, 'bate': 4719, 'wendigo': 4720, 'hilar': 4721, 'rot': 4722, 'luka': 4723, 'europa': 4724, 'articl': 4725, 'seedi': 4726, 'illus': 4727, 'lucil': 4728, 'bikini': 4729, 'venom': 4730, 'estrang': 4731, 'token': 4732, 'orphan': 4733, 'redneck': 4734, 'isra': 4735, 'cerebr': 4736, 'rooki': 4737, 'flavor': 4738, 'blatantli': 4739, 'razor': 4740, 'lui': 4741, 'eli': 4742, 'misfortun': 4743, 'static': 4744, 'nope': 4745, 'sicken': 4746, 'akin': 4747, 'mason': 4748, 'breakfast': 4749, 'http': 4750, 'toronto': 4751, 'holocaust': 4752, 'pc': 4753, 'legitim': 4754, 'jordan': 4755, 'electron': 4756, 'bondag': 4757, 'wardrob': 4758, 'aris': 4759, 'feast': 4760, 'milo': 4761, 'jo': 4762, 'shepherd': 4763, 'antholog': 4764, 'marlon': 4765, 'alexandr': 4766, 'vile': 4767, 'choke': 4768, 'northern': 4769, 'winchest': 4770, 'foil': 4771, 'uma': 4772, 'trier': 4773, 'vanessa': 4774, 'mathieu': 4775, 'feminin': 4776, 'audrey': 4777, 'clinic': 4778, 'dudley': 4779, 'linear': 4780, 'boyer': 4781, 'affleck': 4782, 'magician': 4783, 'leather': 4784, 'tack': 4785, 'ideolog': 4786, 'huston': 4787, 'ceremoni': 4788, 'nightclub': 4789, 'psych': 4790, 'smack': 4791, 'cartoonish': 4792, 'styliz': 4793, 'glare': 4794, 'swept': 4795, 'retriev': 4796, 'frog': 4797, 'shorter': 4798, 'howl': 4799, 'highway': 4800, 'turd': 4801, 'outdat': 4802, 'deem': 4803, 'knightley': 4804, 'comprehend': 4805, 'peer': 4806, 'abund': 4807, 'disregard': 4808, 'fifth': 4809, 'gilbert': 4810, 'wrestler': 4811, 'charlton': 4812, 'oppon': 4813, 'gunga': 4814, 'energet': 4815, '1994': 4816, 'lighter': 4817, 'phenomen': 4818, 'chip': 4819, 'deliver': 4820, 'bastard': 4821, 'snatch': 4822, 'monument': 4823, 'uniformli': 4824, 'boo': 4825, 'senat': 4826, 'spawn': 4827, 'btw': 4828, 'moe': 4829, 'sleaz': 4830, 'potter': 4831, 'lifeless': 4832, 'client': 4833, 'corn': 4834, 'braveheart': 4835, 'lavish': 4836, 'summar': 4837, 'cuban': 4838, 'einstein': 4839, 'evolut': 4840, 'spine': 4841, 'conrad': 4842, 'newer': 4843, 'goldsworthi': 4844, 'plate': 4845, 'cemeteri': 4846, 'compris': 4847, '1991': 4848, 'greet': 4849, '4th': 4850, 'tara': 4851, 'salman': 4852, 'toe': 4853, 'breakdown': 4854, 'durat': 4855, 'whack': 4856, 'bogu': 4857, 'collector': 4858, 'mitch': 4859, 'belli': 4860, 'cecil': 4861, 'constitut': 4862, 'undertak': 4863, 'clara': 4864, 'trauma': 4865, 'mcqueen': 4866, 'nina': 4867, 'alleg': 4868, 'outright': 4869, 'armstrong': 4870, 'sorrow': 4871, 'eleven': 4872, 'ie': 4873, 'liu': 4874, 'replay': 4875, 'undead': 4876, 'luxuri': 4877, 'randolph': 4878, 'bulk': 4879, 'historian': 4880, 'embark': 4881, 'healthi': 4882, 'lex': 4883, 'jedi': 4884, 'appl': 4885, 'inaccuraci': 4886, 'wtf': 4887, 'signal': 4888, 'judd': 4889, '1977': 4890, 'fluid': 4891, 'evelyn': 4892, 'occup': 4893, 'pronounc': 4894, '1974': 4895, 'kazan': 4896, 'ol': 4897, 'creek': 4898, 'spectacl': 4899, 'gilliam': 4900, 'capot': 4901, 'jare': 4902, 'bori': 4903, 'neatli': 4904, 'kent': 4905, 'jam': 4906, 'firmli': 4907, 'jule': 4908, 'tokyo': 4909, 'propheci': 4910, 'antonio': 4911, 'curtain': 4912, 'sacrif': 4913, 'porter': 4914, 'rosario': 4915, 'ash': 4916, 'paula': 4917, 'subtli': 4918, 'truman': 4919, 'groan': 4920, 'kiddi': 4921, 'unattract': 4922, 'pepper': 4923, 'vain': 4924, 'vignett': 4925, 'bait': 4926, 'inclus': 4927, 'aussi': 4928, 'galaxi': 4929, 'miniseri': 4930, 'pioneer': 4931, 'comprehens': 4932, 'knee': 4933, 'abound': 4934, 'forgiven': 4935, 'cape': 4936, 'comb': 4937, 'decapit': 4938, 'genet': 4939, 'meal': 4940, 'conan': 4941, 'relentless': 4942, 'id': 4943, 'walt': 4944, 'poker': 4945, 'blur': 4946, '1985': 4947, 'sidewalk': 4948, 'fruit': 4949, 'mum': 4950, 'palm': 4951, 'basket': 4952, 'congratul': 4953, 'inaccur': 4954, 'spray': 4955, 'carmen': 4956, 'unsuspect': 4957, 'goldblum': 4958, 'roar': 4959, 'miami': 4960, 'bsg': 4961, 'lauren': 4962, 'lanc': 4963, 'frontal': 4964, 'verg': 4965, 'optimist': 4966, '21st': 4967, 'victorian': 4968, 'substanti': 4969, 'spill': 4970, 'detach': 4971, 'assort': 4972, 'turtl': 4973, 'reincarn': 4974, 'handicap': 4975, 'bach': 4976, 'epitom': 4977, 'monti': 4978, 'vastli': 4979, 'incorrect': 4980, 'dubiou': 4981, 'weaker': 4982, 'masterson': 4983, 'jill': 4984, 'bravo': 4985, 'playboy': 4986, 'drone': 4987, 'sparkl': 4988, 'hostil': 4989, 'evan': 4990, 'asset': 4991, 'orchestr': 4992, 'modest': 4993, 'ghetto': 4994, 'macabr': 4995, 'scarfac': 4996, 'ingrid': 4997, 'weari': 4998, 'rapidli': 4999}\n"
     ]
    }
   ],
   "source": [
    "print(word_dict)"
   ]
  },
  {
   "cell_type": "markdown",
   "metadata": {},
   "source": [
    "**Question:** What are the five most frequently appearing (tokenized) words in the training set? Does it makes sense that these words appear frequently in the training set?"
   ]
  },
  {
   "cell_type": "markdown",
   "metadata": {},
   "source": [
    "**Answer:**\n",
    "\n",
    "- Most common words - movi, film, one, like and time\n",
    "- It does make sense, that these words appear frequently in the training set, i know i would use them on my review"
   ]
  },
  {
   "cell_type": "code",
   "execution_count": 17,
   "metadata": {},
   "outputs": [
    {
     "name": "stdout",
     "output_type": "stream",
     "text": [
      "[('movi', 51695), ('film', 48190), ('one', 27741), ('like', 22799), ('time', 16191)]\n"
     ]
    }
   ],
   "source": [
    "# TODO: Use this space to determine the five most frequently appearing words in the training set.\n",
    "\n",
    "# First - get the dictionary\n",
    "word_count = get_word_count(train_X)\n",
    "\n",
    "# Second - return a mapped the dictionary\n",
    "sorted_words = [(v[0], v[1]) for v in sorted(word_count.items(), key=lambda kv: kv[1], reverse=True)] \n",
    "\n",
    "print(sorted_words[:5])"
   ]
  },
  {
   "cell_type": "markdown",
   "metadata": {},
   "source": [
    "### Save `word_dict`\n",
    "\n",
    "Later on when we construct an endpoint which processes a submitted review we will need to make use of the `word_dict` which we have created. As such, we will save it to a file now for future use."
   ]
  },
  {
   "cell_type": "code",
   "execution_count": 18,
   "metadata": {},
   "outputs": [],
   "source": [
    "data_dir = '../data/pytorch' # The folder we will use for storing data\n",
    "if not os.path.exists(data_dir): # Make sure that the folder exists\n",
    "    os.makedirs(data_dir)"
   ]
  },
  {
   "cell_type": "code",
   "execution_count": 19,
   "metadata": {},
   "outputs": [],
   "source": [
    "with open(os.path.join(data_dir, 'word_dict.pkl'), \"wb\") as f:\n",
    "    pickle.dump(word_dict, f)"
   ]
  },
  {
   "cell_type": "markdown",
   "metadata": {},
   "source": [
    "### Transform the reviews\n",
    "\n",
    "Now that we have our word dictionary which allows us to transform the words appearing in the reviews into integers, it is time to make use of it and convert our reviews to their integer sequence representation, making sure to pad or truncate to a fixed length, which in our case is `500`."
   ]
  },
  {
   "cell_type": "code",
   "execution_count": 20,
   "metadata": {},
   "outputs": [],
   "source": [
    "def convert_and_pad(word_dict, sentence, pad=500):\n",
    "    NOWORD = 0 # We will use 0 to represent the 'no word' category\n",
    "    INFREQ = 1 # and we use 1 to represent the infrequent words, i.e., words not appearing in word_dict\n",
    "    \n",
    "    working_sentence = [NOWORD] * pad\n",
    "    \n",
    "    for word_index, word in enumerate(sentence[:pad]):\n",
    "        if word in word_dict:\n",
    "            working_sentence[word_index] = word_dict[word]\n",
    "        else:\n",
    "            working_sentence[word_index] = INFREQ\n",
    "            \n",
    "    return working_sentence, min(len(sentence), pad)\n",
    "\n",
    "def convert_and_pad_data(word_dict, data, pad=500):\n",
    "    result = []\n",
    "    lengths = []\n",
    "    \n",
    "    for sentence in data:\n",
    "        converted, leng = convert_and_pad(word_dict, sentence, pad)\n",
    "        result.append(converted)\n",
    "        lengths.append(leng)\n",
    "        \n",
    "    return np.array(result), np.array(lengths)"
   ]
  },
  {
   "cell_type": "code",
   "execution_count": 21,
   "metadata": {},
   "outputs": [],
   "source": [
    "train_X, train_X_len = convert_and_pad_data(word_dict, train_X)\n",
    "test_X, test_X_len = convert_and_pad_data(word_dict, test_X)"
   ]
  },
  {
   "cell_type": "markdown",
   "metadata": {},
   "source": [
    "As a quick check to make sure that things are working as intended, check to see what one of the reviews in the training set looks like after having been processeed. Does this look reasonable? What is the length of a review in the training set?"
   ]
  },
  {
   "cell_type": "code",
   "execution_count": 22,
   "metadata": {},
   "outputs": [
    {
     "data": {
      "text/plain": [
       "array([2108,  875,  270,  299,    2,  256, 2054,  329, 2339,  344,  932,\n",
       "        474, 2560,  404,    1,    1, 3712, 1539, 1246, 1944,    1,  556,\n",
       "        949,  171,  673, 1773,  673, 1773,  673, 1874, 1773,   50,   38,\n",
       "        479,  436,    1,    1, 2340,   18,    1,   30,  295,    3,   47,\n",
       "        146,  694, 1722,  140,   66,    8,  252,   31, 2324,  128,  172,\n",
       "         79, 1773, 3118,   57,  240,    0,    0,    0,    0,    0,    0,\n",
       "          0,    0,    0,    0,    0,    0,    0,    0,    0,    0,    0,\n",
       "          0,    0,    0,    0,    0,    0,    0,    0,    0,    0,    0,\n",
       "          0,    0,    0,    0,    0,    0,    0,    0,    0,    0,    0,\n",
       "          0,    0,    0,    0,    0,    0,    0,    0,    0,    0,    0,\n",
       "          0,    0,    0,    0,    0,    0,    0,    0,    0,    0,    0,\n",
       "          0,    0,    0,    0,    0,    0,    0,    0,    0,    0,    0,\n",
       "          0,    0,    0,    0,    0,    0,    0,    0,    0,    0,    0,\n",
       "          0,    0,    0,    0,    0,    0,    0,    0,    0,    0,    0,\n",
       "          0,    0,    0,    0,    0,    0,    0,    0,    0,    0,    0,\n",
       "          0,    0,    0,    0,    0,    0,    0,    0,    0,    0,    0,\n",
       "          0,    0,    0,    0,    0,    0,    0,    0,    0,    0,    0,\n",
       "          0,    0,    0,    0,    0,    0,    0,    0,    0,    0,    0,\n",
       "          0,    0,    0,    0,    0,    0,    0,    0,    0,    0,    0,\n",
       "          0,    0,    0,    0,    0,    0,    0,    0,    0,    0,    0,\n",
       "          0,    0,    0,    0,    0,    0,    0,    0,    0,    0,    0,\n",
       "          0,    0,    0,    0,    0,    0,    0,    0,    0,    0,    0,\n",
       "          0,    0,    0,    0,    0,    0,    0,    0,    0,    0,    0,\n",
       "          0,    0,    0,    0,    0,    0,    0,    0,    0,    0,    0,\n",
       "          0,    0,    0,    0,    0,    0,    0,    0,    0,    0,    0,\n",
       "          0,    0,    0,    0,    0,    0,    0,    0,    0,    0,    0,\n",
       "          0,    0,    0,    0,    0,    0,    0,    0,    0,    0,    0,\n",
       "          0,    0,    0,    0,    0,    0,    0,    0,    0,    0,    0,\n",
       "          0,    0,    0,    0,    0,    0,    0,    0,    0,    0,    0,\n",
       "          0,    0,    0,    0,    0,    0,    0,    0,    0,    0,    0,\n",
       "          0,    0,    0,    0,    0,    0,    0,    0,    0,    0,    0,\n",
       "          0,    0,    0,    0,    0,    0,    0,    0,    0,    0,    0,\n",
       "          0,    0,    0,    0,    0,    0,    0,    0,    0,    0,    0,\n",
       "          0,    0,    0,    0,    0,    0,    0,    0,    0,    0,    0,\n",
       "          0,    0,    0,    0,    0,    0,    0,    0,    0,    0,    0,\n",
       "          0,    0,    0,    0,    0,    0,    0,    0,    0,    0,    0,\n",
       "          0,    0,    0,    0,    0,    0,    0,    0,    0,    0,    0,\n",
       "          0,    0,    0,    0,    0,    0,    0,    0,    0,    0,    0,\n",
       "          0,    0,    0,    0,    0,    0,    0,    0,    0,    0,    0,\n",
       "          0,    0,    0,    0,    0,    0,    0,    0,    0,    0,    0,\n",
       "          0,    0,    0,    0,    0,    0,    0,    0,    0,    0,    0,\n",
       "          0,    0,    0,    0,    0,    0,    0,    0,    0,    0,    0,\n",
       "          0,    0,    0,    0,    0,    0,    0,    0,    0,    0,    0,\n",
       "          0,    0,    0,    0,    0,    0,    0,    0,    0,    0,    0,\n",
       "          0,    0,    0,    0,    0,    0,    0,    0,    0,    0,    0,\n",
       "          0,    0,    0,    0,    0])"
      ]
     },
     "execution_count": 22,
     "metadata": {},
     "output_type": "execute_result"
    }
   ],
   "source": [
    "# Use this cell to examine one of the processed reviews to make sure everything is working as intended.\n",
    "train_X[123]"
   ]
  },
  {
   "cell_type": "markdown",
   "metadata": {},
   "source": [
    "**Question:** In the cells above we use the `preprocess_data` and `convert_and_pad_data` methods to process both the training and testing set. Why or why not might this be a problem?"
   ]
  },
  {
   "cell_type": "markdown",
   "metadata": {},
   "source": [
    "**Answer:**\n",
    "\n",
    "- these method help us fix a review size to a limited vector cells of 500\n",
    "- longer review get truncated and shorter review get padded with zero, which results in all of the review in both training and testing sets getting a fixed data size (fixed output) of specific length."
   ]
  },
  {
   "cell_type": "markdown",
   "metadata": {},
   "source": [
    "## Step 3: Upload the data to S3\n",
    "\n",
    "As in the XGBoost notebook, we will need to upload the training dataset to S3 in order for our training code to access it. For now we will save it locally and we will upload to S3 later on.\n",
    "\n",
    "### Save the processed training dataset locally\n",
    "\n",
    "It is important to note the format of the data that we are saving as we will need to know it when we write the training code. In our case, each row of the dataset has the form `label`, `length`, `review[500]` where `review[500]` is a sequence of `500` integers representing the words in the review."
   ]
  },
  {
   "cell_type": "code",
   "execution_count": 23,
   "metadata": {},
   "outputs": [],
   "source": [
    "import pandas as pd\n",
    "    \n",
    "pd.concat([pd.DataFrame(train_y), pd.DataFrame(train_X_len), pd.DataFrame(train_X)], axis=1) \\\n",
    "        .to_csv(os.path.join(data_dir, 'train.csv'), header=False, index=False)"
   ]
  },
  {
   "cell_type": "markdown",
   "metadata": {},
   "source": [
    "### Uploading the training data\n",
    "\n",
    "\n",
    "Next, we need to upload the training data to the SageMaker default S3 bucket so that we can provide access to it while training our model."
   ]
  },
  {
   "cell_type": "code",
   "execution_count": 24,
   "metadata": {},
   "outputs": [],
   "source": [
    "import sagemaker\n",
    "\n",
    "sagemaker_session = sagemaker.Session()\n",
    "\n",
    "bucket = sagemaker_session.default_bucket()\n",
    "prefix = 'sagemaker/sentiment_rnn'\n",
    "\n",
    "role = sagemaker.get_execution_role()"
   ]
  },
  {
   "cell_type": "code",
   "execution_count": 25,
   "metadata": {},
   "outputs": [],
   "source": [
    "input_data = sagemaker_session.upload_data(path=data_dir, bucket=bucket, key_prefix=prefix)"
   ]
  },
  {
   "cell_type": "markdown",
   "metadata": {},
   "source": [
    "**NOTE:** The cell above uploads the entire contents of our data directory. This includes the `word_dict.pkl` file. This is fortunate as we will need this later on when we create an endpoint that accepts an arbitrary review. For now, we will just take note of the fact that it resides in the data directory (and so also in the S3 training bucket) and that we will need to make sure it gets saved in the model directory."
   ]
  },
  {
   "cell_type": "markdown",
   "metadata": {},
   "source": [
    "## Step 4: Build and Train the PyTorch Model\n",
    "\n",
    "In the XGBoost notebook we discussed what a model is in the SageMaker framework. In particular, a model comprises three objects\n",
    "\n",
    " - Model Artifacts,\n",
    " - Training Code, and\n",
    " - Inference Code,\n",
    " \n",
    "each of which interact with one another. In the XGBoost example we used training and inference code that was provided by Amazon. Here we will still be using containers provided by Amazon with the added benefit of being able to include our own custom code.\n",
    "\n",
    "We will start by implementing our own neural network in PyTorch along with a training script. For the purposes of this project we have provided the necessary model object in the `model.py` file, inside of the `train` folder. You can see the provided implementation by running the cell below."
   ]
  },
  {
   "cell_type": "code",
   "execution_count": 26,
   "metadata": {},
   "outputs": [
    {
     "name": "stdout",
     "output_type": "stream",
     "text": [
      "\u001b[34mimport\u001b[39;49;00m \u001b[04m\u001b[36mtorch.nn\u001b[39;49;00m \u001b[34mas\u001b[39;49;00m \u001b[04m\u001b[36mnn\u001b[39;49;00m\r\n",
      "\r\n",
      "\u001b[34mclass\u001b[39;49;00m \u001b[04m\u001b[32mLSTMClassifier\u001b[39;49;00m(nn.Module):\r\n",
      "    \u001b[33m\"\"\"\u001b[39;49;00m\r\n",
      "\u001b[33m    This is the simple RNN model we will be using to perform Sentiment Analysis.\u001b[39;49;00m\r\n",
      "\u001b[33m    \"\"\"\u001b[39;49;00m\r\n",
      "\r\n",
      "    \u001b[34mdef\u001b[39;49;00m \u001b[32m__init__\u001b[39;49;00m(\u001b[36mself\u001b[39;49;00m, embedding_dim, hidden_dim, vocab_size):\r\n",
      "        \u001b[33m\"\"\"\u001b[39;49;00m\r\n",
      "\u001b[33m        Initialize the model by settingg up the various layers.\u001b[39;49;00m\r\n",
      "\u001b[33m        \"\"\"\u001b[39;49;00m\r\n",
      "        \u001b[36msuper\u001b[39;49;00m(LSTMClassifier, \u001b[36mself\u001b[39;49;00m).\u001b[32m__init__\u001b[39;49;00m()\r\n",
      "\r\n",
      "        \u001b[36mself\u001b[39;49;00m.embedding = nn.Embedding(vocab_size, embedding_dim, padding_idx=\u001b[34m0\u001b[39;49;00m)\r\n",
      "        \u001b[36mself\u001b[39;49;00m.lstm = nn.LSTM(embedding_dim, hidden_dim)\r\n",
      "        \u001b[36mself\u001b[39;49;00m.dense = nn.Linear(in_features=hidden_dim, out_features=\u001b[34m1\u001b[39;49;00m)\r\n",
      "        \u001b[36mself\u001b[39;49;00m.sig = nn.Sigmoid()\r\n",
      "        \r\n",
      "        \u001b[36mself\u001b[39;49;00m.word_dict = \u001b[36mNone\u001b[39;49;00m\r\n",
      "\r\n",
      "    \u001b[34mdef\u001b[39;49;00m \u001b[32mforward\u001b[39;49;00m(\u001b[36mself\u001b[39;49;00m, x):\r\n",
      "        \u001b[33m\"\"\"\u001b[39;49;00m\r\n",
      "\u001b[33m        Perform a forward pass of our model on some input.\u001b[39;49;00m\r\n",
      "\u001b[33m        \"\"\"\u001b[39;49;00m\r\n",
      "        x = x.t()\r\n",
      "        lengths = x[\u001b[34m0\u001b[39;49;00m,:]\r\n",
      "        reviews = x[\u001b[34m1\u001b[39;49;00m:,:]\r\n",
      "        embeds = \u001b[36mself\u001b[39;49;00m.embedding(reviews)\r\n",
      "        lstm_out, _ = \u001b[36mself\u001b[39;49;00m.lstm(embeds)\r\n",
      "        out = \u001b[36mself\u001b[39;49;00m.dense(lstm_out)\r\n",
      "        out = out[lengths - \u001b[34m1\u001b[39;49;00m, \u001b[36mrange\u001b[39;49;00m(\u001b[36mlen\u001b[39;49;00m(lengths))]\r\n",
      "        \u001b[34mreturn\u001b[39;49;00m \u001b[36mself\u001b[39;49;00m.sig(out.squeeze())\r\n"
     ]
    }
   ],
   "source": [
    "!pygmentize train/model.py"
   ]
  },
  {
   "cell_type": "markdown",
   "metadata": {},
   "source": [
    "The important takeaway from the implementation provided is that there are three parameters that we may wish to tweak to improve the performance of our model. These are the embedding dimension, the hidden dimension and the size of the vocabulary. We will likely want to make these parameters configurable in the training script so that if we wish to modify them we do not need to modify the script itself. We will see how to do this later on. To start we will write some of the training code in the notebook so that we can more easily diagnose any issues that arise.\n",
    "\n",
    "First we will load a small portion of the training data set to use as a sample. It would be very time consuming to try and train the model completely in the notebook as we do not have access to a gpu and the compute instance that we are using is not particularly powerful. However, we can work on a small bit of the data to get a feel for how our training script is behaving."
   ]
  },
  {
   "cell_type": "code",
   "execution_count": 27,
   "metadata": {},
   "outputs": [],
   "source": [
    "import torch\n",
    "import torch.utils.data\n",
    "\n",
    "# Read in only the first 250 rows\n",
    "train_sample = pd.read_csv(os.path.join(data_dir, 'train.csv'), header=None, names=None, nrows=250)\n",
    "\n",
    "# Turn the input pandas dataframe into tensors\n",
    "train_sample_y = torch.from_numpy(train_sample[[0]].values).float().squeeze()\n",
    "train_sample_X = torch.from_numpy(train_sample.drop([0], axis=1).values).long()\n",
    "\n",
    "# Build the dataset\n",
    "train_sample_ds = torch.utils.data.TensorDataset(train_sample_X, train_sample_y)\n",
    "# Build the dataloader\n",
    "train_sample_dl = torch.utils.data.DataLoader(train_sample_ds, batch_size=50)"
   ]
  },
  {
   "cell_type": "markdown",
   "metadata": {},
   "source": [
    "### (TODO) Writing the training method\n",
    "\n",
    "Next we need to write the training code itself. This should be very similar to training methods that you have written before to train PyTorch models. We will leave any difficult aspects such as model saving / loading and parameter loading until a little later."
   ]
  },
  {
   "cell_type": "code",
   "execution_count": 28,
   "metadata": {},
   "outputs": [],
   "source": [
    "def train(model, train_loader, epochs, optimizer, loss_fn, device):\n",
    "    for epoch in range(1, epochs + 1):\n",
    "        model.train()\n",
    "        total_loss = 0\n",
    "        for batch in train_loader:         \n",
    "            batch_X, batch_y = batch\n",
    "            \n",
    "            batch_X = batch_X.to(device)\n",
    "            batch_y = batch_y.to(device)\n",
    "            \n",
    "            # TODO: Complete this train method to train the model provided.\n",
    "            \n",
    "            optimizer.zero_grad()\n",
    "            \n",
    "            output = model.forward(batch_X)\n",
    "            \n",
    "            loss = loss_fn(output, batch_y)\n",
    "            \n",
    "            loss.backward()\n",
    "            \n",
    "            optimizer.step()\n",
    "            \n",
    "            total_loss += loss.data.item()\n",
    "        print(\"Epoch: {}, BCELoss: {}\".format(epoch, total_loss / len(train_loader)))"
   ]
  },
  {
   "cell_type": "markdown",
   "metadata": {},
   "source": [
    "Supposing we have the training method above, we will test that it is working by writing a bit of code in the notebook that executes our training method on the small sample training set that we loaded earlier. The reason for doing this in the notebook is so that we have an opportunity to fix any errors that arise early when they are easier to diagnose."
   ]
  },
  {
   "cell_type": "code",
   "execution_count": 29,
   "metadata": {},
   "outputs": [
    {
     "name": "stdout",
     "output_type": "stream",
     "text": [
      "Epoch: 1, BCELoss: 0.6945790767669677\n",
      "Epoch: 2, BCELoss: 0.6871270060539245\n",
      "Epoch: 3, BCELoss: 0.6807955980300904\n",
      "Epoch: 4, BCELoss: 0.6735450863838196\n",
      "Epoch: 5, BCELoss: 0.6642058253288269\n"
     ]
    }
   ],
   "source": [
    "import torch.optim as optim\n",
    "from train.model import LSTMClassifier\n",
    "\n",
    "device = torch.device(\"cuda\" if torch.cuda.is_available() else \"cpu\")\n",
    "model = LSTMClassifier(32, 100, 5000).to(device)\n",
    "optimizer = optim.Adam(model.parameters())\n",
    "loss_fn = torch.nn.BCELoss()\n",
    "\n",
    "train(model, train_sample_dl, 5, optimizer, loss_fn, device)"
   ]
  },
  {
   "cell_type": "markdown",
   "metadata": {},
   "source": [
    "In order to construct a PyTorch model using SageMaker we must provide SageMaker with a training script. We may optionally include a directory which will be copied to the container and from which our training code will be run. When the training container is executed it will check the uploaded directory (if there is one) for a `requirements.txt` file and install any required Python libraries, after which the training script will be run."
   ]
  },
  {
   "cell_type": "markdown",
   "metadata": {},
   "source": [
    "### (TODO) Training the model\n",
    "\n",
    "When a PyTorch model is constructed in SageMaker, an entry point must be specified. This is the Python file which will be executed when the model is trained. Inside of the `train` directory is a file called `train.py` which has been provided and which contains most of the necessary code to train our model. The only thing that is missing is the implementation of the `train()` method which you wrote earlier in this notebook.\n",
    "\n",
    "**TODO**: Copy the `train()` method written above and paste it into the `train/train.py` file where required.\n",
    "\n",
    "The way that SageMaker passes hyperparameters to the training script is by way of arguments. These arguments can then be parsed and used in the training script. To see how this is done take a look at the provided `train/train.py` file."
   ]
  },
  {
   "cell_type": "code",
   "execution_count": 30,
   "metadata": {},
   "outputs": [],
   "source": [
    "from sagemaker.pytorch import PyTorch\n",
    "\n",
    "estimator = PyTorch(entry_point=\"train.py\",\n",
    "                    source_dir=\"train\",\n",
    "                    role=role,\n",
    "                    framework_version='0.4.0',\n",
    "                    train_instance_count=1,\n",
    "                    train_instance_type='ml.p2.xlarge',\n",
    "                    hyperparameters={\n",
    "                        'epochs': 10,\n",
    "                        'hidden_dim': 200,\n",
    "                    })"
   ]
  },
  {
   "cell_type": "code",
   "execution_count": 31,
   "metadata": {},
   "outputs": [
    {
     "name": "stdout",
     "output_type": "stream",
     "text": [
      "2019-06-08 10:05:45 Starting - Starting the training job...\n",
      "2019-06-08 10:05:46 Starting - Launching requested ML instances......\n",
      "2019-06-08 10:06:53 Starting - Preparing the instances for training.........\n",
      "2019-06-08 10:08:46 Downloading - Downloading input data\n",
      "2019-06-08 10:08:46 Training - Downloading the training image...\n",
      "\u001b[31mbash: cannot set terminal process group (-1): Inappropriate ioctl for device\u001b[0m\n",
      "\u001b[31mbash: no job control in this shell\u001b[0m\n",
      "\u001b[31m2019-06-08 10:09:09,937 sagemaker-containers INFO     Imported framework sagemaker_pytorch_container.training\u001b[0m\n",
      "\u001b[31m2019-06-08 10:09:09,961 sagemaker_pytorch_container.training INFO     Block until all host DNS lookups succeed.\u001b[0m\n",
      "\u001b[31m2019-06-08 10:09:12,970 sagemaker_pytorch_container.training INFO     Invoking user training script.\u001b[0m\n",
      "\u001b[31m2019-06-08 10:09:13,196 sagemaker-containers INFO     Module train does not provide a setup.py. \u001b[0m\n",
      "\u001b[31mGenerating setup.py\u001b[0m\n",
      "\u001b[31m2019-06-08 10:09:13,197 sagemaker-containers INFO     Generating setup.cfg\u001b[0m\n",
      "\u001b[31m2019-06-08 10:09:13,197 sagemaker-containers INFO     Generating MANIFEST.in\u001b[0m\n",
      "\u001b[31m2019-06-08 10:09:13,197 sagemaker-containers INFO     Installing module with the following command:\u001b[0m\n",
      "\u001b[31m/usr/bin/python -m pip install -U . -r requirements.txt\u001b[0m\n",
      "\u001b[31mProcessing /opt/ml/code\u001b[0m\n",
      "\u001b[31mCollecting pandas (from -r requirements.txt (line 1))\n",
      "  Downloading https://files.pythonhosted.org/packages/74/24/0cdbf8907e1e3bc5a8da03345c23cbed7044330bb8f73bb12e711a640a00/pandas-0.24.2-cp35-cp35m-manylinux1_x86_64.whl (10.0MB)\u001b[0m\n",
      "\u001b[31mCollecting numpy (from -r requirements.txt (line 2))\n",
      "  Downloading https://files.pythonhosted.org/packages/bb/ef/d5a21cbc094d3f4d5b5336494dbcc9550b70c766a8345513c7c24ed18418/numpy-1.16.4-cp35-cp35m-manylinux1_x86_64.whl (17.2MB)\u001b[0m\n",
      "\u001b[31mCollecting nltk (from -r requirements.txt (line 3))\n",
      "  Downloading https://files.pythonhosted.org/packages/8d/5d/825889810b85c303c8559a3fd74d451d80cf3585a851f2103e69576bf583/nltk-3.4.3.zip (1.4MB)\u001b[0m\n",
      "\u001b[31mCollecting beautifulsoup4 (from -r requirements.txt (line 4))\n",
      "  Downloading https://files.pythonhosted.org/packages/1d/5d/3260694a59df0ec52f8b4883f5d23b130bc237602a1411fa670eae12351e/beautifulsoup4-4.7.1-py3-none-any.whl (94kB)\u001b[0m\n",
      "\u001b[31mCollecting html5lib (from -r requirements.txt (line 5))\n",
      "  Downloading https://files.pythonhosted.org/packages/a5/62/bbd2be0e7943ec8504b517e62bab011b4946e1258842bc159e5dfde15b96/html5lib-1.0.1-py2.py3-none-any.whl (117kB)\u001b[0m\n",
      "\u001b[31mCollecting pytz>=2011k (from pandas->-r requirements.txt (line 1))\n",
      "  Downloading https://files.pythonhosted.org/packages/3d/73/fe30c2daaaa0713420d0382b16fbb761409f532c56bdcc514bf7b6262bb6/pytz-2019.1-py2.py3-none-any.whl (510kB)\u001b[0m\n",
      "\u001b[31mRequirement already satisfied, skipping upgrade: python-dateutil>=2.5.0 in /usr/local/lib/python3.5/dist-packages (from pandas->-r requirements.txt (line 1)) (2.7.5)\u001b[0m\n",
      "\u001b[31mRequirement already satisfied, skipping upgrade: six in /usr/local/lib/python3.5/dist-packages (from nltk->-r requirements.txt (line 3)) (1.11.0)\u001b[0m\n",
      "\u001b[31mCollecting soupsieve>=1.2 (from beautifulsoup4->-r requirements.txt (line 4))\n",
      "  Downloading https://files.pythonhosted.org/packages/b9/a5/7ea40d0f8676bde6e464a6435a48bc5db09b1a8f4f06d41dd997b8f3c616/soupsieve-1.9.1-py2.py3-none-any.whl\u001b[0m\n",
      "\u001b[31mCollecting webencodings (from html5lib->-r requirements.txt (line 5))\n",
      "  Downloading https://files.pythonhosted.org/packages/f4/24/2a3e3df732393fed8b3ebf2ec078f05546de641fe1b667ee316ec1dcf3b7/webencodings-0.5.1-py2.py3-none-any.whl\u001b[0m\n",
      "\u001b[31mBuilding wheels for collected packages: nltk, train\n",
      "  Running setup.py bdist_wheel for nltk: started\u001b[0m\n",
      "\u001b[31m  Running setup.py bdist_wheel for nltk: finished with status 'done'\n",
      "  Stored in directory: /root/.cache/pip/wheels/54/40/b7/c56ad418e6cd4d9e1e594b5e138d1ca6eec11a6ee3d464e5bb\n",
      "  Running setup.py bdist_wheel for train: started\n",
      "  Running setup.py bdist_wheel for train: finished with status 'done'\n",
      "  Stored in directory: /tmp/pip-ephem-wheel-cache-wo95layk/wheels/35/24/16/37574d11bf9bde50616c67372a334f94fa8356bc7164af8ca3\u001b[0m\n",
      "\u001b[31mSuccessfully built nltk train\u001b[0m\n",
      "\u001b[31mInstalling collected packages: pytz, numpy, pandas, nltk, soupsieve, beautifulsoup4, webencodings, html5lib, train\n",
      "  Found existing installation: numpy 1.15.4\n",
      "    Uninstalling numpy-1.15.4:\u001b[0m\n",
      "\u001b[31m      Successfully uninstalled numpy-1.15.4\u001b[0m\n",
      "\u001b[31mSuccessfully installed beautifulsoup4-4.7.1 html5lib-1.0.1 nltk-3.4.3 numpy-1.16.4 pandas-0.24.2 pytz-2019.1 soupsieve-1.9.1 train-1.0.0 webencodings-0.5.1\u001b[0m\n",
      "\u001b[31mYou are using pip version 18.1, however version 19.1.1 is available.\u001b[0m\n",
      "\u001b[31mYou should consider upgrading via the 'pip install --upgrade pip' command.\u001b[0m\n",
      "\u001b[31m2019-06-08 10:09:24,527 sagemaker-containers INFO     Invoking user script\n",
      "\u001b[0m\n",
      "\u001b[31mTraining Env:\n",
      "\u001b[0m\n",
      "\u001b[31m{\n",
      "    \"module_name\": \"train\",\n",
      "    \"user_entry_point\": \"train.py\",\n",
      "    \"input_config_dir\": \"/opt/ml/input/config\",\n",
      "    \"module_dir\": \"s3://sagemaker-us-east-1-076544891614/sagemaker-pytorch-2019-06-08-10-05-44-909/source/sourcedir.tar.gz\",\n",
      "    \"framework_module\": \"sagemaker_pytorch_container.training:main\",\n",
      "    \"resource_config\": {\n",
      "        \"current_host\": \"algo-1\",\n",
      "        \"hosts\": [\n",
      "            \"algo-1\"\n",
      "        ],\n",
      "        \"network_interface_name\": \"ethwe\"\n",
      "    },\n",
      "    \"log_level\": 20,\n",
      "    \"model_dir\": \"/opt/ml/model\",\n",
      "    \"output_dir\": \"/opt/ml/output\",\n",
      "    \"channel_input_dirs\": {\n",
      "        \"training\": \"/opt/ml/input/data/training\"\n",
      "    },\n",
      "    \"hyperparameters\": {\n",
      "        \"epochs\": 10,\n",
      "        \"hidden_dim\": 200\n",
      "    },\n",
      "    \"additional_framework_parameters\": {},\n",
      "    \"num_cpus\": 4,\n",
      "    \"output_intermediate_dir\": \"/opt/ml/output/intermediate\",\n",
      "    \"job_name\": \"sagemaker-pytorch-2019-06-08-10-05-44-909\",\n",
      "    \"input_data_config\": {\n",
      "        \"training\": {\n",
      "            \"S3DistributionType\": \"FullyReplicated\",\n",
      "            \"RecordWrapperType\": \"None\",\n",
      "            \"TrainingInputMode\": \"File\"\n",
      "        }\n",
      "    },\n",
      "    \"output_data_dir\": \"/opt/ml/output/data\",\n",
      "    \"current_host\": \"algo-1\",\n",
      "    \"hosts\": [\n",
      "        \"algo-1\"\n",
      "    ],\n",
      "    \"num_gpus\": 1,\n",
      "    \"input_dir\": \"/opt/ml/input\",\n",
      "    \"network_interface_name\": \"ethwe\"\u001b[0m\n",
      "\u001b[31m}\n",
      "\u001b[0m\n",
      "\u001b[31mEnvironment variables:\n",
      "\u001b[0m\n",
      "\u001b[31mSM_OUTPUT_DIR=/opt/ml/output\u001b[0m\n",
      "\u001b[31mSM_NUM_CPUS=4\u001b[0m\n",
      "\u001b[31mSM_INPUT_DATA_CONFIG={\"training\":{\"RecordWrapperType\":\"None\",\"S3DistributionType\":\"FullyReplicated\",\"TrainingInputMode\":\"File\"}}\u001b[0m\n",
      "\u001b[31mSM_CHANNEL_TRAINING=/opt/ml/input/data/training\u001b[0m\n",
      "\u001b[31mSM_RESOURCE_CONFIG={\"current_host\":\"algo-1\",\"hosts\":[\"algo-1\"],\"network_interface_name\":\"ethwe\"}\u001b[0m\n",
      "\u001b[31mSM_CHANNELS=[\"training\"]\u001b[0m\n",
      "\u001b[31mSM_USER_ENTRY_POINT=train.py\u001b[0m\n",
      "\u001b[31mSM_TRAINING_ENV={\"additional_framework_parameters\":{},\"channel_input_dirs\":{\"training\":\"/opt/ml/input/data/training\"},\"current_host\":\"algo-1\",\"framework_module\":\"sagemaker_pytorch_container.training:main\",\"hosts\":[\"algo-1\"],\"hyperparameters\":{\"epochs\":10,\"hidden_dim\":200},\"input_config_dir\":\"/opt/ml/input/config\",\"input_data_config\":{\"training\":{\"RecordWrapperType\":\"None\",\"S3DistributionType\":\"FullyReplicated\",\"TrainingInputMode\":\"File\"}},\"input_dir\":\"/opt/ml/input\",\"job_name\":\"sagemaker-pytorch-2019-06-08-10-05-44-909\",\"log_level\":20,\"model_dir\":\"/opt/ml/model\",\"module_dir\":\"s3://sagemaker-us-east-1-076544891614/sagemaker-pytorch-2019-06-08-10-05-44-909/source/sourcedir.tar.gz\",\"module_name\":\"train\",\"network_interface_name\":\"ethwe\",\"num_cpus\":4,\"num_gpus\":1,\"output_data_dir\":\"/opt/ml/output/data\",\"output_dir\":\"/opt/ml/output\",\"output_intermediate_dir\":\"/opt/ml/output/intermediate\",\"resource_config\":{\"current_host\":\"algo-1\",\"hosts\":[\"algo-1\"],\"network_interface_name\":\"ethwe\"},\"user_entry_point\":\"train.py\"}\u001b[0m\n",
      "\u001b[31mSM_FRAMEWORK_MODULE=sagemaker_pytorch_container.training:main\u001b[0m\n",
      "\u001b[31mPYTHONPATH=/usr/local/bin:/usr/lib/python35.zip:/usr/lib/python3.5:/usr/lib/python3.5/plat-x86_64-linux-gnu:/usr/lib/python3.5/lib-dynload:/usr/local/lib/python3.5/dist-packages:/usr/lib/python3/dist-packages\u001b[0m\n",
      "\u001b[31mSM_MODEL_DIR=/opt/ml/model\u001b[0m\n",
      "\u001b[31mSM_FRAMEWORK_PARAMS={}\u001b[0m\n",
      "\u001b[31mSM_OUTPUT_DATA_DIR=/opt/ml/output/data\u001b[0m\n",
      "\u001b[31mSM_HP_EPOCHS=10\u001b[0m\n",
      "\u001b[31mSM_NUM_GPUS=1\u001b[0m\n",
      "\u001b[31mSM_HP_HIDDEN_DIM=200\u001b[0m\n",
      "\u001b[31mSM_CURRENT_HOST=algo-1\u001b[0m\n",
      "\u001b[31mSM_OUTPUT_INTERMEDIATE_DIR=/opt/ml/output/intermediate\u001b[0m\n",
      "\u001b[31mSM_INPUT_CONFIG_DIR=/opt/ml/input/config\u001b[0m\n",
      "\u001b[31mSM_HOSTS=[\"algo-1\"]\u001b[0m\n",
      "\u001b[31mSM_USER_ARGS=[\"--epochs\",\"10\",\"--hidden_dim\",\"200\"]\u001b[0m\n",
      "\u001b[31mSM_INPUT_DIR=/opt/ml/input\u001b[0m\n",
      "\u001b[31mSM_HPS={\"epochs\":10,\"hidden_dim\":200}\u001b[0m\n",
      "\u001b[31mSM_LOG_LEVEL=20\u001b[0m\n",
      "\u001b[31mSM_NETWORK_INTERFACE_NAME=ethwe\u001b[0m\n",
      "\u001b[31mSM_MODULE_NAME=train\u001b[0m\n",
      "\u001b[31mSM_MODULE_DIR=s3://sagemaker-us-east-1-076544891614/sagemaker-pytorch-2019-06-08-10-05-44-909/source/sourcedir.tar.gz\n",
      "\u001b[0m\n",
      "\u001b[31mInvoking script with the following command:\n",
      "\u001b[0m\n",
      "\u001b[31m/usr/bin/python -m train --epochs 10 --hidden_dim 200\n",
      "\n",
      "\u001b[0m\n",
      "\u001b[31mUsing device cuda.\u001b[0m\n",
      "\u001b[31mGet train data loader.\u001b[0m\n"
     ]
    },
    {
     "name": "stdout",
     "output_type": "stream",
     "text": [
      "\n",
      "2019-06-08 10:09:39 Training - Training image download completed. Training in progress.\u001b[31mModel loaded with embedding_dim 32, hidden_dim 200, vocab_size 5000.\u001b[0m\n",
      "\u001b[31mEpoch: 1, BCELoss: 0.6739109937025576\u001b[0m\n",
      "\u001b[31mEpoch: 2, BCELoss: 0.5901275642064153\u001b[0m\n",
      "\u001b[31mEpoch: 3, BCELoss: 0.5285400450229645\u001b[0m\n",
      "\u001b[31mEpoch: 4, BCELoss: 0.4521447541762371\u001b[0m\n",
      "\u001b[31mEpoch: 5, BCELoss: 0.3920230622194251\u001b[0m\n",
      "\u001b[31mEpoch: 6, BCELoss: 0.35875485928691164\u001b[0m\n",
      "\u001b[31mEpoch: 7, BCELoss: 0.3394331092737159\u001b[0m\n",
      "\u001b[31mEpoch: 8, BCELoss: 0.31767240470769453\u001b[0m\n",
      "\u001b[31mEpoch: 9, BCELoss: 0.2989449893333474\u001b[0m\n",
      "\u001b[31mEpoch: 10, BCELoss: 0.2783115259846862\u001b[0m\n",
      "\u001b[31m2019-06-08 10:12:25,389 sagemaker-containers INFO     Reporting training SUCCESS\u001b[0m\n",
      "\n",
      "2019-06-08 10:12:32 Uploading - Uploading generated training model\n",
      "2019-06-08 10:12:32 Completed - Training job completed\n",
      "Billable seconds: 236\n"
     ]
    }
   ],
   "source": [
    "estimator.fit({'training': input_data})"
   ]
  },
  {
   "cell_type": "markdown",
   "metadata": {},
   "source": [
    "## Step 5: Testing the model\n",
    "\n",
    "As mentioned at the top of this notebook, we will be testing this model by first deploying it and then sending the testing data to the deployed endpoint. We will do this so that we can make sure that the deployed model is working correctly.\n",
    "\n",
    "## Step 6: Deploy the model for testing\n",
    "\n",
    "Now that we have trained our model, we would like to test it to see how it performs. Currently our model takes input of the form `review_length, review[500]` where `review[500]` is a sequence of `500` integers which describe the words present in the review, encoded using `word_dict`. Fortunately for us, SageMaker provides built-in inference code for models with simple inputs such as this.\n",
    "\n",
    "There is one thing that we need to provide, however, and that is a function which loads the saved model. This function must be called `model_fn()` and takes as its only parameter a path to the directory where the model artifacts are stored. This function must also be present in the python file which we specified as the entry point. In our case the model loading function has been provided and so no changes need to be made.\n",
    "\n",
    "**NOTE**: When the built-in inference code is run it must import the `model_fn()` method from the `train.py` file. This is why the training code is wrapped in a main guard ( ie, `if __name__ == '__main__':` )\n",
    "\n",
    "Since we don't need to change anything in the code that was uploaded during training, we can simply deploy the current model as-is.\n",
    "\n",
    "**NOTE:** When deploying a model you are asking SageMaker to launch an compute instance that will wait for data to be sent to it. As a result, this compute instance will continue to run until *you* shut it down. This is important to know since the cost of a deployed endpoint depends on how long it has been running for.\n",
    "\n",
    "In other words **If you are no longer using a deployed endpoint, shut it down!**\n",
    "\n",
    "**TODO:** Deploy the trained model."
   ]
  },
  {
   "cell_type": "code",
   "execution_count": 32,
   "metadata": {},
   "outputs": [
    {
     "name": "stdout",
     "output_type": "stream",
     "text": [
      "----------------------------------------------------------------------------------------!"
     ]
    }
   ],
   "source": [
    "# TODO: Deploy the trained model\n",
    "predictor = estimator.deploy(initial_instance_count = 1, instance_type = 'ml.m4.xlarge')"
   ]
  },
  {
   "cell_type": "markdown",
   "metadata": {},
   "source": [
    "## Step 7 - Use the model for testing\n",
    "\n",
    "Once deployed, we can read in the test data and send it off to our deployed model to get some results. Once we collect all of the results we can determine how accurate our model is."
   ]
  },
  {
   "cell_type": "code",
   "execution_count": 33,
   "metadata": {},
   "outputs": [],
   "source": [
    "test_X = pd.concat([pd.DataFrame(test_X_len), pd.DataFrame(test_X)], axis=1)"
   ]
  },
  {
   "cell_type": "code",
   "execution_count": 34,
   "metadata": {},
   "outputs": [],
   "source": [
    "# We split the data into chunks and send each chunk seperately, accumulating the results.\n",
    "\n",
    "def predict(data, rows=512):\n",
    "    split_array = np.array_split(data, int(data.shape[0] / float(rows) + 1))\n",
    "    predictions = np.array([])\n",
    "    for array in split_array:\n",
    "        predictions = np.append(predictions, predictor.predict(array))\n",
    "    \n",
    "    return predictions"
   ]
  },
  {
   "cell_type": "code",
   "execution_count": 35,
   "metadata": {},
   "outputs": [],
   "source": [
    "predictions = predict(test_X.values)\n",
    "predictions = [round(num) for num in predictions]"
   ]
  },
  {
   "cell_type": "code",
   "execution_count": 36,
   "metadata": {},
   "outputs": [
    {
     "data": {
      "text/plain": [
       "0.85216"
      ]
     },
     "execution_count": 36,
     "metadata": {},
     "output_type": "execute_result"
    }
   ],
   "source": [
    "from sklearn.metrics import accuracy_score\n",
    "accuracy_score(test_y, predictions)"
   ]
  },
  {
   "cell_type": "markdown",
   "metadata": {},
   "source": [
    "**Question:** How does this model compare to the XGBoost model you created earlier? Why might these two models perform differently on this dataset? Which do *you* think is better for sentiment analysis?"
   ]
  },
  {
   "cell_type": "markdown",
   "metadata": {},
   "source": [
    "**Answer:**\n",
    "\n",
    "- this model's accuracy score is better.\n",
    "- two different model have different neural networks with different parameters and hyperparameters for the outcome to be different."
   ]
  },
  {
   "cell_type": "markdown",
   "metadata": {},
   "source": [
    "### (TODO) More testing\n",
    "\n",
    "We now have a trained model which has been deployed and which we can send processed reviews to and which returns the predicted sentiment. However, ultimately we would like to be able to send our model an unprocessed review. That is, we would like to send the review itself as a string. For example, suppose we wish to send the following review to our model."
   ]
  },
  {
   "cell_type": "code",
   "execution_count": 37,
   "metadata": {},
   "outputs": [],
   "source": [
    "test_review = 'The simplest pleasures in life are the best, and this film is one of them. Combining a rather basic storyline of love and adventure this movie transcends the usual weekend fair with wit and unmitigated charm.'"
   ]
  },
  {
   "cell_type": "markdown",
   "metadata": {},
   "source": [
    "The question we now need to answer is, how do we send this review to our model?\n",
    "\n",
    "Recall in the first section of this notebook we did a bunch of data processing to the IMDb dataset. In particular, we did two specific things to the provided reviews.\n",
    " - Removed any html tags and stemmed the input\n",
    " - Encoded the review as a sequence of integers using `word_dict`\n",
    " \n",
    "In order process the review we will need to repeat these two steps.\n",
    "\n",
    "**TODO**: Using the `review_to_words` and `convert_and_pad` methods from section one, convert `test_review` into a numpy array `test_data` suitable to send to our model. Remember that our model expects input of the form `review_length, review[500]`."
   ]
  },
  {
   "cell_type": "code",
   "execution_count": 38,
   "metadata": {},
   "outputs": [],
   "source": [
    "# TODO: Convert test_review into a form usable by the model and save the results in test_data\n",
    "\n",
    "# Step One - remove any html tags and stem the input\n",
    "test_data_step_one = review_to_words(test_review)"
   ]
  },
  {
   "cell_type": "code",
   "execution_count": 39,
   "metadata": {},
   "outputs": [],
   "source": [
    "# Step Two - Transform the Data into 500 vector numbers\n",
    "test_data = [np.array(convert_and_pad(word_dict, test_data_step_one)[0])]"
   ]
  },
  {
   "cell_type": "markdown",
   "metadata": {},
   "source": [
    "Now that we have processed the review, we can send the resulting array to our model to predict the sentiment of the review."
   ]
  },
  {
   "cell_type": "code",
   "execution_count": 40,
   "metadata": {},
   "outputs": [
    {
     "data": {
      "text/plain": [
       "array(0.42761034, dtype=float32)"
      ]
     },
     "execution_count": 40,
     "metadata": {},
     "output_type": "execute_result"
    }
   ],
   "source": [
    "predictor.predict(test_data)"
   ]
  },
  {
   "cell_type": "markdown",
   "metadata": {},
   "source": [
    "Since the return value of our model is close to `1`, we can be certain that the review we submitted is positive."
   ]
  },
  {
   "cell_type": "markdown",
   "metadata": {},
   "source": [
    "### Delete the endpoint\n",
    "\n",
    "Of course, just like in the XGBoost notebook, once we've deployed an endpoint it continues to run until we tell it to shut down. Since we are done using our endpoint for now, we can delete it."
   ]
  },
  {
   "cell_type": "code",
   "execution_count": 41,
   "metadata": {},
   "outputs": [],
   "source": [
    "estimator.delete_endpoint()"
   ]
  },
  {
   "cell_type": "markdown",
   "metadata": {},
   "source": [
    "## Step 6 (again) - Deploy the model for the web app\n",
    "\n",
    "Now that we know that our model is working, it's time to create some custom inference code so that we can send the model a review which has not been processed and have it determine the sentiment of the review.\n",
    "\n",
    "As we saw above, by default the estimator which we created, when deployed, will use the entry script and directory which we provided when creating the model. However, since we now wish to accept a string as input and our model expects a processed review, we need to write some custom inference code.\n",
    "\n",
    "We will store the code that we write in the `serve` directory. Provided in this directory is the `model.py` file that we used to construct our model, a `utils.py` file which contains the `review_to_words` and `convert_and_pad` pre-processing functions which we used during the initial data processing, and `predict.py`, the file which will contain our custom inference code. Note also that `requirements.txt` is present which will tell SageMaker what Python libraries are required by our custom inference code.\n",
    "\n",
    "When deploying a PyTorch model in SageMaker, you are expected to provide four functions which the SageMaker inference container will use.\n",
    " - `model_fn`: This function is the same function that we used in the training script and it tells SageMaker how to load our model.\n",
    " - `input_fn`: This function receives the raw serialized input that has been sent to the model's endpoint and its job is to de-serialize and make the input available for the inference code.\n",
    " - `output_fn`: This function takes the output of the inference code and its job is to serialize this output and return it to the caller of the model's endpoint.\n",
    " - `predict_fn`: The heart of the inference script, this is where the actual prediction is done and is the function which you will need to complete.\n",
    "\n",
    "For the simple website that we are constructing during this project, the `input_fn` and `output_fn` methods are relatively straightforward. We only require being able to accept a string as input and we expect to return a single value as output. You might imagine though that in a more complex application the input or output may be image data or some other binary data which would require some effort to serialize.\n",
    "\n",
    "### (TODO) Writing inference code\n",
    "\n",
    "Before writing our custom inference code, we will begin by taking a look at the code which has been provided."
   ]
  },
  {
   "cell_type": "code",
   "execution_count": 75,
   "metadata": {},
   "outputs": [
    {
     "name": "stdout",
     "output_type": "stream",
     "text": [
      "\u001b[34mimport\u001b[39;49;00m \u001b[04m\u001b[36margparse\u001b[39;49;00m\r\n",
      "\u001b[34mimport\u001b[39;49;00m \u001b[04m\u001b[36mjson\u001b[39;49;00m\r\n",
      "\u001b[34mimport\u001b[39;49;00m \u001b[04m\u001b[36mos\u001b[39;49;00m\r\n",
      "\u001b[34mimport\u001b[39;49;00m \u001b[04m\u001b[36mpickle\u001b[39;49;00m\r\n",
      "\u001b[34mimport\u001b[39;49;00m \u001b[04m\u001b[36msys\u001b[39;49;00m\r\n",
      "\u001b[34mimport\u001b[39;49;00m \u001b[04m\u001b[36msagemaker_containers\u001b[39;49;00m\r\n",
      "\u001b[34mimport\u001b[39;49;00m \u001b[04m\u001b[36mpandas\u001b[39;49;00m \u001b[34mas\u001b[39;49;00m \u001b[04m\u001b[36mpd\u001b[39;49;00m\r\n",
      "\u001b[34mimport\u001b[39;49;00m \u001b[04m\u001b[36mnumpy\u001b[39;49;00m \u001b[34mas\u001b[39;49;00m \u001b[04m\u001b[36mnp\u001b[39;49;00m\r\n",
      "\u001b[34mimport\u001b[39;49;00m \u001b[04m\u001b[36mtorch\u001b[39;49;00m\r\n",
      "\u001b[34mimport\u001b[39;49;00m \u001b[04m\u001b[36mtorch.nn\u001b[39;49;00m \u001b[34mas\u001b[39;49;00m \u001b[04m\u001b[36mnn\u001b[39;49;00m\r\n",
      "\u001b[34mimport\u001b[39;49;00m \u001b[04m\u001b[36mtorch.optim\u001b[39;49;00m \u001b[34mas\u001b[39;49;00m \u001b[04m\u001b[36moptim\u001b[39;49;00m\r\n",
      "\u001b[34mimport\u001b[39;49;00m \u001b[04m\u001b[36mtorch.utils.data\u001b[39;49;00m\r\n",
      "\r\n",
      "\u001b[34mfrom\u001b[39;49;00m \u001b[04m\u001b[36mmodel\u001b[39;49;00m \u001b[34mimport\u001b[39;49;00m LSTMClassifier\r\n",
      "\r\n",
      "\u001b[34mfrom\u001b[39;49;00m \u001b[04m\u001b[36mutils\u001b[39;49;00m \u001b[34mimport\u001b[39;49;00m review_to_words, convert_and_pad\r\n",
      "\r\n",
      "\u001b[34mdef\u001b[39;49;00m \u001b[32mmodel_fn\u001b[39;49;00m(model_dir):\r\n",
      "    \u001b[33m\"\"\"Load the PyTorch model from the `model_dir` directory.\"\"\"\u001b[39;49;00m\r\n",
      "    \u001b[34mprint\u001b[39;49;00m(\u001b[33m\"\u001b[39;49;00m\u001b[33mLoading model.\u001b[39;49;00m\u001b[33m\"\u001b[39;49;00m)\r\n",
      "\r\n",
      "    \u001b[37m# First, load the parameters used to create the model.\u001b[39;49;00m\r\n",
      "    model_info = {}\r\n",
      "    model_info_path = os.path.join(model_dir, \u001b[33m'\u001b[39;49;00m\u001b[33mmodel_info.pth\u001b[39;49;00m\u001b[33m'\u001b[39;49;00m)\r\n",
      "    \u001b[34mwith\u001b[39;49;00m \u001b[36mopen\u001b[39;49;00m(model_info_path, \u001b[33m'\u001b[39;49;00m\u001b[33mrb\u001b[39;49;00m\u001b[33m'\u001b[39;49;00m) \u001b[34mas\u001b[39;49;00m f:\r\n",
      "        model_info = torch.load(f)\r\n",
      "\r\n",
      "    \u001b[34mprint\u001b[39;49;00m(\u001b[33m\"\u001b[39;49;00m\u001b[33mmodel_info: {}\u001b[39;49;00m\u001b[33m\"\u001b[39;49;00m.format(model_info))\r\n",
      "\r\n",
      "    \u001b[37m# Determine the device and construct the model.\u001b[39;49;00m\r\n",
      "    device = torch.device(\u001b[33m\"\u001b[39;49;00m\u001b[33mcuda\u001b[39;49;00m\u001b[33m\"\u001b[39;49;00m \u001b[34mif\u001b[39;49;00m torch.cuda.is_available() \u001b[34melse\u001b[39;49;00m \u001b[33m\"\u001b[39;49;00m\u001b[33mcpu\u001b[39;49;00m\u001b[33m\"\u001b[39;49;00m)\r\n",
      "    model = LSTMClassifier(model_info[\u001b[33m'\u001b[39;49;00m\u001b[33membedding_dim\u001b[39;49;00m\u001b[33m'\u001b[39;49;00m], model_info[\u001b[33m'\u001b[39;49;00m\u001b[33mhidden_dim\u001b[39;49;00m\u001b[33m'\u001b[39;49;00m], model_info[\u001b[33m'\u001b[39;49;00m\u001b[33mvocab_size\u001b[39;49;00m\u001b[33m'\u001b[39;49;00m])\r\n",
      "\r\n",
      "    \u001b[37m# Load the store model parameters.\u001b[39;49;00m\r\n",
      "    model_path = os.path.join(model_dir, \u001b[33m'\u001b[39;49;00m\u001b[33mmodel.pth\u001b[39;49;00m\u001b[33m'\u001b[39;49;00m)\r\n",
      "    \u001b[34mwith\u001b[39;49;00m \u001b[36mopen\u001b[39;49;00m(model_path, \u001b[33m'\u001b[39;49;00m\u001b[33mrb\u001b[39;49;00m\u001b[33m'\u001b[39;49;00m) \u001b[34mas\u001b[39;49;00m f:\r\n",
      "        model.load_state_dict(torch.load(f))\r\n",
      "\r\n",
      "    \u001b[37m# Load the saved word_dict.\u001b[39;49;00m\r\n",
      "    word_dict_path = os.path.join(model_dir, \u001b[33m'\u001b[39;49;00m\u001b[33mword_dict.pkl\u001b[39;49;00m\u001b[33m'\u001b[39;49;00m)\r\n",
      "    \u001b[34mwith\u001b[39;49;00m \u001b[36mopen\u001b[39;49;00m(word_dict_path, \u001b[33m'\u001b[39;49;00m\u001b[33mrb\u001b[39;49;00m\u001b[33m'\u001b[39;49;00m) \u001b[34mas\u001b[39;49;00m f:\r\n",
      "        model.word_dict = pickle.load(f)\r\n",
      "\r\n",
      "    model.to(device).eval()\r\n",
      "\r\n",
      "    \u001b[34mprint\u001b[39;49;00m(\u001b[33m\"\u001b[39;49;00m\u001b[33mDone loading model.\u001b[39;49;00m\u001b[33m\"\u001b[39;49;00m)\r\n",
      "    \u001b[34mreturn\u001b[39;49;00m model\r\n",
      "\r\n",
      "\u001b[34mdef\u001b[39;49;00m \u001b[32minput_fn\u001b[39;49;00m(serialized_input_data, content_type):\r\n",
      "    \u001b[34mprint\u001b[39;49;00m(\u001b[33m'\u001b[39;49;00m\u001b[33mDeserializing the input data.\u001b[39;49;00m\u001b[33m'\u001b[39;49;00m)\r\n",
      "    \u001b[34mif\u001b[39;49;00m content_type == \u001b[33m'\u001b[39;49;00m\u001b[33mtext/plain\u001b[39;49;00m\u001b[33m'\u001b[39;49;00m:\r\n",
      "        data = serialized_input_data.decode(\u001b[33m'\u001b[39;49;00m\u001b[33mutf-8\u001b[39;49;00m\u001b[33m'\u001b[39;49;00m)\r\n",
      "        \u001b[34mreturn\u001b[39;49;00m data\r\n",
      "    \u001b[34mraise\u001b[39;49;00m \u001b[36mException\u001b[39;49;00m(\u001b[33m'\u001b[39;49;00m\u001b[33mRequested unsupported ContentType in content_type: \u001b[39;49;00m\u001b[33m'\u001b[39;49;00m + content_type)\r\n",
      "\r\n",
      "\u001b[34mdef\u001b[39;49;00m \u001b[32moutput_fn\u001b[39;49;00m(prediction_output, accept):\r\n",
      "    \u001b[34mprint\u001b[39;49;00m(\u001b[33m'\u001b[39;49;00m\u001b[33mSerializing the generated output.\u001b[39;49;00m\u001b[33m'\u001b[39;49;00m)\r\n",
      "    \u001b[34mreturn\u001b[39;49;00m \u001b[36mstr\u001b[39;49;00m(prediction_output)\r\n",
      "\r\n",
      "\u001b[34mdef\u001b[39;49;00m \u001b[32mpredict_fn\u001b[39;49;00m(input_data, model):\r\n",
      "    \u001b[34mprint\u001b[39;49;00m(\u001b[33m'\u001b[39;49;00m\u001b[33mInferring sentiment of input data.\u001b[39;49;00m\u001b[33m'\u001b[39;49;00m)\r\n",
      "\r\n",
      "    device = torch.device(\u001b[33m\"\u001b[39;49;00m\u001b[33mcuda\u001b[39;49;00m\u001b[33m\"\u001b[39;49;00m \u001b[34mif\u001b[39;49;00m torch.cuda.is_available() \u001b[34melse\u001b[39;49;00m \u001b[33m\"\u001b[39;49;00m\u001b[33mcpu\u001b[39;49;00m\u001b[33m\"\u001b[39;49;00m)\r\n",
      "    \r\n",
      "    \u001b[34mif\u001b[39;49;00m model.word_dict \u001b[35mis\u001b[39;49;00m \u001b[36mNone\u001b[39;49;00m:\r\n",
      "        \u001b[34mraise\u001b[39;49;00m \u001b[36mException\u001b[39;49;00m(\u001b[33m'\u001b[39;49;00m\u001b[33mModel has not been loaded properly, no word_dict.\u001b[39;49;00m\u001b[33m'\u001b[39;49;00m)\r\n",
      "    \r\n",
      "    \u001b[37m# TODO: Process input_data so that it is ready to be sent to our model.\u001b[39;49;00m\r\n",
      "    \u001b[37m#       You should produce two variables:\u001b[39;49;00m\r\n",
      "    \u001b[37m#         data_X   - A sequence of length 500 which represents the converted review\u001b[39;49;00m\r\n",
      "    \u001b[37m#         data_len - The length of the review\u001b[39;49;00m\r\n",
      "    \r\n",
      "    data_X = \u001b[36mNone\u001b[39;49;00m\r\n",
      "    data_len = \u001b[36mNone\u001b[39;49;00m\r\n",
      "    \r\n",
      "    review_words = review_to_words(input_data)\r\n",
      "    data_X, data_len = convert_and_pad(model.word_dict, review_words)\r\n",
      "\r\n",
      "    \u001b[37m# Using data_X and data_len we construct an appropriate input tensor. Remember\u001b[39;49;00m\r\n",
      "    \u001b[37m# that our model expects input data of the form 'len, review[500]'.\u001b[39;49;00m\r\n",
      "    data_pack = np.hstack((data_len, data_X))\r\n",
      "    data_pack = data_pack.reshape(\u001b[34m1\u001b[39;49;00m, -\u001b[34m1\u001b[39;49;00m)\r\n",
      "    \r\n",
      "    data = torch.from_numpy(data_pack)\r\n",
      "    data = data.to(device)\r\n",
      "\r\n",
      "    \u001b[37m# Make sure to put the model into evaluation mode\u001b[39;49;00m\r\n",
      "    model.eval()\r\n",
      "\r\n",
      "    \u001b[37m# TODO: Compute the result of applying the model to the input data. The variable `result` should\u001b[39;49;00m\r\n",
      "    \u001b[37m#       be a numpy array which contains a single integer which is either 1 or 0\u001b[39;49;00m\r\n",
      "\r\n",
      "    \r\n",
      "    \u001b[34mwith\u001b[39;49;00m torch.no_grad():\r\n",
      "        output = model.forward(data)\r\n",
      "        \r\n",
      "    result = np.round(output.numpy())\r\n",
      "\r\n",
      "    \u001b[34mreturn\u001b[39;49;00m result\r\n"
     ]
    }
   ],
   "source": [
    "!pygmentize serve/predict.py"
   ]
  },
  {
   "cell_type": "markdown",
   "metadata": {},
   "source": [
    "As mentioned earlier, the `model_fn` method is the same as the one provided in the training code and the `input_fn` and `output_fn` methods are very simple and your task will be to complete the `predict_fn` method. Make sure that you save the completed file as `predict.py` in the `serve` directory.\n",
    "\n",
    "**TODO**: Complete the `predict_fn()` method in the `serve/predict.py` file."
   ]
  },
  {
   "cell_type": "markdown",
   "metadata": {},
   "source": [
    "### Deploying the model\n",
    "\n",
    "Now that the custom inference code has been written, we will create and deploy our model. To begin with, we need to construct a new PyTorchModel object which points to the model artifacts created during training and also points to the inference code that we wish to use. Then we can call the deploy method to launch the deployment container.\n",
    "\n",
    "**NOTE**: The default behaviour for a deployed PyTorch model is to assume that any input passed to the predictor is a `numpy` array. In our case we want to send a string so we need to construct a simple wrapper around the `RealTimePredictor` class to accomodate simple strings. In a more complicated situation you may want to provide a serialization object, for example if you wanted to sent image data."
   ]
  },
  {
   "cell_type": "code",
   "execution_count": 76,
   "metadata": {},
   "outputs": [
    {
     "name": "stdout",
     "output_type": "stream",
     "text": [
      "---------------------------------------------------------------------------------------!"
     ]
    }
   ],
   "source": [
    "from sagemaker.predictor import RealTimePredictor\n",
    "from sagemaker.pytorch import PyTorchModel\n",
    "\n",
    "class StringPredictor(RealTimePredictor):\n",
    "    def __init__(self, endpoint_name, sagemaker_session):\n",
    "        super(StringPredictor, self).__init__(endpoint_name, sagemaker_session, content_type='text/plain')\n",
    "\n",
    "model = PyTorchModel(model_data=estimator.model_data,\n",
    "                     role = role,\n",
    "                     framework_version='0.4.0',\n",
    "                     entry_point='predict.py',\n",
    "                     source_dir='serve',\n",
    "                     predictor_cls=StringPredictor)\n",
    "predictor = model.deploy(initial_instance_count=1, instance_type='ml.m4.xlarge')"
   ]
  },
  {
   "cell_type": "markdown",
   "metadata": {},
   "source": [
    "### Testing the model\n",
    "\n",
    "Now that we have deployed our model with the custom inference code, we should test to see if everything is working. Here we test our model by loading the first `250` positive and negative reviews and send them to the endpoint, then collect the results. The reason for only sending some of the data is that the amount of time it takes for our model to process the input and then perform inference is quite long and so testing the entire data set would be prohibitive."
   ]
  },
  {
   "cell_type": "code",
   "execution_count": 77,
   "metadata": {},
   "outputs": [],
   "source": [
    "import glob\n",
    "\n",
    "def test_reviews(data_dir='../data/aclImdb', stop=250):\n",
    "    \n",
    "    results = []\n",
    "    ground = []\n",
    "    \n",
    "    # We make sure to test both positive and negative reviews    \n",
    "    for sentiment in ['pos', 'neg']:\n",
    "        \n",
    "        path = os.path.join(data_dir, 'test', sentiment, '*.txt')\n",
    "        files = glob.glob(path)\n",
    "        \n",
    "        files_read = 0\n",
    "        \n",
    "        print('Starting ', sentiment, ' files')\n",
    "        \n",
    "        # Iterate through the files and send them to the predictor\n",
    "        for f in files:\n",
    "            with open(f) as review:\n",
    "                # First, we store the ground truth (was the review positive or negative)\n",
    "                if sentiment == 'pos':\n",
    "                    ground.append(1)\n",
    "                else:\n",
    "                    ground.append(0)\n",
    "                # Read in the review and convert to 'utf-8' for transmission via HTTP\n",
    "                review_input = review.read().encode('utf-8')\n",
    "                # Send the review to the predictor and store the results\n",
    "                results.append(float(predictor.predict(review_input)))\n",
    "                \n",
    "            # Sending reviews to our endpoint one at a time takes a while so we\n",
    "            # only send a small number of reviews\n",
    "            files_read += 1\n",
    "            if files_read == stop:\n",
    "                break\n",
    "            \n",
    "    return ground, results"
   ]
  },
  {
   "cell_type": "code",
   "execution_count": 85,
   "metadata": {},
   "outputs": [
    {
     "name": "stdout",
     "output_type": "stream",
     "text": [
      "Starting  pos  files\n",
      "Starting  neg  files\n"
     ]
    }
   ],
   "source": [
    "ground, results = test_reviews()"
   ]
  },
  {
   "cell_type": "code",
   "execution_count": 86,
   "metadata": {},
   "outputs": [
    {
     "data": {
      "text/plain": [
       "0.826"
      ]
     },
     "execution_count": 86,
     "metadata": {},
     "output_type": "execute_result"
    }
   ],
   "source": [
    "from sklearn.metrics import accuracy_score\n",
    "accuracy_score(ground, results)"
   ]
  },
  {
   "cell_type": "markdown",
   "metadata": {},
   "source": [
    "As an additional test, we can try sending the `test_review` that we looked at earlier."
   ]
  },
  {
   "cell_type": "code",
   "execution_count": 87,
   "metadata": {},
   "outputs": [
    {
     "data": {
      "text/plain": [
       "b'1.0'"
      ]
     },
     "execution_count": 87,
     "metadata": {},
     "output_type": "execute_result"
    }
   ],
   "source": [
    "predictor.predict(test_review)"
   ]
  },
  {
   "cell_type": "code",
   "execution_count": 81,
   "metadata": {},
   "outputs": [],
   "source": [
    "# predictor.delete_endpoint()"
   ]
  },
  {
   "cell_type": "markdown",
   "metadata": {},
   "source": [
    "Now that we know our endpoint is working as expected, we can set up the web page that will interact with it. If you don't have time to finish the project now, make sure to skip down to the end of this notebook and shut down your endpoint. You can deploy it again when you come back."
   ]
  },
  {
   "cell_type": "markdown",
   "metadata": {},
   "source": [
    "## Step 7 (again): Use the model for the web app\n",
    "\n",
    "> **TODO:** This entire section and the next contain tasks for you to complete, mostly using the AWS console.\n",
    "\n",
    "So far we have been accessing our model endpoint by constructing a predictor object which uses the endpoint and then just using the predictor object to perform inference. What if we wanted to create a web app which accessed our model? The way things are set up currently makes that not possible since in order to access a SageMaker endpoint the app would first have to authenticate with AWS using an IAM role which included access to SageMaker endpoints. However, there is an easier way! We just need to use some additional AWS services.\n",
    "\n",
    "<img src=\"Web App Diagram.svg\">\n",
    "\n",
    "The diagram above gives an overview of how the various services will work together. On the far right is the model which we trained above and which is deployed using SageMaker. On the far left is our web app that collects a user's movie review, sends it off and expects a positive or negative sentiment in return.\n",
    "\n",
    "In the middle is where some of the magic happens. We will construct a Lambda function, which you can think of as a straightforward Python function that can be executed whenever a specified event occurs. We will give this function permission to send and recieve data from a SageMaker endpoint.\n",
    "\n",
    "Lastly, the method we will use to execute the Lambda function is a new endpoint that we will create using API Gateway. This endpoint will be a url that listens for data to be sent to it. Once it gets some data it will pass that data on to the Lambda function and then return whatever the Lambda function returns. Essentially it will act as an interface that lets our web app communicate with the Lambda function.\n",
    "\n",
    "### Setting up a Lambda function\n",
    "\n",
    "The first thing we are going to do is set up a Lambda function. This Lambda function will be executed whenever our public API has data sent to it. When it is executed it will receive the data, perform any sort of processing that is required, send the data (the review) to the SageMaker endpoint we've created and then return the result.\n",
    "\n",
    "#### Part A: Create an IAM Role for the Lambda function\n",
    "\n",
    "Since we want the Lambda function to call a SageMaker endpoint, we need to make sure that it has permission to do so. To do this, we will construct a role that we can later give the Lambda function.\n",
    "\n",
    "Using the AWS Console, navigate to the **IAM** page and click on **Roles**. Then, click on **Create role**. Make sure that the **AWS service** is the type of trusted entity selected and choose **Lambda** as the service that will use this role, then click **Next: Permissions**.\n",
    "\n",
    "In the search box type `sagemaker` and select the check box next to the **AmazonSageMakerFullAccess** policy. Then, click on **Next: Review**.\n",
    "\n",
    "Lastly, give this role a name. Make sure you use a name that you will remember later on, for example `LambdaSageMakerRole`. Then, click on **Create role**.\n",
    "\n",
    "#### Part B: Create a Lambda function\n",
    "\n",
    "Now it is time to actually create the Lambda function.\n",
    "\n",
    "Using the AWS Console, navigate to the AWS Lambda page and click on **Create a function**. When you get to the next page, make sure that **Author from scratch** is selected. Now, name your Lambda function, using a name that you will remember later on, for example `sentiment_analysis_func`. Make sure that the **Python 3.6** runtime is selected and then choose the role that you created in the previous part. Then, click on **Create Function**.\n",
    "\n",
    "On the next page you will see some information about the Lambda function you've just created. If you scroll down you should see an editor in which you can write the code that will be executed when your Lambda function is triggered. In our example, we will use the code below. \n",
    "\n",
    "```python\n",
    "# We need to use the low-level library to interact with SageMaker since the SageMaker API\n",
    "# is not available natively through Lambda.\n",
    "import boto3\n",
    "\n",
    "def lambda_handler(event, context):\n",
    "\n",
    "    # The SageMaker runtime is what allows us to invoke the endpoint that we've created.\n",
    "    runtime = boto3.Session().client('sagemaker-runtime')\n",
    "\n",
    "    # Now we use the SageMaker runtime to invoke our endpoint, sending the review we were given\n",
    "    response = runtime.invoke_endpoint(EndpointName = '**ENDPOINT NAME HERE**',    # The name of the endpoint we created\n",
    "                                       ContentType = 'text/plain',                 # The data format that is expected\n",
    "                                       Body = event['body'])                       # The actual review\n",
    "\n",
    "    # The response is an HTTP response whose body contains the result of our inference\n",
    "    result = response['Body'].read().decode('utf-8')\n",
    "\n",
    "    return {\n",
    "        'statusCode' : 200,\n",
    "        'headers' : { 'Content-Type' : 'text/plain', 'Access-Control-Allow-Origin' : '*' },\n",
    "        'body' : result\n",
    "    }\n",
    "```\n",
    "\n",
    "Once you have copy and pasted the code above into the Lambda code editor, replace the `**ENDPOINT NAME HERE**` portion with the name of the endpoint that we deployed earlier. You can determine the name of the endpoint using the code cell below."
   ]
  },
  {
   "cell_type": "code",
   "execution_count": 84,
   "metadata": {},
   "outputs": [
    {
     "data": {
      "text/plain": [
       "'sagemaker-pytorch-2019-06-08-11-21-32-073'"
      ]
     },
     "execution_count": 84,
     "metadata": {},
     "output_type": "execute_result"
    }
   ],
   "source": [
    "predictor.endpoint"
   ]
  },
  {
   "cell_type": "code",
   "execution_count": 88,
   "metadata": {
    "scrolled": true
   },
   "outputs": [
    {
     "name": "stdout",
     "output_type": "stream",
     "text": [
      "{'movi': 2, 'film': 3, 'one': 4, 'like': 5, 'time': 6, 'good': 7, 'make': 8, 'charact': 9, 'get': 10, 'see': 11, 'watch': 12, 'stori': 13, 'even': 14, 'would': 15, 'realli': 16, 'well': 17, 'scene': 18, 'look': 19, 'show': 20, 'much': 21, 'end': 22, 'peopl': 23, 'bad': 24, 'go': 25, 'great': 26, 'also': 27, 'first': 28, 'love': 29, 'think': 30, 'way': 31, 'act': 32, 'play': 33, 'made': 34, 'thing': 35, 'could': 36, 'know': 37, 'say': 38, 'seem': 39, 'work': 40, 'plot': 41, 'two': 42, 'actor': 43, 'year': 44, 'come': 45, 'mani': 46, 'seen': 47, 'take': 48, 'life': 49, 'want': 50, 'never': 51, 'littl': 52, 'best': 53, 'tri': 54, 'man': 55, 'ever': 56, 'give': 57, 'better': 58, 'still': 59, 'perform': 60, 'find': 61, 'feel': 62, 'part': 63, 'back': 64, 'use': 65, 'someth': 66, 'director': 67, 'actual': 68, 'interest': 69, 'lot': 70, 'real': 71, 'old': 72, 'cast': 73, 'though': 74, 'live': 75, 'star': 76, 'enjoy': 77, 'guy': 78, 'anoth': 79, 'new': 80, 'role': 81, 'noth': 82, '10': 83, 'funni': 84, 'music': 85, 'point': 86, 'start': 87, 'set': 88, 'girl': 89, 'origin': 90, 'day': 91, 'world': 92, 'everi': 93, 'believ': 94, 'turn': 95, 'quit': 96, 'us': 97, 'direct': 98, 'thought': 99, 'fact': 100, 'minut': 101, 'horror': 102, 'kill': 103, 'action': 104, 'comedi': 105, 'pretti': 106, 'young': 107, 'wonder': 108, 'happen': 109, 'around': 110, 'got': 111, 'effect': 112, 'right': 113, 'long': 114, 'howev': 115, 'big': 116, 'line': 117, 'famili': 118, 'enough': 119, 'seri': 120, 'may': 121, 'need': 122, 'fan': 123, 'bit': 124, 'script': 125, 'beauti': 126, 'person': 127, 'becom': 128, 'without': 129, 'must': 130, 'alway': 131, 'friend': 132, 'tell': 133, 'reason': 134, 'saw': 135, 'last': 136, 'final': 137, 'kid': 138, 'almost': 139, 'put': 140, 'least': 141, 'sure': 142, 'done': 143, 'whole': 144, 'place': 145, 'complet': 146, 'kind': 147, 'expect': 148, 'differ': 149, 'shot': 150, 'far': 151, 'mean': 152, 'anyth': 153, 'book': 154, 'laugh': 155, 'might': 156, 'name': 157, 'sinc': 158, 'begin': 159, '2': 160, 'probabl': 161, 'woman': 162, 'help': 163, 'entertain': 164, 'let': 165, 'screen': 166, 'call': 167, 'tv': 168, 'moment': 169, 'away': 170, 'read': 171, 'yet': 172, 'rather': 173, 'worst': 174, 'run': 175, 'fun': 176, 'lead': 177, 'hard': 178, 'audienc': 179, 'idea': 180, 'anyon': 181, 'episod': 182, 'american': 183, 'found': 184, 'appear': 185, 'bore': 186, 'especi': 187, 'although': 188, 'hope': 189, 'keep': 190, 'cours': 191, 'anim': 192, 'job': 193, 'goe': 194, 'move': 195, 'sens': 196, 'version': 197, 'dvd': 198, 'war': 199, 'money': 200, 'someon': 201, 'mind': 202, 'mayb': 203, 'problem': 204, 'true': 205, 'hous': 206, 'everyth': 207, 'nice': 208, 'second': 209, 'rate': 210, 'three': 211, 'night': 212, 'face': 213, 'follow': 214, 'recommend': 215, 'product': 216, 'main': 217, 'worth': 218, 'leav': 219, 'human': 220, 'special': 221, 'excel': 222, 'togeth': 223, 'wast': 224, 'sound': 225, 'everyon': 226, 'john': 227, 'hand': 228, '1': 229, 'father': 230, 'later': 231, 'eye': 232, 'said': 233, 'view': 234, 'instead': 235, 'review': 236, 'boy': 237, 'high': 238, 'hour': 239, 'miss': 240, 'classic': 241, 'talk': 242, 'wife': 243, 'understand': 244, 'left': 245, 'care': 246, 'black': 247, 'death': 248, 'open': 249, 'murder': 250, 'write': 251, 'half': 252, 'head': 253, 'rememb': 254, 'chang': 255, 'viewer': 256, 'fight': 257, 'gener': 258, 'surpris': 259, 'includ': 260, 'short': 261, 'die': 262, 'fall': 263, 'less': 264, 'els': 265, 'entir': 266, 'piec': 267, 'involv': 268, 'pictur': 269, 'simpli': 270, 'power': 271, 'home': 272, 'top': 273, 'total': 274, 'usual': 275, 'budget': 276, 'attempt': 277, 'suppos': 278, 'releas': 279, 'hollywood': 280, 'terribl': 281, 'song': 282, 'men': 283, 'possibl': 284, 'featur': 285, 'portray': 286, 'disappoint': 287, 'poor': 288, '3': 289, 'coupl': 290, 'camera': 291, 'stupid': 292, 'dead': 293, 'wrong': 294, 'produc': 295, 'low': 296, 'either': 297, 'video': 298, 'aw': 299, 'definit': 300, 'except': 301, 'rest': 302, 'given': 303, 'absolut': 304, 'women': 305, 'lack': 306, 'word': 307, 'writer': 308, 'titl': 309, 'talent': 310, 'decid': 311, 'full': 312, 'perfect': 313, 'along': 314, 'style': 315, 'close': 316, 'truli': 317, 'school': 318, 'emot': 319, 'save': 320, 'age': 321, 'sex': 322, 'next': 323, 'bring': 324, 'mr': 325, 'case': 326, 'killer': 327, 'heart': 328, 'comment': 329, 'sort': 330, 'creat': 331, 'perhap': 332, 'came': 333, 'brother': 334, 'sever': 335, 'joke': 336, 'art': 337, 'dialogu': 338, 'game': 339, 'small': 340, 'base': 341, 'flick': 342, 'written': 343, 'sequenc': 344, 'meet': 345, 'earli': 346, 'often': 347, 'other': 348, 'mother': 349, 'develop': 350, 'humor': 351, 'actress': 352, 'consid': 353, 'dark': 354, 'guess': 355, 'amaz': 356, 'unfortun': 357, 'light': 358, 'lost': 359, 'exampl': 360, 'cinema': 361, 'drama': 362, 'white': 363, 'ye': 364, 'experi': 365, 'imagin': 366, 'mention': 367, 'stop': 368, 'natur': 369, 'forc': 370, 'manag': 371, 'felt': 372, 'present': 373, 'cut': 374, 'children': 375, 'fail': 376, 'son': 377, 'support': 378, 'qualiti': 379, 'car': 380, 'ask': 381, 'hit': 382, 'side': 383, 'voic': 384, 'extrem': 385, 'impress': 386, 'wors': 387, 'evil': 388, 'stand': 389, 'went': 390, 'certainli': 391, 'basic': 392, 'oh': 393, 'overal': 394, 'favorit': 395, 'horribl': 396, 'mysteri': 397, 'number': 398, 'type': 399, 'danc': 400, 'wait': 401, 'hero': 402, '5': 403, 'alreadi': 404, 'learn': 405, 'matter': 406, '4': 407, 'michael': 408, 'genr': 409, 'fine': 410, 'despit': 411, 'throughout': 412, 'walk': 413, 'success': 414, 'histori': 415, 'question': 416, 'zombi': 417, 'town': 418, 'relationship': 419, 'realiz': 420, 'child': 421, 'past': 422, 'daughter': 423, 'late': 424, 'b': 425, 'wish': 426, 'hate': 427, 'credit': 428, 'event': 429, 'theme': 430, 'touch': 431, 'citi': 432, 'today': 433, 'sometim': 434, 'behind': 435, 'god': 436, 'twist': 437, 'sit': 438, 'deal': 439, 'stay': 440, 'annoy': 441, 'abl': 442, 'rent': 443, 'pleas': 444, 'edit': 445, 'blood': 446, 'deserv': 447, 'comic': 448, 'anyway': 449, 'appar': 450, 'soon': 451, 'gave': 452, 'etc': 453, 'level': 454, 'slow': 455, 'chanc': 456, 'score': 457, 'bodi': 458, 'brilliant': 459, 'incred': 460, 'figur': 461, 'situat': 462, 'self': 463, 'major': 464, 'stuff': 465, 'decent': 466, 'element': 467, 'dream': 468, 'return': 469, 'obvious': 470, 'order': 471, 'continu': 472, 'pace': 473, 'ridicul': 474, 'happi': 475, 'highli': 476, 'add': 477, 'group': 478, 'thank': 479, 'ladi': 480, 'novel': 481, 'pain': 482, 'speak': 483, 'career': 484, 'shoot': 485, 'strang': 486, 'heard': 487, 'sad': 488, 'polic': 489, 'husband': 490, 'import': 491, 'break': 492, 'took': 493, 'strong': 494, 'cannot': 495, 'predict': 496, 'robert': 497, 'violenc': 498, 'hilari': 499, 'recent': 500, 'countri': 501, 'known': 502, 'particularli': 503, 'pick': 504, 'documentari': 505, 'season': 506, 'critic': 507, 'jame': 508, 'compar': 509, 'obviou': 510, 'alon': 511, 'told': 512, 'state': 513, 'visual': 514, 'rock': 515, 'offer': 516, 'exist': 517, 'theater': 518, 'opinion': 519, 'gore': 520, 'crap': 521, 'hold': 522, 'result': 523, 'room': 524, 'realiti': 525, 'hear': 526, 'clich': 527, 'effort': 528, 'thriller': 529, 'caus': 530, 'sequel': 531, 'serious': 532, 'explain': 533, 'king': 534, 'local': 535, 'ago': 536, 'hell': 537, 'none': 538, 'note': 539, 'allow': 540, 'sister': 541, 'david': 542, 'simpl': 543, 'femal': 544, 'deliv': 545, 'ok': 546, 'convinc': 547, 'class': 548, 'check': 549, 'suspens': 550, 'win': 551, 'oscar': 552, 'buy': 553, 'huge': 554, 'valu': 555, 'sexual': 556, 'cool': 557, 'scari': 558, 'excit': 559, 'similar': 560, 'provid': 561, 'apart': 562, 'exactli': 563, 'shown': 564, 'avoid': 565, 'seriou': 566, 'english': 567, 'whose': 568, 'taken': 569, 'cinematographi': 570, 'shock': 571, 'polit': 572, 'spoiler': 573, 'offic': 574, 'across': 575, 'middl': 576, 'street': 577, 'pass': 578, 'messag': 579, 'silli': 580, 'somewhat': 581, 'charm': 582, 'modern': 583, 'filmmak': 584, 'confus': 585, 'form': 586, 'tale': 587, 'singl': 588, 'jack': 589, 'mostli': 590, 'carri': 591, 'attent': 592, 'william': 593, 'sing': 594, 'subject': 595, 'five': 596, 'prove': 597, 'richard': 598, 'team': 599, 'stage': 600, 'cop': 601, 'unlik': 602, 'georg': 603, 'monster': 604, 'televis': 605, 'earth': 606, 'cover': 607, 'villain': 608, 'pay': 609, 'marri': 610, 'toward': 611, 'build': 612, 'pull': 613, 'parent': 614, 'due': 615, 'fill': 616, 'respect': 617, 'dialog': 618, 'four': 619, 'remind': 620, 'futur': 621, 'weak': 622, 'typic': 623, '7': 624, 'cheap': 625, 'intellig': 626, 'british': 627, 'atmospher': 628, '80': 629, 'clearli': 630, 'paul': 631, 'dog': 632, 'non': 633, 'artist': 634, 'knew': 635, 'fast': 636, '8': 637, 'crime': 638, 'easili': 639, 'escap': 640, 'doubt': 641, 'adult': 642, 'detail': 643, 'date': 644, 'member': 645, 'romant': 646, 'fire': 647, 'gun': 648, 'drive': 649, 'straight': 650, 'beyond': 651, 'fit': 652, 'attack': 653, 'imag': 654, 'upon': 655, 'posit': 656, 'whether': 657, 'peter': 658, 'fantast': 659, 'appreci': 660, 'aspect': 661, 'captur': 662, 'ten': 663, 'plan': 664, 'discov': 665, 'remain': 666, 'period': 667, 'near': 668, 'realist': 669, 'air': 670, 'mark': 671, 'red': 672, 'dull': 673, 'adapt': 674, 'within': 675, 'spend': 676, 'lose': 677, 'color': 678, 'materi': 679, 'chase': 680, 'mari': 681, 'storylin': 682, 'forget': 683, 'bunch': 684, 'clear': 685, 'lee': 686, 'victim': 687, 'nearli': 688, 'box': 689, 'york': 690, 'inspir': 691, 'match': 692, 'finish': 693, 'mess': 694, 'standard': 695, 'easi': 696, 'truth': 697, 'busi': 698, 'suffer': 699, 'dramat': 700, 'bill': 701, 'space': 702, 'western': 703, 'e': 704, 'list': 705, 'battl': 706, 'notic': 707, 'de': 708, 'french': 709, 'ad': 710, '9': 711, 'tom': 712, 'larg': 713, 'among': 714, 'eventu': 715, 'train': 716, 'accept': 717, 'agre': 718, 'soundtrack': 719, 'spirit': 720, 'third': 721, 'teenag': 722, 'adventur': 723, 'soldier': 724, 'sorri': 725, 'suggest': 726, 'drug': 727, 'famou': 728, 'babi': 729, 'cri': 730, 'normal': 731, 'troubl': 732, 'ultim': 733, 'contain': 734, 'certain': 735, 'cultur': 736, 'romanc': 737, 'rare': 738, 'lame': 739, 'somehow': 740, 'mix': 741, 'disney': 742, 'gone': 743, 'cartoon': 744, 'student': 745, 'fear': 746, 'reveal': 747, 'kept': 748, 'suck': 749, 'attract': 750, 'appeal': 751, 'premis': 752, 'greatest': 753, 'secret': 754, 'design': 755, 'shame': 756, 'throw': 757, 'copi': 758, 'scare': 759, 'wit': 760, 'admit': 761, 'america': 762, 'particular': 763, 'relat': 764, 'brought': 765, 'screenplay': 766, 'whatev': 767, 'pure': 768, '70': 769, 'averag': 770, 'harri': 771, 'master': 772, 'describ': 773, 'treat': 774, 'male': 775, '20': 776, 'fantasi': 777, 'issu': 778, 'warn': 779, 'inde': 780, 'forward': 781, 'background': 782, 'free': 783, 'project': 784, 'japanes': 785, 'memor': 786, 'poorli': 787, 'award': 788, 'locat': 789, 'amus': 790, 'potenti': 791, 'struggl': 792, 'weird': 793, 'magic': 794, 'societi': 795, 'okay': 796, 'doctor': 797, 'imdb': 798, 'accent': 799, 'hot': 800, 'water': 801, 'alien': 802, 'dr': 803, '30': 804, 'express': 805, 'odd': 806, 'choic': 807, 'crazi': 808, 'studio': 809, 'fiction': 810, 'control': 811, 'becam': 812, 'masterpiec': 813, 'difficult': 814, 'fli': 815, 'joe': 816, 'scream': 817, 'costum': 818, 'lover': 819, 'uniqu': 820, 'refer': 821, 'remak': 822, 'girlfriend': 823, 'vampir': 824, 'prison': 825, 'execut': 826, 'wear': 827, 'jump': 828, 'unless': 829, 'wood': 830, 'creepi': 831, 'cheesi': 832, 'superb': 833, 'otherwis': 834, 'parti': 835, 'roll': 836, 'ghost': 837, 'public': 838, 'mad': 839, 'depict': 840, 'earlier': 841, 'jane': 842, 'badli': 843, 'moral': 844, 'week': 845, 'fi': 846, 'dumb': 847, 'flaw': 848, 'grow': 849, 'sci': 850, 'deep': 851, 'maker': 852, 'cat': 853, 'older': 854, 'connect': 855, 'footag': 856, 'bother': 857, 'plenti': 858, 'outsid': 859, 'stick': 860, 'gay': 861, 'catch': 862, 'plu': 863, 'co': 864, 'popular': 865, 'equal': 866, 'social': 867, 'disturb': 868, 'quickli': 869, 'perfectli': 870, 'dress': 871, 'era': 872, '90': 873, 'mistak': 874, 'lie': 875, 'ride': 876, 'previou': 877, 'combin': 878, 'band': 879, 'concept': 880, 'surviv': 881, 'answer': 882, 'rich': 883, 'front': 884, 'sweet': 885, 'christma': 886, 'insid': 887, 'eat': 888, 'bare': 889, 'concern': 890, 'beat': 891, 'listen': 892, 'ben': 893, 'c': 894, 'serv': 895, 'term': 896, 'meant': 897, 'la': 898, 'german': 899, 'stereotyp': 900, 'hardli': 901, 'law': 902, 'innoc': 903, 'desper': 904, 'memori': 905, 'promis': 906, 'cute': 907, 'intent': 908, 'inform': 909, 'variou': 910, 'steal': 911, 'brain': 912, 'post': 913, 'tone': 914, 'island': 915, 'amount': 916, 'nuditi': 917, 'compani': 918, 'track': 919, 'store': 920, 'claim': 921, 'flat': 922, '50': 923, 'hair': 924, 'land': 925, 'univers': 926, 'kick': 927, 'danger': 928, 'scott': 929, 'fairli': 930, 'player': 931, 'plain': 932, 'step': 933, 'crew': 934, 'toni': 935, 'share': 936, 'centuri': 937, 'tast': 938, 'engag': 939, 'achiev': 940, 'travel': 941, 'cold': 942, 'suit': 943, 'rip': 944, 'record': 945, 'sadli': 946, 'manner': 947, 'spot': 948, 'tension': 949, 'wrote': 950, 'intens': 951, 'fascin': 952, 'familiar': 953, 'burn': 954, 'remark': 955, 'depth': 956, 'histor': 957, 'destroy': 958, 'sleep': 959, 'purpos': 960, 'languag': 961, 'ignor': 962, 'ruin': 963, 'delight': 964, 'unbeliev': 965, 'italian': 966, 'collect': 967, 'soul': 968, 'abil': 969, 'clever': 970, 'detect': 971, 'violent': 972, 'rape': 973, 'reach': 974, 'door': 975, 'scienc': 976, 'trash': 977, 'liter': 978, 'caught': 979, 'reveng': 980, 'commun': 981, 'creatur': 982, 'trip': 983, 'approach': 984, 'fashion': 985, 'intrigu': 986, 'skill': 987, 'paint': 988, 'introduc': 989, 'complex': 990, 'channel': 991, 'camp': 992, 'christian': 993, 'extra': 994, 'hole': 995, 'limit': 996, 'immedi': 997, 'ann': 998, 'mental': 999, 'million': 1000, 'mere': 1001, '6': 1002, 'comput': 1003, 'slightli': 1004, 'conclus': 1005, 'slasher': 1006, 'suddenli': 1007, 'imposs': 1008, 'crimin': 1009, 'teen': 1010, 'neither': 1011, 'nation': 1012, 'spent': 1013, 'physic': 1014, 'respons': 1015, 'planet': 1016, 'receiv': 1017, 'fake': 1018, 'sick': 1019, 'blue': 1020, 'bizarr': 1021, 'embarrass': 1022, 'indian': 1023, 'ring': 1024, '15': 1025, 'pop': 1026, 'drop': 1027, 'drag': 1028, 'haunt': 1029, 'pointless': 1030, 'suspect': 1031, 'search': 1032, 'edg': 1033, 'handl': 1034, 'common': 1035, 'biggest': 1036, 'faith': 1037, 'hurt': 1038, 'arriv': 1039, 'technic': 1040, 'angel': 1041, 'dad': 1042, 'genuin': 1043, 'solid': 1044, 'awesom': 1045, 'f': 1046, 'van': 1047, 'former': 1048, 'focu': 1049, 'colleg': 1050, 'count': 1051, 'tear': 1052, 'heavi': 1053, 'wall': 1054, 'rais': 1055, 'visit': 1056, 'laughabl': 1057, 'younger': 1058, 'fair': 1059, 'excus': 1060, 'sign': 1061, 'cult': 1062, 'motion': 1063, 'tough': 1064, 'key': 1065, 'desir': 1066, 'super': 1067, 'stun': 1068, 'addit': 1069, 'exploit': 1070, 'cloth': 1071, 'smith': 1072, 'tortur': 1073, 'race': 1074, 'davi': 1075, 'cross': 1076, 'author': 1077, 'jim': 1078, 'compel': 1079, 'focus': 1080, 'minor': 1081, 'consist': 1082, 'chemistri': 1083, 'pathet': 1084, 'commit': 1085, 'park': 1086, 'tradit': 1087, 'frank': 1088, 'obsess': 1089, 'grade': 1090, '60': 1091, 'asid': 1092, 'brutal': 1093, 'somewher': 1094, 'steve': 1095, 'u': 1096, 'depress': 1097, 'explor': 1098, 'opportun': 1099, 'grant': 1100, 'rule': 1101, 'besid': 1102, 'honest': 1103, 'dub': 1104, 'anti': 1105, 'trailer': 1106, 'intend': 1107, 'bar': 1108, 'west': 1109, 'longer': 1110, 'regard': 1111, 'scientist': 1112, 'decad': 1113, 'judg': 1114, 'silent': 1115, 'armi': 1116, 'creativ': 1117, 'wild': 1118, 'g': 1119, 'stewart': 1120, 'south': 1121, 'draw': 1122, 'road': 1123, 'govern': 1124, 'boss': 1125, 'ex': 1126, 'practic': 1127, 'festiv': 1128, 'surprisingli': 1129, 'motiv': 1130, 'club': 1131, 'gang': 1132, 'page': 1133, 'green': 1134, 'london': 1135, 'redeem': 1136, 'display': 1137, 'militari': 1138, 'idiot': 1139, 'machin': 1140, 'aliv': 1141, 'thrill': 1142, 'repeat': 1143, '100': 1144, 'yeah': 1145, 'folk': 1146, 'nobodi': 1147, '40': 1148, 'garbag': 1149, 'journey': 1150, 'ground': 1151, 'tire': 1152, 'smile': 1153, 'mood': 1154, 'bought': 1155, 'stone': 1156, 'sam': 1157, 'cost': 1158, 'noir': 1159, 'mouth': 1160, 'terrif': 1161, 'agent': 1162, 'requir': 1163, 'utterli': 1164, 'sexi': 1165, 'honestli': 1166, 'area': 1167, 'report': 1168, 'geniu': 1169, 'glad': 1170, 'enter': 1171, 'investig': 1172, 'humour': 1173, 'serial': 1174, 'passion': 1175, 'occasion': 1176, 'narr': 1177, 'marriag': 1178, 'climax': 1179, 'industri': 1180, 'studi': 1181, 'nowher': 1182, 'center': 1183, 'ship': 1184, 'demon': 1185, 'charli': 1186, 'hors': 1187, 'loos': 1188, 'bear': 1189, 'wow': 1190, 'hang': 1191, 'graphic': 1192, 'admir': 1193, 'giant': 1194, 'send': 1195, 'loud': 1196, 'damn': 1197, 'rel': 1198, 'profession': 1199, 'subtl': 1200, 'nake': 1201, 'blow': 1202, 'bottom': 1203, 'batman': 1204, 'insult': 1205, 'boyfriend': 1206, 'kelli': 1207, 'r': 1208, 'doubl': 1209, 'initi': 1210, 'frame': 1211, 'gem': 1212, 'opera': 1213, 'drawn': 1214, 'challeng': 1215, 'cinemat': 1216, 'church': 1217, 'affect': 1218, 'j': 1219, 'seek': 1220, 'evid': 1221, 'fulli': 1222, 'nightmar': 1223, 'l': 1224, 'conflict': 1225, 'arm': 1226, 'essenti': 1227, 'wind': 1228, 'christoph': 1229, 'henri': 1230, 'grace': 1231, 'narrat': 1232, 'assum': 1233, 'witch': 1234, 'hunt': 1235, 'push': 1236, 'wise': 1237, 'chri': 1238, 'nomin': 1239, 'repres': 1240, 'month': 1241, 'avail': 1242, 'sceneri': 1243, 'affair': 1244, 'hide': 1245, 'smart': 1246, 'thu': 1247, 'justic': 1248, 'bond': 1249, 'flashback': 1250, 'outstand': 1251, 'interview': 1252, 'presenc': 1253, 'constantli': 1254, 'satisfi': 1255, 'bed': 1256, 'central': 1257, 'iron': 1258, 'content': 1259, 'sell': 1260, 'everybodi': 1261, 'gag': 1262, 'slowli': 1263, 'hotel': 1264, 'hire': 1265, 'system': 1266, 'thrown': 1267, 'charl': 1268, 'adam': 1269, 'hey': 1270, 'individu': 1271, 'mediocr': 1272, 'allen': 1273, 'jone': 1274, 'lesson': 1275, 'billi': 1276, 'ray': 1277, 'photographi': 1278, 'cameo': 1279, 'fellow': 1280, 'pari': 1281, 'strike': 1282, 'brief': 1283, 'rise': 1284, 'absurd': 1285, 'independ': 1286, 'neg': 1287, 'phone': 1288, 'impact': 1289, 'born': 1290, 'model': 1291, 'ill': 1292, 'angl': 1293, 'spoil': 1294, 'fresh': 1295, 'likabl': 1296, 'abus': 1297, 'hill': 1298, 'discuss': 1299, 'ahead': 1300, 'sight': 1301, 'photograph': 1302, 'sent': 1303, 'blame': 1304, 'logic': 1305, 'shine': 1306, 'occur': 1307, 'bruce': 1308, 'mainli': 1309, 'forev': 1310, 'commerci': 1311, 'skip': 1312, 'teacher': 1313, 'surround': 1314, 'segment': 1315, 'held': 1316, 'zero': 1317, 'blond': 1318, 'resembl': 1319, 'trap': 1320, 'summer': 1321, 'satir': 1322, 'six': 1323, 'fool': 1324, 'ball': 1325, 'queen': 1326, 'tragedi': 1327, 'twice': 1328, 'sub': 1329, 'pack': 1330, 'reaction': 1331, 'bomb': 1332, 'will': 1333, 'hospit': 1334, 'protagonist': 1335, 'sport': 1336, 'mile': 1337, 'mom': 1338, 'jerri': 1339, 'trust': 1340, 'vote': 1341, 'drink': 1342, 'encount': 1343, 'plane': 1344, 'current': 1345, 'al': 1346, 'program': 1347, 'station': 1348, 'choos': 1349, 'celebr': 1350, 'martin': 1351, 'join': 1352, 'tragic': 1353, 'favourit': 1354, 'lord': 1355, 'field': 1356, 'round': 1357, 'jean': 1358, 'vision': 1359, 'robot': 1360, 'arthur': 1361, 'tie': 1362, 'random': 1363, 'roger': 1364, 'fortun': 1365, 'intern': 1366, 'dread': 1367, 'psycholog': 1368, 'epic': 1369, 'improv': 1370, 'prefer': 1371, 'nonsens': 1372, 'pleasur': 1373, 'formula': 1374, 'legend': 1375, 'highlight': 1376, 'dollar': 1377, '11': 1378, 'tape': 1379, 'thin': 1380, 'gorgeou': 1381, 'wide': 1382, 'fox': 1383, 'object': 1384, 'porn': 1385, 'influenc': 1386, 'ugli': 1387, 'buddi': 1388, 'ii': 1389, 'prepar': 1390, 'nasti': 1391, 'reflect': 1392, 'warm': 1393, 'supposedli': 1394, 'progress': 1395, 'youth': 1396, 'worthi': 1397, 'unusu': 1398, 'latter': 1399, 'length': 1400, 'crash': 1401, 'superior': 1402, 'childhood': 1403, 'shop': 1404, 'seven': 1405, 'theatr': 1406, 'remot': 1407, 'disgust': 1408, 'paid': 1409, 'pilot': 1410, 'funniest': 1411, 'convers': 1412, 'trick': 1413, 'fell': 1414, 'castl': 1415, 'disast': 1416, 'rob': 1417, 'gangster': 1418, 'establish': 1419, 'mine': 1420, 'ident': 1421, 'heaven': 1422, 'suicid': 1423, 'disappear': 1424, 'mask': 1425, 'tend': 1426, 'forgotten': 1427, 'heroin': 1428, 'decis': 1429, 'singer': 1430, 'partner': 1431, 'brian': 1432, 'desert': 1433, 'alan': 1434, 'recogn': 1435, 'stuck': 1436, 'sky': 1437, 'ms': 1438, 'p': 1439, 'thoroughli': 1440, 'replac': 1441, 'accur': 1442, 'market': 1443, 'uncl': 1444, 'commentari': 1445, 'clue': 1446, 'danni': 1447, 'seemingli': 1448, 'eddi': 1449, 'andi': 1450, 'jackson': 1451, 'devil': 1452, 'that': 1453, 'pair': 1454, 'refus': 1455, 'therefor': 1456, 'unit': 1457, 'fault': 1458, 'ed': 1459, 'fate': 1460, 'accid': 1461, 'river': 1462, 'afraid': 1463, 'tune': 1464, 'russian': 1465, 'hidden': 1466, 'stephen': 1467, 'clean': 1468, 'convey': 1469, 'readi': 1470, 'quick': 1471, 'test': 1472, 'irrit': 1473, 'instanc': 1474, 'captain': 1475, 'european': 1476, 'insan': 1477, 'frustrat': 1478, 'daniel': 1479, 'rescu': 1480, '1950': 1481, 'wed': 1482, 'food': 1483, 'chines': 1484, 'lock': 1485, 'angri': 1486, 'dirti': 1487, 'joy': 1488, 'price': 1489, 'steven': 1490, 'bland': 1491, 'cage': 1492, 'rang': 1493, 'anymor': 1494, 'wooden': 1495, 'rush': 1496, 'news': 1497, 'jason': 1498, 'n': 1499, 'led': 1500, 'twenti': 1501, 'martial': 1502, 'board': 1503, 'worri': 1504, '12': 1505, 'hunter': 1506, 'cgi': 1507, 'transform': 1508, 'symbol': 1509, 'piti': 1510, 'sentiment': 1511, 'johnni': 1512, 'invent': 1513, 'x': 1514, 'onto': 1515, 'explan': 1516, 'attitud': 1517, 'process': 1518, 'owner': 1519, 'awar': 1520, 'aim': 1521, 'favor': 1522, 'floor': 1523, 'energi': 1524, 'target': 1525, 'necessari': 1526, 'religi': 1527, 'opposit': 1528, 'chick': 1529, 'window': 1530, 'blind': 1531, 'insight': 1532, 'movement': 1533, 'mountain': 1534, 'possess': 1535, 'research': 1536, 'deepli': 1537, 'comparison': 1538, 'rain': 1539, 'grand': 1540, 'comed': 1541, 'whatsoev': 1542, 'mid': 1543, 'began': 1544, 'shadow': 1545, 'bank': 1546, 'princ': 1547, 'parodi': 1548, 'taylor': 1549, 'credibl': 1550, 'weapon': 1551, 'friendship': 1552, 'pre': 1553, 'dougla': 1554, 'teach': 1555, 'flesh': 1556, 'protect': 1557, 'bloodi': 1558, 'hint': 1559, 'terror': 1560, 'marvel': 1561, 'anybodi': 1562, 'drunk': 1563, 'leader': 1564, 'load': 1565, 'watchabl': 1566, 'superman': 1567, 'accord': 1568, 'brown': 1569, 'freddi': 1570, 'appropri': 1571, 'jeff': 1572, 'hitler': 1573, 'tim': 1574, 'seat': 1575, 'villag': 1576, 'keaton': 1577, 'knock': 1578, 'unknown': 1579, 'charg': 1580, 'empti': 1581, 'unnecessari': 1582, 'england': 1583, 'media': 1584, 'enemi': 1585, 'dare': 1586, 'perspect': 1587, 'strength': 1588, 'utter': 1589, 'buck': 1590, 'wave': 1591, 'craft': 1592, 'kiss': 1593, 'nativ': 1594, 'ford': 1595, 'correct': 1596, 'contrast': 1597, 'distract': 1598, 'speed': 1599, 'anywher': 1600, 'magnific': 1601, 'soap': 1602, 'chill': 1603, 'knowledg': 1604, 'nazi': 1605, '1980': 1606, 'mission': 1607, 'breath': 1608, 'ice': 1609, 'fred': 1610, 'crowd': 1611, 'jr': 1612, 'moon': 1613, 'joan': 1614, 'soft': 1615, '000': 1616, 'kate': 1617, 'frighten': 1618, 'hundr': 1619, 'dan': 1620, 'dick': 1621, 'nick': 1622, 'dozen': 1623, 'somebodi': 1624, 'radio': 1625, 'simon': 1626, 'thousand': 1627, 'shakespear': 1628, 'loss': 1629, 'academi': 1630, 'andrew': 1631, 'quot': 1632, 'vehicl': 1633, 'root': 1634, 'sum': 1635, 'account': 1636, 'leg': 1637, 'convent': 1638, '1970': 1639, 'behavior': 1640, 'gold': 1641, 'regular': 1642, 'demand': 1643, 'worker': 1644, 'compet': 1645, 'pretenti': 1646, 'japan': 1647, 'explos': 1648, 'stretch': 1649, 'interpret': 1650, 'lynch': 1651, 'privat': 1652, 'notabl': 1653, 'candi': 1654, 'debut': 1655, 'tarzan': 1656, 'constant': 1657, 'sea': 1658, 'spi': 1659, 'revolv': 1660, 'translat': 1661, 'prais': 1662, 'threaten': 1663, 'franc': 1664, 'technolog': 1665, 'quiet': 1666, 'failur': 1667, 'jesu': 1668, 'ass': 1669, 'sat': 1670, 'kevin': 1671, 'met': 1672, 'higher': 1673, 'punch': 1674, 'aid': 1675, 'toy': 1676, 'vh': 1677, 'mike': 1678, 'abandon': 1679, 'interact': 1680, 'confront': 1681, 'separ': 1682, 'command': 1683, 'bet': 1684, 'recal': 1685, 'site': 1686, 'gotten': 1687, 'stunt': 1688, 'techniqu': 1689, 'belong': 1690, 'servic': 1691, 'freak': 1692, 'cabl': 1693, 'foot': 1694, 'bug': 1695, 'fu': 1696, 'capabl': 1697, 'african': 1698, 'jimmi': 1699, 'bright': 1700, 'fat': 1701, 'clark': 1702, 'presid': 1703, 'succeed': 1704, 'stock': 1705, 'boat': 1706, 'gene': 1707, 'spanish': 1708, 'structur': 1709, 'paper': 1710, 'kidnap': 1711, 'whilst': 1712, 'factor': 1713, 'belief': 1714, 'tree': 1715, 'bob': 1716, 'witti': 1717, 'realism': 1718, 'attend': 1719, 'educ': 1720, 'complic': 1721, 'realis': 1722, 'finest': 1723, 'broken': 1724, 'santa': 1725, 'assist': 1726, 'observ': 1727, 'smoke': 1728, 'determin': 1729, 'up': 1730, 'depart': 1731, 'v': 1732, 'oper': 1733, 'domin': 1734, 'rubbish': 1735, 'fame': 1736, 'routin': 1737, 'lewi': 1738, 'hat': 1739, 'lone': 1740, 'advanc': 1741, 'foreign': 1742, 'morgan': 1743, 'kinda': 1744, 'hook': 1745, 'safe': 1746, 'numer': 1747, 'rank': 1748, 'shallow': 1749, 'shape': 1750, 'vs': 1751, 'washington': 1752, 'rose': 1753, 'civil': 1754, 'werewolf': 1755, 'gari': 1756, 'morn': 1757, 'winner': 1758, 'accomplish': 1759, 'ordinari': 1760, 'kong': 1761, 'whenev': 1762, 'peac': 1763, 'virtual': 1764, 'grab': 1765, 'luck': 1766, 'h': 1767, 'offens': 1768, 'complain': 1769, 'welcom': 1770, 'unfunni': 1771, 'bigger': 1772, 'contriv': 1773, 'activ': 1774, 'patient': 1775, 'con': 1776, 'dimension': 1777, 'trek': 1778, 'pretend': 1779, 'dri': 1780, 'code': 1781, 'lesbian': 1782, 'flash': 1783, 'eric': 1784, 'wake': 1785, 'cain': 1786, 'dancer': 1787, 'corrupt': 1788, 'guard': 1789, 'albert': 1790, 'statu': 1791, 'manipul': 1792, 'gain': 1793, 'sourc': 1794, 'signific': 1795, 'speech': 1796, 'awkward': 1797, 'context': 1798, 'sean': 1799, 'corni': 1800, 'anthoni': 1801, '13': 1802, 'clip': 1803, 'psycho': 1804, 'curiou': 1805, 'theatric': 1806, 'reli': 1807, 'advic': 1808, 'priest': 1809, 'w': 1810, 'religion': 1811, 'addict': 1812, 'flow': 1813, 'howard': 1814, 'specif': 1815, 'skin': 1816, 'secur': 1817, 'asian': 1818, 'jennif': 1819, 'core': 1820, 'luke': 1821, 'promot': 1822, 'comfort': 1823, 'golden': 1824, 'organ': 1825, 'lucki': 1826, 'cheat': 1827, 'cash': 1828, 'dislik': 1829, 'lower': 1830, 'associ': 1831, 'balanc': 1832, 'wing': 1833, 'frequent': 1834, 'frankli': 1835, 'contribut': 1836, 'devic': 1837, 'spell': 1838, 'degre': 1839, 'regret': 1840, 'sake': 1841, 'forgiv': 1842, 'lake': 1843, 'print': 1844, 'thoma': 1845, 'mass': 1846, 'betti': 1847, 'gordon': 1848, 'unexpect': 1849, 'crack': 1850, 'amateur': 1851, 'depend': 1852, 'categori': 1853, 'grown': 1854, 'construct': 1855, 'unfold': 1856, 'invit': 1857, 'grew': 1858, 'honor': 1859, 'intellectu': 1860, 'matur': 1861, 'anna': 1862, 'condit': 1863, 'walter': 1864, 'sole': 1865, 'sudden': 1866, 'mirror': 1867, 'spectacular': 1868, 'veteran': 1869, 'meanwhil': 1870, 'demonstr': 1871, 'gift': 1872, 'liner': 1873, 'overli': 1874, 'freedom': 1875, 'robin': 1876, 'grip': 1877, 'card': 1878, 'experienc': 1879, 'theori': 1880, 'drew': 1881, 'subtitl': 1882, 'sheriff': 1883, 'unabl': 1884, 'crappi': 1885, 'brilliantli': 1886, 'circumst': 1887, 'colour': 1888, 'section': 1889, 'oliv': 1890, 'pile': 1891, 'matt': 1892, 'laughter': 1893, 'path': 1894, 'parker': 1895, 'altern': 1896, 'cook': 1897, 'sheer': 1898, 'treatment': 1899, 'wander': 1900, 'relief': 1901, 'accident': 1902, 'defin': 1903, 'hall': 1904, 'sinatra': 1905, 'lawyer': 1906, 'captiv': 1907, 'hank': 1908, 'dragon': 1909, 'moor': 1910, 'gratuit': 1911, 'halloween': 1912, 'kung': 1913, 'cowboy': 1914, 'wound': 1915, 'unintent': 1916, 'barbara': 1917, 'k': 1918, 'broadway': 1919, 'wayn': 1920, 'jacki': 1921, 'spoof': 1922, 'canadian': 1923, 'winter': 1924, 'statement': 1925, 'surreal': 1926, 'fare': 1927, 'compos': 1928, 'gonna': 1929, 'treasur': 1930, 'cheer': 1931, 'fish': 1932, 'sensit': 1933, 'unrealist': 1934, 'emerg': 1935, 'woodi': 1936, 'victor': 1937, 'driven': 1938, 'neighbor': 1939, 'ran': 1940, 'sympathet': 1941, 'expos': 1942, 'authent': 1943, 'menac': 1944, 'topic': 1945, 'glass': 1946, 'overlook': 1947, 'handsom': 1948, 'chief': 1949, 'michel': 1950, 'gross': 1951, 'ancient': 1952, 'feet': 1953, 'comedian': 1954, 'contemporari': 1955, 'russel': 1956, 'stranger': 1957, 'pleasant': 1958, 'network': 1959, 'cinderella': 1960, 'nevertheless': 1961, 'built': 1962, 'consider': 1963, 'underr': 1964, 'miser': 1965, 'letter': 1966, 'blockbust': 1967, 'earn': 1968, 'endless': 1969, 'gori': 1970, 'brook': 1971, 'solv': 1972, 'switch': 1973, 'convict': 1974, 'bullet': 1975, 'virgin': 1976, 'victoria': 1977, 'joseph': 1978, 'edward': 1979, '0': 1980, 'chosen': 1981, 'cynic': 1982, 'scenario': 1983, 'scale': 1984, 'alex': 1985, 'com': 1986, 'outrag': 1987, 'curs': 1988, 'gut': 1989, 'sword': 1990, 'screenwrit': 1991, 'uk': 1992, 'proper': 1993, 'driver': 1994, 'wrap': 1995, 'monkey': 1996, 'juli': 1997, 'substanc': 1998, 'bird': 1999, 'indic': 2000, 'court': 2001, 'remov': 2002, 'par': 2003, 'naiv': 2004, 'loser': 2005, 'inevit': 2006, 'advertis': 2007, 'nanci': 2008, 'grave': 2009, 'consequ': 2010, 'rental': 2011, 'roy': 2012, 'bridg': 2013, 'slap': 2014, 'invis': 2015, 'fatal': 2016, 'germani': 2017, 'brave': 2018, 'le': 2019, 'provok': 2020, 'loui': 2021, 'ador': 2022, 'footbal': 2023, 'anger': 2024, 'alcohol': 2025, 'anderson': 2026, 'chan': 2027, 'willi': 2028, 'stumbl': 2029, 'professor': 2030, 'ryan': 2031, 'patrick': 2032, 'australian': 2033, '1930': 2034, 'sharp': 2035, 'assassin': 2036, 'bat': 2037, 'cell': 2038, 'liber': 2039, 'amateurish': 2040, 'saturday': 2041, 'heck': 2042, 'strongli': 2043, 'ape': 2044, 'deni': 2045, 'eight': 2046, 'refresh': 2047, 'lousi': 2048, 'trilog': 2049, 'sin': 2050, 'resid': 2051, 'vagu': 2052, 'san': 2053, 'justifi': 2054, 'mini': 2055, 'sympathi': 2056, 'indi': 2057, 'terrifi': 2058, 'creator': 2059, 'reput': 2060, 'defeat': 2061, 'task': 2062, 'expert': 2063, 'tediou': 2064, 'endur': 2065, 'prevent': 2066, 'tabl': 2067, 'offend': 2068, 'trial': 2069, 'rival': 2070, 'employ': 2071, 'basebal': 2072, 'imit': 2073, 'che': 2074, 'dig': 2075, 'max': 2076, 'pitch': 2077, 'fairi': 2078, 'beach': 2079, 'complaint': 2080, 'weekend': 2081, 'europ': 2082, 'purchas': 2083, 'format': 2084, 'risk': 2085, 'murphi': 2086, 'harsh': 2087, 'glimps': 2088, 'bite': 2089, 'hype': 2090, 'tini': 2091, 'titan': 2092, 'powel': 2093, 'reminisc': 2094, 'nois': 2095, 'till': 2096, 'prime': 2097, 'strip': 2098, 'asleep': 2099, 'north': 2100, '14': 2101, 'fals': 2102, 'texa': 2103, 'africa': 2104, 'revel': 2105, 'descript': 2106, 'destruct': 2107, 'surfac': 2108, 'uninterest': 2109, 'spin': 2110, 'semi': 2111, 'arrest': 2112, 'excess': 2113, 'inner': 2114, 'sitcom': 2115, 'twin': 2116, 'controversi': 2117, 'makeup': 2118, 'argu': 2119, 'dinosaur': 2120, 'hitchcock': 2121, 'massiv': 2122, 'maintain': 2123, 'insist': 2124, 'stare': 2125, 'melodrama': 2126, 'ludicr': 2127, 'kim': 2128, 'reject': 2129, 'expens': 2130, 'ideal': 2131, 'press': 2132, 'erot': 2133, 'forest': 2134, 'ga': 2135, 'subplot': 2136, 'nail': 2137, 'atroci': 2138, 'supernatur': 2139, 'host': 2140, 'ala': 2141, 'columbo': 2142, 'notch': 2143, 'presum': 2144, 'dude': 2145, 'cant': 2146, 'identifi': 2147, 'method': 2148, 'plagu': 2149, 'guest': 2150, 'forgett': 2151, 'character': 2152, 'crude': 2153, 'closer': 2154, 'landscap': 2155, 'princess': 2156, 'beast': 2157, 'ear': 2158, 'lion': 2159, 'foster': 2160, 'border': 2161, 'storytel': 2162, 'aunt': 2163, 'previous': 2164, 'bound': 2165, 'jungl': 2166, 'birth': 2167, 'pacino': 2168, 'urban': 2169, 'accus': 2170, 'damag': 2171, 'jess': 2172, 'guid': 2173, 'chose': 2174, 'nude': 2175, 'propaganda': 2176, 'thirti': 2177, 'emma': 2178, 'doll': 2179, 'mainstream': 2180, 'pet': 2181, '25': 2182, 'mate': 2183, 'warrior': 2184, 'whoever': 2185, 'cooper': 2186, 'merit': 2187, 'upset': 2188, 'gritti': 2189, 'size': 2190, 'exact': 2191, 'friday': 2192, 'poster': 2193, 'deadli': 2194, 'latest': 2195, 'sun': 2196, 'wilson': 2197, 'settl': 2198, 'corps': 2199, 'contact': 2200, 'buff': 2201, 'ton': 2202, 'popul': 2203, '1990': 2204, 'warner': 2205, 'blend': 2206, 'citizen': 2207, 'rough': 2208, 'contest': 2209, 'environ': 2210, 'overcom': 2211, 'mgm': 2212, 'widow': 2213, 'select': 2214, 'alic': 2215, 'pitt': 2216, 'bu': 2217, 'rat': 2218, 'metal': 2219, 'link': 2220, 'lift': 2221, 'particip': 2222, 'revolut': 2223, 'ted': 2224, 'guilti': 2225, 'corpor': 2226, 'prostitut': 2227, 'corner': 2228, 'johnson': 2229, '1960': 2230, 'moron': 2231, 'matrix': 2232, 'accompani': 2233, 'exagger': 2234, 'afternoon': 2235, 'friendli': 2236, 'sincer': 2237, 'leagu': 2238, 'holm': 2239, 'hood': 2240, 'multipl': 2241, 'doom': 2242, 'instal': 2243, 'clair': 2244, 'hip': 2245, 'irish': 2246, 'string': 2247, 'lugosi': 2248, 'campi': 2249, 'advis': 2250, 'defend': 2251, 'junk': 2252, 'examin': 2253, 'sunday': 2254, 'aka': 2255, 'blah': 2256, 'grim': 2257, 'pro': 2258, 'tight': 2259, 'shut': 2260, 'icon': 2261, 'shake': 2262, 'confid': 2263, 'varieti': 2264, 'rachel': 2265, 'medic': 2266, 'attach': 2267, 'sullivan': 2268, 'jaw': 2269, 'directli': 2270, 'goal': 2271, 'denni': 2272, 'mexican': 2273, 'courag': 2274, 'legendari': 2275, 'duke': 2276, 'terrorist': 2277, 'prior': 2278, 'truck': 2279, 'sarah': 2280, 'sentenc': 2281, 'breast': 2282, 'bourn': 2283, 'vietnam': 2284, 'dean': 2285, 'yell': 2286, 'un': 2287, 'proceed': 2288, 'split': 2289, 'behav': 2290, 'donald': 2291, 'nose': 2292, 'entri': 2293, 'hong': 2294, 'unconvinc': 2295, 'forth': 2296, 'buri': 2297, 'jerk': 2298, 'concentr': 2299, 'stolen': 2300, 'gather': 2301, 'everywher': 2302, 'lifetim': 2303, 'confess': 2304, 'swim': 2305, 'borrow': 2306, 'crush': 2307, 'pan': 2308, 'julia': 2309, 'deliveri': 2310, 'california': 2311, 'turkey': 2312, 'lip': 2313, 'spite': 2314, 'offici': 2315, 'downright': 2316, 'flight': 2317, 'china': 2318, 'quest': 2319, 'hoffman': 2320, 'proud': 2321, 'reward': 2322, 'freeman': 2323, 'worthwhil': 2324, 'lazi': 2325, 'sink': 2326, 'jon': 2327, 'jail': 2328, 'notori': 2329, 'inept': 2330, 'sir': 2331, 'betray': 2332, 'fade': 2333, 'fabul': 2334, 'encourag': 2335, 'imageri': 2336, 'relev': 2337, 'branagh': 2338, 'storm': 2339, 'shower': 2340, 'retard': 2341, 'bag': 2342, 'lisa': 2343, 'cousin': 2344, 'teeth': 2345, 'bell': 2346, 'survivor': 2347, 'susan': 2348, 'trade': 2349, 'facial': 2350, 'summari': 2351, 'quirki': 2352, 'tremend': 2353, 'finger': 2354, 'mexico': 2355, 'stab': 2356, 'toler': 2357, 'bride': 2358, 'shark': 2359, 'alright': 2360, 'hugh': 2361, 'hyster': 2362, 'pose': 2363, 'bitter': 2364, 'blown': 2365, 'ha': 2366, 'von': 2367, 'ron': 2368, 'afterward': 2369, 'cruel': 2370, 'ned': 2371, 'address': 2372, 'christ': 2373, 'larri': 2374, 'scheme': 2375, 'bone': 2376, 'swear': 2377, 'beg': 2378, 'traci': 2379, 'distinct': 2380, 'pursu': 2381, 'snake': 2382, 'feed': 2383, 'thumb': 2384, 'screw': 2385, 'tour': 2386, 'chair': 2387, 'photo': 2388, 'obscur': 2389, 'occas': 2390, 'raw': 2391, 'stomach': 2392, 'mechan': 2393, 'cabin': 2394, 'necessarili': 2395, 'chain': 2396, 'holiday': 2397, 'sidney': 2398, 'southern': 2399, 'heavili': 2400, 'render': 2401, 'resist': 2402, 'gruesom': 2403, 'argument': 2404, 'hardi': 2405, 'indulg': 2406, 'india': 2407, 'satan': 2408, 'understood': 2409, 'racist': 2410, 'philip': 2411, 'tongu': 2412, 'midnight': 2413, 'obnoxi': 2414, 'pregnant': 2415, 'integr': 2416, 'fourth': 2417, 'forgot': 2418, 'lay': 2419, 'outfit': 2420, 'stalk': 2421, 'belov': 2422, 'inhabit': 2423, 'magazin': 2424, '17': 2425, 'restor': 2426, 'carol': 2427, 'deeper': 2428, 'ticket': 2429, 'slapstick': 2430, 'garden': 2431, 'devot': 2432, 'lincoln': 2433, 'shoe': 2434, 'brad': 2435, 'incid': 2436, 'guarante': 2437, 'maria': 2438, 'benefit': 2439, 'divorc': 2440, 'sandler': 2441, 'underground': 2442, 'disbelief': 2443, 'elizabeth': 2444, 'lili': 2445, 'anticip': 2446, 'princip': 2447, 'explod': 2448, 'amazingli': 2449, 'creation': 2450, 'greater': 2451, 'mildli': 2452, 'capit': 2453, 'cring': 2454, 'slave': 2455, 'bbc': 2456, 'halfway': 2457, 'introduct': 2458, 'lesli': 2459, 'extraordinari': 2460, 'funnier': 2461, 'transfer': 2462, 'tap': 2463, 'advantag': 2464, 'punish': 2465, 'enhanc': 2466, 'text': 2467, 'overwhelm': 2468, 'wreck': 2469, 'extent': 2470, 'plant': 2471, 'horrif': 2472, 'lo': 2473, 'jessica': 2474, 'error': 2475, 'preview': 2476, 'deliber': 2477, 'dynam': 2478, 'east': 2479, 'lane': 2480, 'homosexu': 2481, 'vincent': 2482, 'miscast': 2483, 'appli': 2484, 'sophist': 2485, '2000': 2486, 'ensu': 2487, 'basi': 2488, 'miller': 2489, 'vacat': 2490, 'sleazi': 2491, 'measur': 2492, 'elev': 2493, 'mansion': 2494, 'extend': 2495, 'reed': 2496, 'steel': 2497, 'uncomfort': 2498, 'via': 2499, 'bollywood': 2500, 'spoken': 2501, 'assign': 2502, 'alter': 2503, 'conceiv': 2504, 'blair': 2505, 'melt': 2506, 'cathol': 2507, 'goofi': 2508, 'stanley': 2509, 'breathtak': 2510, 'fix': 2511, 'hippi': 2512, 'beer': 2513, 'daili': 2514, 'overact': 2515, 'mous': 2516, 'savag': 2517, 'dentist': 2518, 'everyday': 2519, 'succe': 2520, 'carpent': 2521, 'subsequ': 2522, 'sacrific': 2523, 'burt': 2524, 'properli': 2525, 'oppos': 2526, 'nowaday': 2527, 'inspector': 2528, 'circl': 2529, 'massacr': 2530, 'block': 2531, 'neck': 2532, 'laura': 2533, 'christi': 2534, 'concert': 2535, 'fallen': 2536, 'portrait': 2537, 'mob': 2538, 'access': 2539, 'pool': 2540, 'fay': 2541, 'grey': 2542, 'lesser': 2543, 'seagal': 2544, 'competit': 2545, 'usa': 2546, 'relax': 2547, 'react': 2548, 'isol': 2549, 'chees': 2550, 'jake': 2551, 'sinist': 2552, 'jewish': 2553, 'nine': 2554, 'appal': 2555, 'immens': 2556, 'creep': 2557, '2006': 2558, 'stink': 2559, 'chop': 2560, 'lyric': 2561, 'spiritu': 2562, 'nonetheless': 2563, 'ironi': 2564, 'suitabl': 2565, 'adopt': 2566, 'needless': 2567, 'nut': 2568, 'spring': 2569, 'retir': 2570, 'rage': 2571, 'navi': 2572, 'franchis': 2573, 'luci': 2574, 'reduc': 2575, 'showcas': 2576, 'user': 2577, 'sold': 2578, 'shirt': 2579, 'uninspir': 2580, 'digit': 2581, 'bath': 2582, 'jay': 2583, 'nurs': 2584, 'bulli': 2585, 'asham': 2586, 'zone': 2587, 'per': 2588, 'stanwyck': 2589, 'illustr': 2590, 'oddli': 2591, 'broadcast': 2592, 'upper': 2593, '1940': 2594, '2001': 2595, 'amongst': 2596, 'sutherland': 2597, 'laid': 2598, 'throat': 2599, 'baker': 2600, 'disguis': 2601, 'stylish': 2602, 'aspir': 2603, 'fulfil': 2604, 'brando': 2605, 'pride': 2606, 'endear': 2607, 'thief': 2608, 'em': 2609, 'wwii': 2610, 'nobl': 2611, 'wanna': 2612, '18': 2613, 'neighborhood': 2614, 'pound': 2615, 'impli': 2616, '16': 2617, 'distribut': 2618, 'tens': 2619, 'dinner': 2620, 'shift': 2621, 'bett': 2622, 'coher': 2623, 'bo': 2624, 'diseas': 2625, 'albeit': 2626, 'shoulder': 2627, 'prop': 2628, 'dawn': 2629, 'rochest': 2630, 'cinematograph': 2631, 'snow': 2632, 'silenc': 2633, 'forti': 2634, 'rebel': 2635, 'knife': 2636, 'poignant': 2637, 'function': 2638, 'matthau': 2639, 'wash': 2640, 'contract': 2641, 'surf': 2642, 'shout': 2643, 'heat': 2644, 'proof': 2645, 'height': 2646, 'henc': 2647, 'silver': 2648, 'derek': 2649, 'mindless': 2650, 'chuck': 2651, 'reunion': 2652, 'elvira': 2653, 'cancel': 2654, 'internet': 2655, 'horrend': 2656, 'widmark': 2657, 'duti': 2658, 'instinct': 2659, 'cannib': 2660, 'eeri': 2661, 'greatli': 2662, 'musician': 2663, 'alik': 2664, 'incoher': 2665, 'etern': 2666, 'absorb': 2667, 'glori': 2668, 'mill': 2669, 'premier': 2670, 'torn': 2671, 'repetit': 2672, 'spielberg': 2673, 'elvi': 2674, 'neat': 2675, 'innov': 2676, 'pie': 2677, 'itali': 2678, 'trite': 2679, 'redempt': 2680, 'lovabl': 2681, 'fbi': 2682, 'britain': 2683, 'precis': 2684, 'wealthi': 2685, 'announc': 2686, 'nelson': 2687, 'burton': 2688, 'blank': 2689, 'diamond': 2690, 'bang': 2691, 'horrifi': 2692, 'crisi': 2693, 'infam': 2694, 'racism': 2695, 'homag': 2696, 'helen': 2697, 'hammer': 2698, 'dedic': 2699, 'wilder': 2700, 'ensembl': 2701, 'flop': 2702, 'chaplin': 2703, 'happili': 2704, 'streisand': 2705, 'parallel': 2706, 'pat': 2707, 'resolut': 2708, 'broke': 2709, 'conclud': 2710, 'mar': 2711, 'st': 2712, 'factori': 2713, 'carter': 2714, 'disagre': 2715, 'triumph': 2716, 'cube': 2717, 'plastic': 2718, 'oil': 2719, 'fighter': 2720, 'own': 2721, 'climb': 2722, 'weight': 2723, 'march': 2724, 'bush': 2725, 'chuckl': 2726, 'row': 2727, 'vega': 2728, 'rocket': 2729, 'lust': 2730, 'thug': 2731, 'wherea': 2732, 'kurt': 2733, 'spare': 2734, 'unforgett': 2735, 'dump': 2736, 'enorm': 2737, 'meaning': 2738, 'boot': 2739, 'luca': 2740, 'mst3k': 2741, 'sensibl': 2742, 'dane': 2743, 'stress': 2744, 'arnold': 2745, 'engin': 2746, 'threat': 2747, 'karloff': 2748, 'adequ': 2749, 'caricatur': 2750, 'brand': 2751, 'bobbi': 2752, 'difficulti': 2753, 'fifti': 2754, 'dear': 2755, 'butt': 2756, 'rap': 2757, 'swing': 2758, 'secretari': 2759, 'polish': 2760, 'fest': 2761, 'ego': 2762, 'journalist': 2763, 'homeless': 2764, 'ralph': 2765, 'elabor': 2766, 'arrog': 2767, 'flynn': 2768, 'barri': 2769, 'hamlet': 2770, 'unbear': 2771, 'resort': 2772, 'float': 2773, 'tool': 2774, 'grate': 2775, 'simpson': 2776, 'fanci': 2777, 'conspiraci': 2778, 'spike': 2779, 'puppet': 2780, 'induc': 2781, 'arrang': 2782, 'exercis': 2783, 'cruis': 2784, 'tribut': 2785, 'guilt': 2786, 'pig': 2787, 'muppet': 2788, 'boll': 2789, 'choreograph': 2790, 'basement': 2791, 'phillip': 2792, 'puzzl': 2793, 'korean': 2794, 'ham': 2795, 'toilet': 2796, 'babe': 2797, 'layer': 2798, 'file': 2799, 'editor': 2800, 'ward': 2801, 'fianc': 2802, 'medium': 2803, 'slip': 2804, 'stan': 2805, 'item': 2806, 'document': 2807, '24': 2808, 'tower': 2809, 'scarecrow': 2810, 'spark': 2811, 'transit': 2812, 'territori': 2813, 'larger': 2814, 'doc': 2815, 'assur': 2816, 'superfici': 2817, 'glover': 2818, 'catherin': 2819, 'librari': 2820, 'persona': 2821, 'philosoph': 2822, 'denzel': 2823, 'slaughter': 2824, 'minim': 2825, 'orient': 2826, 'inexplic': 2827, 'portion': 2828, 'walken': 2829, 'ban': 2830, 'jeremi': 2831, 'pg': 2832, 'shi': 2833, 'sneak': 2834, 'owe': 2835, 'wolf': 2836, 'financi': 2837, 'boredom': 2838, 'jet': 2839, 'dorothi': 2840, 'curti': 2841, 'backdrop': 2842, 'profound': 2843, 'eleph': 2844, 'cusack': 2845, 'whale': 2846, 'multi': 2847, 'metaphor': 2848, 'ambigu': 2849, 'hudson': 2850, 'union': 2851, 'notion': 2852, 'stiff': 2853, 'rave': 2854, 'elsewher': 2855, 'implaus': 2856, 'birthday': 2857, 'viru': 2858, '2005': 2859, 'gadget': 2860, 'ultra': 2861, 'hack': 2862, 'distanc': 2863, 'slight': 2864, 'eastwood': 2865, 'reader': 2866, 'afford': 2867, 'poison': 2868, 'urg': 2869, 'bibl': 2870, 'squar': 2871, 'canada': 2872, '1st': 2873, 'disc': 2874, 'newspap': 2875, 'pad': 2876, 'superhero': 2877, 'hawk': 2878, 'deriv': 2879, 'eva': 2880, 'lloyd': 2881, 'montag': 2882, 'spread': 2883, 'drown': 2884, 'huh': 2885, 'cure': 2886, 'essenc': 2887, 'charisma': 2888, 'button': 2889, 'restaur': 2890, 'skit': 2891, 'health': 2892, 'sadist': 2893, 'heston': 2894, 'companion': 2895, 'peak': 2896, 'muslim': 2897, 'lab': 2898, 'scoobi': 2899, 'invest': 2900, 'gradual': 2901, 'dealt': 2902, 'fetch': 2903, 'godfath': 2904, 'estat': 2905, 'maniac': 2906, 'miik': 2907, 'gothic': 2908, 'subtleti': 2909, 'countless': 2910, 'cup': 2911, 'ritter': 2912, 'servant': 2913, 'kane': 2914, 'alli': 2915, 'tea': 2916, 'elect': 2917, 'charismat': 2918, 'electr': 2919, 'heroic': 2920, 'salli': 2921, 'briefli': 2922, 'iii': 2923, 'grandmoth': 2924, 'toss': 2925, 'reel': 2926, 'wannab': 2927, 'tender': 2928, 'ingredi': 2929, 'nuanc': 2930, 'cole': 2931, 'resourc': 2932, 'admittedli': 2933, 'neil': 2934, 'bud': 2935, 'punk': 2936, 'gate': 2937, 'dawson': 2938, 'mild': 2939, 'shall': 2940, 'poverti': 2941, 'stronger': 2942, 'kubrick': 2943, 'carrey': 2944, 'stood': 2945, 'pit': 2946, 'reev': 2947, 'pauli': 2948, 'label': 2949, 'mafia': 2950, 'smash': 2951, 'assault': 2952, 'smooth': 2953, 'burst': 2954, 'cardboard': 2955, 'cox': 2956, 'outcom': 2957, 'fond': 2958, 'terri': 2959, 'ian': 2960, 'useless': 2961, 'tag': 2962, 'easier': 2963, 'updat': 2964, 'astair': 2965, 'bakshi': 2966, 'samurai': 2967, 'qualifi': 2968, 'exchang': 2969, 'vari': 2970, 'increasingli': 2971, 'sketch': 2972, 'coincid': 2973, 'vulner': 2974, '2002': 2975, 'resolv': 2976, 'fist': 2977, 'melodramat': 2978, 'divers': 2979, 'rex': 2980, 'brillianc': 2981, 'luckili': 2982, 'reynold': 2983, 'be': 2984, 'tame': 2985, 'suspend': 2986, 'scratch': 2987, 'blast': 2988, 'templ': 2989, 'conveni': 2990, 'insert': 2991, 'hamilton': 2992, 'strictli': 2993, 'gotta': 2994, 'nuclear': 2995, 'soprano': 2996, 'walker': 2997, 'seventi': 2998, 'farm': 2999, 'matthew': 3000, 'jami': 3001, 'fisher': 3002, 'meat': 3003, 'pin': 3004, 'ambiti': 3005, 'coach': 3006, 'monk': 3007, 'clock': 3008, 'ninja': 3009, 'eccentr': 3010, 'grasp': 3011, 'recreat': 3012, 'brosnan': 3013, 'convolut': 3014, 'instantli': 3015, 'revers': 3016, 'timeless': 3017, 'kudo': 3018, 'struck': 3019, 'discoveri': 3020, 'cave': 3021, 'worthless': 3022, 'empir': 3023, 'joey': 3024, 'closet': 3025, 'spooki': 3026, 'butcher': 3027, 'mitchel': 3028, 'sidekick': 3029, 'partli': 3030, 'importantli': 3031, 'evok': 3032, 'declar': 3033, 'communist': 3034, 'pal': 3035, 'cliff': 3036, 'wipe': 3037, 'eighti': 3038, 'miracl': 3039, 'fifteen': 3040, 'norman': 3041, 'selfish': 3042, 'sloppi': 3043, 'clown': 3044, 'gray': 3045, 'bleak': 3046, 'inconsist': 3047, 'seller': 3048, 'ho': 3049, 'cheek': 3050, 'enthusiast': 3051, 'piano': 3052, 'aforement': 3053, 'farc': 3054, '45': 3055, 'australia': 3056, 'websit': 3057, 'stoog': 3058, 'lifestyl': 3059, 'chew': 3060, 'flawless': 3061, 'seed': 3062, 'psychiatrist': 3063, 'debat': 3064, 'superbl': 3065, 'destin': 3066, 'abc': 3067, 'pressur': 3068, 'bash': 3069, 'anni': 3070, 'drivel': 3071, 'emili': 3072, 'akshay': 3073, 'regardless': 3074, 'directori': 3075, 'dash': 3076, 'soviet': 3077, 'slice': 3078, 'dire': 3079, 'splatter': 3080, 'wrestl': 3081, 'wick': 3082, 'incompet': 3083, 'kitchen': 3084, 'seduc': 3085, 'increas': 3086, 'suppli': 3087, 'duo': 3088, 'lou': 3089, 'jar': 3090, 'boil': 3091, 'artifici': 3092, 'beaten': 3093, 'curios': 3094, 'glow': 3095, 'judi': 3096, 'dave': 3097, 'doo': 3098, 'prize': 3099, 'blob': 3100, 'ken': 3101, 'cagney': 3102, 'distant': 3103, 'helicopt': 3104, 'mann': 3105, 'recov': 3106, 'pleasantli': 3107, 'cameron': 3108, 'cia': 3109, 'chapter': 3110, 'flower': 3111, 'turner': 3112, 'web': 3113, 'goldberg': 3114, 'eleg': 3115, 'hop': 3116, 'combat': 3117, 'favour': 3118, 'psychot': 3119, 'ellen': 3120, 'perri': 3121, 'drunken': 3122, 'splendid': 3123, 'glenn': 3124, 'panic': 3125, 'francisco': 3126, 'laurel': 3127, 'craig': 3128, 'craven': 3129, 'ranger': 3130, 'rid': 3131, 'graduat': 3132, 'shortli': 3133, 'alexand': 3134, 'min': 3135, 'slightest': 3136, 'ruth': 3137, 'flip': 3138, 'plausibl': 3139, 'hatr': 3140, 'gentl': 3141, 'greek': 3142, 'philosophi': 3143, 'fx': 3144, 'wizard': 3145, 'falk': 3146, 'gandhi': 3147, '20th': 3148, 'modesti': 3149, 'jealou': 3150, 'dracula': 3151, 'felix': 3152, 'futurist': 3153, 'ocean': 3154, 'unpleas': 3155, 'manhattan': 3156, 'knight': 3157, 'tall': 3158, 'holi': 3159, 'preciou': 3160, 'legal': 3161, 'fund': 3162, 'we': 3163, 'harm': 3164, 'lend': 3165, 'bless': 3166, 'digniti': 3167, 'overdon': 3168, 'scientif': 3169, 'explicit': 3170, 'tank': 3171, 'forbidden': 3172, 'reviv': 3173, 'childish': 3174, 'mock': 3175, 'nod': 3176, 'giallo': 3177, 'thread': 3178, 'ami': 3179, 'pirat': 3180, 'broad': 3181, 'margaret': 3182, 'thick': 3183, '2004': 3184, 'repeatedli': 3185, 'nerv': 3186, 'awaken': 3187, '99': 3188, 'yesterday': 3189, 'mel': 3190, 'elderli': 3191, 'fever': 3192, 'eve': 3193, 'awe': 3194, 'unwatch': 3195, 'torment': 3196, 'verhoeven': 3197, 'politician': 3198, 'kay': 3199, 'publish': 3200, 'absenc': 3201, 'romero': 3202, 'launch': 3203, 'rivet': 3204, 'ah': 3205, 'uniform': 3206, 'automat': 3207, 'eas': 3208, 'griffith': 3209, 'ambit': 3210, 'timothi': 3211, 'bin': 3212, 'custom': 3213, 'acclaim': 3214, 'stiller': 3215, 'roman': 3216, 'lean': 3217, 'royal': 3218, 'purpl': 3219, 'phrase': 3220, 'transport': 3221, 'tomato': 3222, 'gabriel': 3223, 'darker': 3224, 'stinker': 3225, 'crook': 3226, 'bathroom': 3227, 'pierc': 3228, 'termin': 3229, 'warren': 3230, 'wallac': 3231, 'homicid': 3232, 'foul': 3233, 'antic': 3234, 'pulp': 3235, 'sunshin': 3236, 'eyr': 3237, 'choreographi': 3238, 'horrid': 3239, 'revolutionari': 3240, 'donna': 3241, 'packag': 3242, 'sixti': 3243, 'marin': 3244, 'saint': 3245, 'album': 3246, 'evolv': 3247, 'kenneth': 3248, 'hollow': 3249, 'contrari': 3250, '2003': 3251, 'q': 3252, 'pray': 3253, 'prom': 3254, 'awak': 3255, 'coloni': 3256, 'viciou': 3257, 'li': 3258, 'ought': 3259, 'brazil': 3260, 'rambo': 3261, 'juvenil': 3262, 'karen': 3263, 'ireland': 3264, 'option': 3265, 'nerd': 3266, 'stole': 3267, 'beatti': 3268, 'blade': 3269, 'mildr': 3270, 'dose': 3271, 'twelv': 3272, 'overr': 3273, 'boast': 3274, 'candid': 3275, 'mummi': 3276, 'conserv': 3277, 'kapoor': 3278, 'defi': 3279, 'ramon': 3280, 'global': 3281, 'fulci': 3282, 'collabor': 3283, 'confirm': 3284, 'altman': 3285, 'astonish': 3286, 'trio': 3287, 'natali': 3288, 'detract': 3289, 'funer': 3290, 'protest': 3291, 'flame': 3292, 'jazz': 3293, 'kirk': 3294, 'audio': 3295, 'whip': 3296, 'delici': 3297, 'destini': 3298, 'leap': 3299, 'shade': 3300, 'nicholson': 3301, 'tommi': 3302, 'racial': 3303, 'spit': 3304, 'mystic': 3305, 'bull': 3306, 'blake': 3307, 'bottl': 3308, 'enterpris': 3309, 'yellow': 3310, 'altogeth': 3311, 'reunit': 3312, 'staff': 3313, 'threw': 3314, 'pseudo': 3315, 'vivid': 3316, 'harder': 3317, 'adolesc': 3318, 'enchant': 3319, 'popcorn': 3320, 'fonda': 3321, 'merci': 3322, 'bedroom': 3323, 'swedish': 3324, 'neo': 3325, 'visibl': 3326, 'todd': 3327, 'inherit': 3328, 'meaningless': 3329, 'decor': 3330, 'leonard': 3331, 'wire': 3332, 'kennedi': 3333, 'voight': 3334, 'suspici': 3335, 'befriend': 3336, 'respond': 3337, 'madonna': 3338, 'lemmon': 3339, 'crocodil': 3340, 'fanat': 3341, 'synopsi': 3342, 'tip': 3343, 'uneven': 3344, 'await': 3345, 'moodi': 3346, 'lawrenc': 3347, 'jew': 3348, 'bust': 3349, 'roommat': 3350, 'reserv': 3351, 'ruthless': 3352, 'exhibit': 3353, 'atlanti': 3354, 'edi': 3355, 'bold': 3356, 'dimens': 3357, 'clint': 3358, 'ventur': 3359, 'incident': 3360, 'clumsi': 3361, 'audit': 3362, 'unsettl': 3363, 'bradi': 3364, 'carl': 3365, '2007': 3366, 'rural': 3367, 'chao': 3368, 'voyag': 3369, 'abysm': 3370, 'palma': 3371, 'bargain': 3372, 'garner': 3373, 'centr': 3374, 'holli': 3375, 'immigr': 3376, 'daddi': 3377, 'trail': 3378, '2nd': 3379, 'lit': 3380, 'ant': 3381, 'acknowledg': 3382, 'humili': 3383, 'elimin': 3384, 'cd': 3385, 'troop': 3386, 'echo': 3387, 'cuba': 3388, 'imperson': 3389, 'characterist': 3390, 'hart': 3391, 'neglect': 3392, 'versu': 3393, 'poetic': 3394, 'wealth': 3395, 'cari': 3396, 'nearbi': 3397, 'timon': 3398, 'mall': 3399, 'tiger': 3400, 'collaps': 3401, 'repuls': 3402, 'pun': 3403, 'domest': 3404, 'mistaken': 3405, 'marshal': 3406, 'paus': 3407, 'infect': 3408, 'celluloid': 3409, 'saga': 3410, 'solo': 3411, 'homer': 3412, 'jeffrey': 3413, 'mickey': 3414, 'prejudic': 3415, 'assembl': 3416, 'coat': 3417, 'sore': 3418, 'olivi': 3419, 'promin': 3420, 'hbo': 3421, 'gear': 3422, 'milk': 3423, 'inappropri': 3424, 'harvey': 3425, 'coffe': 3426, 'equip': 3427, 'cake': 3428, 'leon': 3429, 'undoubtedli': 3430, 'tribe': 3431, 'inan': 3432, 'apolog': 3433, '1996': 3434, 'interrupt': 3435, 'pant': 3436, 'chest': 3437, 'ginger': 3438, 'pen': 3439, 'pot': 3440, 'retain': 3441, 'exot': 3442, 'devast': 3443, 'embrac': 3444, 'maggi': 3445, 'furthermor': 3446, 'humbl': 3447, 'solut': 3448, 'vulgar': 3449, 'jenni': 3450, 'aveng': 3451, 'primari': 3452, 'brooklyn': 3453, 'highest': 3454, 'colonel': 3455, 'airplan': 3456, 'institut': 3457, 'colleagu': 3458, 'instant': 3459, 'polanski': 3460, 'florida': 3461, 'trace': 3462, 'consum': 3463, '3rd': 3464, '1999': 3465, 'seduct': 3466, 'poke': 3467, 'illog': 3468, 'linda': 3469, 'gender': 3470, 'disabl': 3471, 'principl': 3472, 'sale': 3473, 'ya': 3474, 'godzilla': 3475, 'rick': 3476, 'descend': 3477, 'wive': 3478, 'bowl': 3479, 'strain': 3480, 'dian': 3481, 'smaller': 3482, 'outer': 3483, 'cope': 3484, 'dutch': 3485, 'yard': 3486, 'inferior': 3487, 'dive': 3488, 'blatant': 3489, 'devoid': 3490, 'mixtur': 3491, 'beneath': 3492, 'dud': 3493, 'lol': 3494, 'rabbit': 3495, 'secondli': 3496, 'gloriou': 3497, 'predecessor': 3498, 'scope': 3499, 'glamor': 3500, 'primarili': 3501, 'bubbl': 3502, 'hal': 3503, 'vast': 3504, 'cue': 3505, 'gundam': 3506, 'disjoint': 3507, 'pearl': 3508, 'alert': 3509, 'et': 3510, 'senseless': 3511, 'april': 3512, 'z': 3513, 'casual': 3514, 'alfr': 3515, 'grinch': 3516, 'countrysid': 3517, 'aggress': 3518, 'shelf': 3519, 'streep': 3520, 'hideou': 3521, 'simplist': 3522, 'museum': 3523, 'breed': 3524, 'domino': 3525, 'shirley': 3526, 'myer': 3527, 'trademark': 3528, 'garbo': 3529, 'arab': 3530, 'invas': 3531, 'talki': 3532, 'acid': 3533, 'illeg': 3534, 'boom': 3535, 'stir': 3536, 'slide': 3537, 'applaud': 3538, 'stellar': 3539, 'unhappi': 3540, 'rendit': 3541, 'loyal': 3542, 'mail': 3543, 'robberi': 3544, 'mayor': 3545, 'hardcor': 3546, 'oz': 3547, 'uwe': 3548, 'robinson': 3549, 'experiment': 3550, 'maci': 3551, 'disgrac': 3552, 'obtain': 3553, 'hopeless': 3554, 'defens': 3555, 'khan': 3556, 'vanish': 3557, 'sh': 3558, 'stack': 3559, 'soccer': 3560, 'rifl': 3561, 'dismiss': 3562, 'counter': 3563, 'blew': 3564, 'spider': 3565, 'tempt': 3566, 'wont': 3567, 'span': 3568, 'amanda': 3569, 'incomprehens': 3570, 'dicken': 3571, 'scroog': 3572, 'berlin': 3573, 'declin': 3574, 'fri': 3575, 'emphasi': 3576, 'craze': 3577, 'grandfath': 3578, 'tenant': 3579, 'hartley': 3580, 'recruit': 3581, 'psychic': 3582, 'topless': 3583, 'diana': 3584, 'shed': 3585, 'ethnic': 3586, 'ration': 3587, 'sympath': 3588, 'trashi': 3589, 'shaw': 3590, 'justin': 3591, 'niro': 3592, 'riot': 3593, 'woo': 3594, 'porno': 3595, 'lumet': 3596, 'sibl': 3597, 'parad': 3598, 'goer': 3599, 'revolt': 3600, 'resurrect': 3601, 'wet': 3602, 'bitch': 3603, 'intim': 3604, 'faster': 3605, 'feminist': 3606, 'wheel': 3607, 'nephew': 3608, 'mario': 3609, 'choru': 3610, 'immort': 3611, '00': 3612, 'jonathan': 3613, 'biographi': 3614, 'commend': 3615, 'weakest': 3616, 'patriot': 3617, 'eager': 3618, 'farmer': 3619, 'dealer': 3620, 'lena': 3621, 'slick': 3622, 'steam': 3623, 'unreal': 3624, 'ensur': 3625, 'gap': 3626, 'honesti': 3627, 'ballet': 3628, 'andr': 3629, 'partial': 3630, 'region': 3631, 'wendi': 3632, 'enlighten': 3633, 'rider': 3634, 'hopper': 3635, 'hesit': 3636, 'worm': 3637, 'charlott': 3638, 'sappi': 3639, 'blunt': 3640, 'wore': 3641, 'macarthur': 3642, 'repress': 3643, 'leo': 3644, 'sandra': 3645, 'psychopath': 3646, 'similarli': 3647, 'mutant': 3648, 'confin': 3649, 'victori': 3650, 'composit': 3651, 'snap': 3652, 'properti': 3653, 'prequel': 3654, 'util': 3655, 'vice': 3656, 'morri': 3657, 'skull': 3658, 'owen': 3659, 'kingdom': 3660, 'nostalg': 3661, 'hung': 3662, 'safeti': 3663, 'franco': 3664, 'drum': 3665, 'pattern': 3666, 'latin': 3667, 'tad': 3668, 'acquir': 3669, 'despair': 3670, 'compass': 3671, 'miseri': 3672, 'dust': 3673, 'bow': 3674, 'whoopi': 3675, 'bergman': 3676, 'strand': 3677, 'hyde': 3678, 'bonu': 3679, 'heartbreak': 3680, 'valuabl': 3681, 'recycl': 3682, 'rope': 3683, '1972': 3684, 'emperor': 3685, 'tail': 3686, 'campbel': 3687, 'cg': 3688, 'rocki': 3689, 'farrel': 3690, 'deed': 3691, 'rambl': 3692, 'dalton': 3693, 'nervou': 3694, 'snl': 3695, 'del': 3696, 'exit': 3697, 'speci': 3698, 'thru': 3699, 'repli': 3700, 'drain': 3701, 'montana': 3702, 'compens': 3703, 'kyle': 3704, 'bumbl': 3705, 'tonight': 3706, 'wacki': 3707, 'gal': 3708, 'rapist': 3709, 'radic': 3710, 'downhil': 3711, 'pour': 3712, 'mistress': 3713, '35': 3714, 'rotten': 3715, 'percept': 3716, 'roth': 3717, 'contempl': 3718, 'da': 3719, 'bleed': 3720, 'romp': 3721, 'orson': 3722, 'slug': 3723, 'martian': 3724, 'olli': 3725, 'gimmick': 3726, 'airport': 3727, 'oppress': 3728, 'chess': 3729, 'carradin': 3730, 'attorney': 3731, 'taught': 3732, 'melodi': 3733, 'heal': 3734, 'preach': 3735, 'arc': 3736, 'edgar': 3737, 'unpredict': 3738, 'tackl': 3739, 'pursuit': 3740, 'arguabl': 3741, '1983': 3742, 'pervert': 3743, 'banal': 3744, 'slash': 3745, 'dazzl': 3746, 'belt': 3747, 'champion': 3748, 'programm': 3749, 'paltrow': 3750, 'pervers': 3751, 'mislead': 3752, 'shelley': 3753, 'tooth': 3754, 'stilt': 3755, 'mesmer': 3756, 'vocal': 3757, 'gambl': 3758, 'marti': 3759, 'employe': 3760, 'duval': 3761, 'chicken': 3762, 'tiresom': 3763, 'rubi': 3764, 'sensat': 3765, 'cleverli': 3766, 'maid': 3767, 'conneri': 3768, 'vengeanc': 3769, 'bela': 3770, 'plight': 3771, 'virginia': 3772, 'graham': 3773, 'poem': 3774, 'raymond': 3775, 'uplift': 3776, 'passeng': 3777, 'orang': 3778, 'closest': 3779, 'dixon': 3780, 'franki': 3781, 'swallow': 3782, 'secretli': 3783, 'suffic': 3784, 'abraham': 3785, 'giggl': 3786, 'extens': 3787, 'convincingli': 3788, 'habit': 3789, 'iran': 3790, 'volum': 3791, 'yawn': 3792, 'paranoia': 3793, 'outing': 3794, 'climact': 3795, 'clone': 3796, 'lundgren': 3797, 'quarter': 3798, 'mute': 3799, 'amitabh': 3800, 'inject': 3801, 'calm': 3802, 'monologu': 3803, '1968': 3804, 'profan': 3805, 'gerard': 3806, 'whine': 3807, 'tube': 3808, 'numb': 3809, 'crystal': 3810, 'bay': 3811, 'sirk': 3812, 'scottish': 3813, 'engross': 3814, 'pokemon': 3815, 'bend': 3816, 'abort': 3817, 'backward': 3818, 'plod': 3819, 'meander': 3820, 'linger': 3821, 'im': 3822, 'surpass': 3823, 'chicago': 3824, 'austen': 3825, 'grotesqu': 3826, 'septemb': 3827, 'dispos': 3828, 'lowest': 3829, 'underst': 3830, 'junior': 3831, 'earl': 3832, 'trend': 3833, 'ethan': 3834, 'taxi': 3835, 'franci': 3836, 'frankenstein': 3837, 'expand': 3838, 'poetri': 3839, 'nichola': 3840, 'richardson': 3841, 'profess': 3842, 'fed': 3843, 'spock': 3844, 'nostalgia': 3845, 'simplic': 3846, 'waitress': 3847, 'econom': 3848, 'der': 3849, 'spoke': 3850, 'compliment': 3851, 'cannon': 3852, 'stallon': 3853, 'lure': 3854, 'rant': 3855, 'rubber': 3856, 'muddl': 3857, 'mundan': 3858, 'descent': 3859, 'literatur': 3860, 'eugen': 3861, 'catchi': 3862, 'greedi': 3863, 'sue': 3864, 'tourist': 3865, 'household': 3866, 'myth': 3867, 'instrument': 3868, 'dysfunct': 3869, 'hum': 3870, 'hello': 3871, 'louis': 3872, 'cent': 3873, 'mortal': 3874, 'recognis': 3875, 'damon': 3876, 'mankind': 3877, 'carel': 3878, 'insur': 3879, 'furi': 3880, 'alongsid': 3881, 'stale': 3882, 'flee': 3883, 'june': 3884, 'firstli': 3885, 'duck': 3886, 'irrelev': 3887, 'randi': 3888, 'phoni': 3889, 'recognit': 3890, 'deaf': 3891, 'equival': 3892, 'coast': 3893, 'dement': 3894, 'crucial': 3895, 'lang': 3896, 'omen': 3897, 'molli': 3898, 'occupi': 3899, 'phantom': 3900, 'map': 3901, 'dictat': 3902, 'eaten': 3903, 'bacal': 3904, 'sissi': 3905, 'onlin': 3906, 'dreari': 3907, 'distinguish': 3908, 'bump': 3909, 'daisi': 3910, 'loyalti': 3911, 'lengthi': 3912, 'rude': 3913, 'bike': 3914, 'twilight': 3915, 'labor': 3916, 'biko': 3917, 'drake': 3918, 'newli': 3919, 'cyborg': 3920, 'ashley': 3921, 'likewis': 3922, 'freez': 3923, '1973': 3924, 'rooney': 3925, 'damm': 3926, 'heel': 3927, 'blackmail': 3928, 'buffalo': 3929, 'reign': 3930, 'wisdom': 3931, 'grayson': 3932, 'antwon': 3933, 'nineti': 3934, 'analysi': 3935, 'attribut': 3936, 'provoc': 3937, 'incorpor': 3938, 'approv': 3939, 'proce': 3940, 'unorigin': 3941, 'chronicl': 3942, 'ridden': 3943, 'exposur': 3944, 'emphas': 3945, 'tunnel': 3946, 'worn': 3947, 'baddi': 3948, 'prey': 3949, 'boxer': 3950, 'pink': 3951, 'inher': 3952, 'vein': 3953, 'interior': 3954, 'keith': 3955, 'butler': 3956, 'basketbal': 3957, 'startl': 3958, 'sailor': 3959, 'barrymor': 3960, 'er': 3961, 'drift': 3962, 'predat': 3963, 'barrel': 3964, 'julian': 3965, 'improvis': 3966, 'substitut': 3967, 'stalker': 3968, 'condemn': 3969, 'meg': 3970, 'indiffer': 3971, 'othello': 3972, 'undeni': 3973, 'unrel': 3974, 'nicol': 3975, 'robbin': 3976, 'meyer': 3977, 'carla': 3978, 'degrad': 3979, 'millionair': 3980, 'mormon': 3981, 'belushi': 3982, 'fleet': 3983, 'elm': 3984, 'underli': 3985, 'bunni': 3986, 'mighti': 3987, 'walsh': 3988, 'hypnot': 3989, 'simmon': 3990, 'shove': 3991, 'hay': 3992, 'disord': 3993, 'rukh': 3994, 'watson': 3995, 'edgi': 3996, 'novak': 3997, 'unawar': 3998, 'nyc': 3999, 'warmth': 4000, 'roof': 4001, 'enthusiasm': 4002, 'alison': 4003, 'palac': 4004, 'errol': 4005, 'dolph': 4006, 'exquisit': 4007, 'priceless': 4008, 'lampoon': 4009, 'mtv': 4010, 'alarm': 4011, 'greed': 4012, 'reid': 4013, '3d': 4014, 'vital': 4015, 'firm': 4016, 'agenda': 4017, 'marion': 4018, 'testament': 4019, 'peck': 4020, 'ponder': 4021, 'randomli': 4022, 'spain': 4023, 'simultan': 4024, 'campaign': 4025, 'crown': 4026, 'petti': 4027, 'unleash': 4028, 'valentin': 4029, '13th': 4030, 'israel': 4031, 'glanc': 4032, 'gestur': 4033, 'pamela': 4034, 'what': 4035, 'orlean': 4036, 'distort': 4037, 'showdown': 4038, 'thompson': 4039, 'preserv': 4040, 'iraq': 4041, 'angela': 4042, 'coup': 4043, '1933': 4044, 'championship': 4045, 'eastern': 4046, 'profit': 4047, 'nun': 4048, 'drip': 4049, 'peril': 4050, 'session': 4051, 'minimum': 4052, 'sergeant': 4053, 'cassidi': 4054, 'zizek': 4055, 'beatl': 4056, 'buster': 4057, 'quinn': 4058, 'realm': 4059, 'stroke': 4060, 'travesti': 4061, 'empathi': 4062, 'crow': 4063, 'reson': 4064, 'rout': 4065, 'regist': 4066, 'sabrina': 4067, 'wig': 4068, 'miyazaki': 4069, 'stake': 4070, 'calib': 4071, 'fido': 4072, 'brenda': 4073, 'valley': 4074, 'han': 4075, 'kurosawa': 4076, 'crawl': 4077, 'gentleman': 4078, 'bro': 4079, 'jan': 4080, 'perpetu': 4081, 'contradict': 4082, 'restrain': 4083, 'unimagin': 4084, 'represent': 4085, 'mon': 4086, 'exposit': 4087, 'scotland': 4088, 'cream': 4089, 'climat': 4090, 'shootout': 4091, '1984': 4092, 'cooki': 4093, 'din': 4094, 'delic': 4095, 'absent': 4096, 'abomin': 4097, 'josh': 4098, 'fuller': 4099, 'ustinov': 4100, 'geek': 4101, 'traumat': 4102, 'cloud': 4103, 'shaki': 4104, 'baldwin': 4105, 'shoddi': 4106, 'painter': 4107, 'tacki': 4108, 'sucker': 4109, 'femm': 4110, 'greg': 4111, 'pretens': 4112, '1987': 4113, 'wax': 4114, 'censor': 4115, 'businessman': 4116, 'crawford': 4117, 'distress': 4118, 'meryl': 4119, 'pole': 4120, 'spacey': 4121, 'warrant': 4122, '1997': 4123, 'stargat': 4124, 'monoton': 4125, 'compromis': 4126, 'passabl': 4127, 'derang': 4128, 'darren': 4129, 'mclaglen': 4130, 'demis': 4131, 'unsatisfi': 4132, 'unseen': 4133, 'dana': 4134, 'perceiv': 4135, 'sammi': 4136, 'soderbergh': 4137, 'ross': 4138, 'fog': 4139, 'tech': 4140, 'unravel': 4141, 'tarantino': 4142, 'kumar': 4143, 'reluct': 4144, 'norm': 4145, 'expedit': 4146, 'click': 4147, 'deniro': 4148, 'clash': 4149, 'judgment': 4150, 'fenc': 4151, '1993': 4152, 'valid': 4153, 'verbal': 4154, 'jewel': 4155, 'deceas': 4156, 'wholli': 4157, 'correctli': 4158, 'polici': 4159, 'primit': 4160, 'uncov': 4161, 'accuraci': 4162, 'exclus': 4163, 'anchor': 4164, 'sid': 4165, 'dee': 4166, 'nathan': 4167, 'seal': 4168, 'furiou': 4169, 'austin': 4170, 'antonioni': 4171, 'slam': 4172, 'crippl': 4173, 'malon': 4174, 'behold': 4175, 'murray': 4176, 'debt': 4177, 'joel': 4178, 'ritual': 4179, 'wang': 4180, 'sustain': 4181, 'conduct': 4182, '1995': 4183, 'tax': 4184, 'wretch': 4185, 'patienc': 4186, '2008': 4187, '1971': 4188, 'fart': 4189, 'sand': 4190, 'sunni': 4191, 'hallucin': 4192, 'seldom': 4193, 'mode': 4194, 'trait': 4195, 'enforc': 4196, 'unfair': 4197, 'clerk': 4198, 'logan': 4199, 'sheet': 4200, 'temper': 4201, 'vanc': 4202, 'pocket': 4203, 'shanghai': 4204, 'nicola': 4205, 'fabric': 4206, 'roller': 4207, 'fought': 4208, 'darn': 4209, 'alec': 4210, 'dreck': 4211, '3000': 4212, 'bake': 4213, 'tactic': 4214, 'runner': 4215, 'exhaust': 4216, 'phil': 4217, 'canyon': 4218, 'shell': 4219, 'guitar': 4220, 'technicolor': 4221, 'outlin': 4222, 'legaci': 4223, 'penni': 4224, 'grief': 4225, 'critiqu': 4226, 'stuart': 4227, 'scriptwrit': 4228, 'despis': 4229, 'squad': 4230, 'stark': 4231, 'pete': 4232, 'clau': 4233, 'fundament': 4234, 'rita': 4235, 'schedul': 4236, 'bridget': 4237, 'soup': 4238, 'preposter': 4239, 'helpless': 4240, 'bias': 4241, 'sweep': 4242, 'conscious': 4243, 'preston': 4244, 'robber': 4245, 'isabel': 4246, 'divid': 4247, 'newman': 4248, 'cigarett': 4249, 'inabl': 4250, 'connor': 4251, 'vomit': 4252, 'unexpectedli': 4253, 'passag': 4254, 'bloom': 4255, 'consciou': 4256, 'delv': 4257, 'alicia': 4258, 'sugar': 4259, 'rear': 4260, 'russia': 4261, 'lacklust': 4262, 'restrict': 4263, 'boyl': 4264, 'marc': 4265, 'drove': 4266, 'alley': 4267, 'gregori': 4268, 'flair': 4269, 'downey': 4270, 'liberti': 4271, 'sniper': 4272, 'palanc': 4273, 'rehash': 4274, 'implic': 4275, 'jodi': 4276, 'invad': 4277, 'jacket': 4278, 'agenc': 4279, 'culmin': 4280, 'kansa': 4281, 'propos': 4282, 'sentinel': 4283, 'horn': 4284, 'feat': 4285, 'behaviour': 4286, 'chainsaw': 4287, 'karl': 4288, 'pale': 4289, 'improb': 4290, 'arrow': 4291, '22': 4292, 'bacon': 4293, 'rod': 4294, 'rehears': 4295, 'wrench': 4296, 'awhil': 4297, 'tendenc': 4298, 'foxx': 4299, 'delet': 4300, '1936': 4301, 'lush': 4302, 'aesthet': 4303, 'rampag': 4304, 'tripe': 4305, 'ladder': 4306, 'sharon': 4307, 'asylum': 4308, 'vet': 4309, 'yeti': 4310, 'mccoy': 4311, 'kolchak': 4312, 'cap': 4313, 'underneath': 4314, 'minu': 4315, 'paramount': 4316, 'rhythm': 4317, 'suspicion': 4318, 'paradis': 4319, 'wildli': 4320, 'newcom': 4321, 'basing': 4322, 'rumor': 4323, 'wagner': 4324, 'weav': 4325, 'amazon': 4326, 'scoop': 4327, 'spice': 4328, 'prank': 4329, 'thunderbird': 4330, 'tasteless': 4331, 'visitor': 4332, 'filler': 4333, 'tomorrow': 4334, 'hulk': 4335, '1920': 4336, 'shortcom': 4337, 'suffici': 4338, '19th': 4339, 'lurk': 4340, 'sung': 4341, 'elit': 4342, 'aristocrat': 4343, 'fright': 4344, 'conscienc': 4345, 'stream': 4346, 'el': 4347, '1978': 4348, 'financ': 4349, 'globe': 4350, 'hungri': 4351, 'loneli': 4352, 'coaster': 4353, '1988': 4354, 'hackney': 4355, 'straightforward': 4356, 'atroc': 4357, 'grudg': 4358, 'heist': 4359, 'abrupt': 4360, 'paxton': 4361, 'rub': 4362, 'penn': 4363, 'beverli': 4364, 'hopkin': 4365, 'leigh': 4366, 'smell': 4367, 'chamberlain': 4368, 'immers': 4369, 'standout': 4370, 'bread': 4371, 'secondari': 4372, 'curli': 4373, 'posey': 4374, 'entranc': 4375, 'cancer': 4376, 'inmat': 4377, 'en': 4378, 'counterpart': 4379, 'choppi': 4380, 'impos': 4381, 'ingeni': 4382, 'teas': 4383, '75': 4384, 'dirt': 4385, 'naughti': 4386, 'chavez': 4387, 'brit': 4388, '1939': 4389, 'quietli': 4390, 'recogniz': 4391, 'ram': 4392, 'wwe': 4393, 'couch': 4394, 'tierney': 4395, 'worship': 4396, 'iv': 4397, 'lectur': 4398, 'literari': 4399, 'springer': 4400, '1989': 4401, 'minist': 4402, '1986': 4403, 'ratso': 4404, 'morbid': 4405, 'enthral': 4406, 'yearn': 4407, 'convert': 4408, 'sassi': 4409, 'attenborough': 4410, 'net': 4411, 'laurenc': 4412, 'entitl': 4413, 'watcher': 4414, 'quaid': 4415, 'variat': 4416, 'geni': 4417, 'esther': 4418, 'clan': 4419, 'heartfelt': 4420, 'missil': 4421, 'transcend': 4422, 'misguid': 4423, 'bernard': 4424, 'sublim': 4425, 'nemesi': 4426, 'skeptic': 4427, 'ace': 4428, 'policeman': 4429, 'lindsay': 4430, 'moreov': 4431, 'duel': 4432, 'nolan': 4433, 'cattl': 4434, 'injuri': 4435, 'uncut': 4436, 'rosemari': 4437, 'spiral': 4438, 'setup': 4439, 'cruelti': 4440, 'puppi': 4441, 'poe': 4442, 'enabl': 4443, 'graini': 4444, 'youngest': 4445, 'tyler': 4446, 'mytholog': 4447, 'unexplain': 4448, 'grin': 4449, 'egg': 4450, 'characteris': 4451, 'brood': 4452, 'vader': 4453, 'facil': 4454, 'bye': 4455, '1979': 4456, 'moder': 4457, 'artsi': 4458, 'steadi': 4459, 'hopelessli': 4460, 'kitti': 4461, 'kidman': 4462, 'out': 4463, 'diari': 4464, 'reliabl': 4465, 'buzz': 4466, 'dont': 4467, 'obstacl': 4468, 'carlito': 4469, 'bean': 4470, 'hk': 4471, 'brendan': 4472, 'weather': 4473, 'patricia': 4474, 'spontan': 4475, 'sweat': 4476, 'acquaint': 4477, 'christin': 4478, 'baffl': 4479, 'niec': 4480, 'bounc': 4481, 'heap': 4482, 'effici': 4483, 'hammi': 4484, 'bronson': 4485, 'kline': 4486, 'martha': 4487, 'underworld': 4488, 'clueless': 4489, 'despic': 4490, 'preming': 4491, 'exterior': 4492, 'narrow': 4493, 'bewar': 4494, 'decept': 4495, 'athlet': 4496, 'gina': 4497, '1969': 4498, 'oblig': 4499, 'hain': 4500, 'disastr': 4501, 'fuel': 4502, 'gillian': 4503, 'candl': 4504, 'enlist': 4505, 'harmless': 4506, 'tick': 4507, 'insipid': 4508, 'shatter': 4509, '19': 4510, 'viewpoint': 4511, 'loath': 4512, 'scar': 4513, 'sooner': 4514, 'mayhem': 4515, 'biker': 4516, 'taboo': 4517, 'dilemma': 4518, 'housewif': 4519, 'hepburn': 4520, 'uh': 4521, 'preachi': 4522, 'dandi': 4523, 'astound': 4524, 'goof': 4525, 'trigger': 4526, 'mermaid': 4527, 'loi': 4528, 'fontain': 4529, 'outlaw': 4530, 'circu': 4531, 'virtu': 4532, '73': 4533, 'analyz': 4534, 'sleepwalk': 4535, 'suprem': 4536, 'headach': 4537, 'injur': 4538, 'angst': 4539, 'rome': 4540, 'lester': 4541, 'renaiss': 4542, 'macho': 4543, 'amor': 4544, 'fluff': 4545, 'redund': 4546, 'cassavet': 4547, 'contempt': 4548, 'phenomenon': 4549, 'hokey': 4550, 'hostag': 4551, 'overlong': 4552, 'gere': 4553, 'oldest': 4554, 'zoom': 4555, 'filth': 4556, 'slimi': 4557, 'glorifi': 4558, 'spade': 4559, 'dish': 4560, 'claustrophob': 4561, 'ebert': 4562, 'whore': 4563, 'steer': 4564, 'camcord': 4565, 'intric': 4566, 'stair': 4567, 'dismal': 4568, 'immatur': 4569, 'boston': 4570, 'bent': 4571, 'salt': 4572, 'foolish': 4573, 'stimul': 4574, 'guin': 4575, 'hooker': 4576, 'sox': 4577, 'surgeri': 4578, 'tripl': 4579, 'scorses': 4580, 'idol': 4581, 'ariel': 4582, 'corbett': 4583, 'flirt': 4584, 'antagonist': 4585, 'widescreen': 4586, 'shred': 4587, 'proport': 4588, 'joker': 4589, 'gasp': 4590, 'fascist': 4591, 'remad': 4592, 'radiat': 4593, 'spinal': 4594, 'spree': 4595, 'rhyme': 4596, 'preced': 4597, 'obligatori': 4598, 'perman': 4599, 'corman': 4600, 'flashi': 4601, 'faint': 4602, '1981': 4603, 'gabl': 4604, '1976': 4605, 'keen': 4606, 'margin': 4607, 'beard': 4608, 'assert': 4609, 'trivia': 4610, 'messi': 4611, 'zane': 4612, 'harold': 4613, 'muscl': 4614, 'nolt': 4615, 'frantic': 4616, 'dwarf': 4617, 'mount': 4618, 'strongest': 4619, 'shield': 4620, 'astronaut': 4621, 'conquer': 4622, 'schlock': 4623, 'alvin': 4624, 'mutual': 4625, 'down': 4626, 'naschi': 4627, 'transplant': 4628, 'flag': 4629, 'cush': 4630, 'cow': 4631, 'cohen': 4632, 'triangl': 4633, 'instruct': 4634, 'off': 4635, 'vaniti': 4636, 'brush': 4637, 'deer': 4638, 'sensual': 4639, 'hara': 4640, 'neurot': 4641, 'strive': 4642, '95': 4643, 'persuad': 4644, 'wield': 4645, 'info': 4646, 'mobil': 4647, 'aborigin': 4648, 'bitten': 4649, 'repris': 4650, 'interestingli': 4651, 'discern': 4652, '1945': 4653, 'departur': 4654, 'www': 4655, 'danish': 4656, 'ritchi': 4657, '28': 4658, 'divin': 4659, 'barn': 4660, 'mol': 4661, 'someday': 4662, 'flock': 4663, 'fishburn': 4664, 'claud': 4665, 'bachelor': 4666, 'carey': 4667, 'archiv': 4668, 'resum': 4669, 'boob': 4670, 'scandal': 4671, 'raj': 4672, 'inflict': 4673, 'submit': 4674, 'fragil': 4675, 'frontier': 4676, 'axe': 4677, 'casino': 4678, 'recit': 4679, 'cb': 4680, 'clad': 4681, 'mobster': 4682, 'neill': 4683, 'proclaim': 4684, 'dylan': 4685, 'biblic': 4686, 'loretta': 4687, 'heartwarm': 4688, 'banter': 4689, 'senior': 4690, 'harrison': 4691, 'colin': 4692, 'carlo': 4693, 'anton': 4694, 'parson': 4695, 'vibrant': 4696, 'dim': 4697, 'pixar': 4698, 'cycl': 4699, 'earnest': 4700, 'ish': 4701, 'timberlak': 4702, 'jade': 4703, 'helm': 4704, 'miracul': 4705, 'dame': 4706, 'melissa': 4707, 'prophet': 4708, 'undermin': 4709, 'kathryn': 4710, 'pacif': 4711, 'cher': 4712, 'artwork': 4713, 'cliffhang': 4714, 'hug': 4715, 'hapless': 4716, 'pickford': 4717, 'traffic': 4718, 'bate': 4719, 'wendigo': 4720, 'hilar': 4721, 'rot': 4722, 'luka': 4723, 'europa': 4724, 'articl': 4725, 'seedi': 4726, 'illus': 4727, 'lucil': 4728, 'bikini': 4729, 'venom': 4730, 'estrang': 4731, 'token': 4732, 'orphan': 4733, 'redneck': 4734, 'isra': 4735, 'cerebr': 4736, 'rooki': 4737, 'flavor': 4738, 'blatantli': 4739, 'razor': 4740, 'lui': 4741, 'eli': 4742, 'misfortun': 4743, 'static': 4744, 'nope': 4745, 'sicken': 4746, 'akin': 4747, 'mason': 4748, 'breakfast': 4749, 'http': 4750, 'toronto': 4751, 'holocaust': 4752, 'pc': 4753, 'legitim': 4754, 'jordan': 4755, 'electron': 4756, 'bondag': 4757, 'wardrob': 4758, 'aris': 4759, 'feast': 4760, 'milo': 4761, 'jo': 4762, 'shepherd': 4763, 'antholog': 4764, 'marlon': 4765, 'alexandr': 4766, 'vile': 4767, 'choke': 4768, 'northern': 4769, 'winchest': 4770, 'foil': 4771, 'uma': 4772, 'trier': 4773, 'vanessa': 4774, 'mathieu': 4775, 'feminin': 4776, 'audrey': 4777, 'clinic': 4778, 'dudley': 4779, 'linear': 4780, 'boyer': 4781, 'affleck': 4782, 'magician': 4783, 'leather': 4784, 'tack': 4785, 'ideolog': 4786, 'huston': 4787, 'ceremoni': 4788, 'nightclub': 4789, 'psych': 4790, 'smack': 4791, 'cartoonish': 4792, 'styliz': 4793, 'glare': 4794, 'swept': 4795, 'retriev': 4796, 'frog': 4797, 'shorter': 4798, 'howl': 4799, 'highway': 4800, 'turd': 4801, 'outdat': 4802, 'deem': 4803, 'knightley': 4804, 'comprehend': 4805, 'peer': 4806, 'abund': 4807, 'disregard': 4808, 'fifth': 4809, 'gilbert': 4810, 'wrestler': 4811, 'charlton': 4812, 'oppon': 4813, 'gunga': 4814, 'energet': 4815, '1994': 4816, 'lighter': 4817, 'phenomen': 4818, 'chip': 4819, 'deliver': 4820, 'bastard': 4821, 'snatch': 4822, 'monument': 4823, 'uniformli': 4824, 'boo': 4825, 'senat': 4826, 'spawn': 4827, 'btw': 4828, 'moe': 4829, 'sleaz': 4830, 'potter': 4831, 'lifeless': 4832, 'client': 4833, 'corn': 4834, 'braveheart': 4835, 'lavish': 4836, 'summar': 4837, 'cuban': 4838, 'einstein': 4839, 'evolut': 4840, 'spine': 4841, 'conrad': 4842, 'newer': 4843, 'goldsworthi': 4844, 'plate': 4845, 'cemeteri': 4846, 'compris': 4847, '1991': 4848, 'greet': 4849, '4th': 4850, 'tara': 4851, 'salman': 4852, 'toe': 4853, 'breakdown': 4854, 'durat': 4855, 'whack': 4856, 'bogu': 4857, 'collector': 4858, 'mitch': 4859, 'belli': 4860, 'cecil': 4861, 'constitut': 4862, 'undertak': 4863, 'clara': 4864, 'trauma': 4865, 'mcqueen': 4866, 'nina': 4867, 'alleg': 4868, 'outright': 4869, 'armstrong': 4870, 'sorrow': 4871, 'eleven': 4872, 'ie': 4873, 'liu': 4874, 'replay': 4875, 'undead': 4876, 'luxuri': 4877, 'randolph': 4878, 'bulk': 4879, 'historian': 4880, 'embark': 4881, 'healthi': 4882, 'lex': 4883, 'jedi': 4884, 'appl': 4885, 'inaccuraci': 4886, 'wtf': 4887, 'signal': 4888, 'judd': 4889, '1977': 4890, 'fluid': 4891, 'evelyn': 4892, 'occup': 4893, 'pronounc': 4894, '1974': 4895, 'kazan': 4896, 'ol': 4897, 'creek': 4898, 'spectacl': 4899, 'gilliam': 4900, 'capot': 4901, 'jare': 4902, 'bori': 4903, 'neatli': 4904, 'kent': 4905, 'jam': 4906, 'firmli': 4907, 'jule': 4908, 'tokyo': 4909, 'propheci': 4910, 'antonio': 4911, 'curtain': 4912, 'sacrif': 4913, 'porter': 4914, 'rosario': 4915, 'ash': 4916, 'paula': 4917, 'subtli': 4918, 'truman': 4919, 'groan': 4920, 'kiddi': 4921, 'unattract': 4922, 'pepper': 4923, 'vain': 4924, 'vignett': 4925, 'bait': 4926, 'inclus': 4927, 'aussi': 4928, 'galaxi': 4929, 'miniseri': 4930, 'pioneer': 4931, 'comprehens': 4932, 'knee': 4933, 'abound': 4934, 'forgiven': 4935, 'cape': 4936, 'comb': 4937, 'decapit': 4938, 'genet': 4939, 'meal': 4940, 'conan': 4941, 'relentless': 4942, 'id': 4943, 'walt': 4944, 'poker': 4945, 'blur': 4946, '1985': 4947, 'sidewalk': 4948, 'fruit': 4949, 'mum': 4950, 'palm': 4951, 'basket': 4952, 'congratul': 4953, 'inaccur': 4954, 'spray': 4955, 'carmen': 4956, 'unsuspect': 4957, 'goldblum': 4958, 'roar': 4959, 'miami': 4960, 'bsg': 4961, 'lauren': 4962, 'lanc': 4963, 'frontal': 4964, 'verg': 4965, 'optimist': 4966, '21st': 4967, 'victorian': 4968, 'substanti': 4969, 'spill': 4970, 'detach': 4971, 'assort': 4972, 'turtl': 4973, 'reincarn': 4974, 'handicap': 4975, 'bach': 4976, 'epitom': 4977, 'monti': 4978, 'vastli': 4979, 'incorrect': 4980, 'dubiou': 4981, 'weaker': 4982, 'masterson': 4983, 'jill': 4984, 'bravo': 4985, 'playboy': 4986, 'drone': 4987, 'sparkl': 4988, 'hostil': 4989, 'evan': 4990, 'asset': 4991, 'orchestr': 4992, 'modest': 4993, 'ghetto': 4994, 'macabr': 4995, 'scarfac': 4996, 'ingrid': 4997, 'weari': 4998, 'rapidli': 4999}\n"
     ]
    }
   ],
   "source": [
    "print(str(word_dict))"
   ]
  },
  {
   "cell_type": "markdown",
   "metadata": {},
   "source": [
    "Once you have added the endpoint name to the Lambda function, click on **Save**. Your Lambda function is now up and running. Next we need to create a way for our web app to execute the Lambda function.\n",
    "\n",
    "### Setting up API Gateway\n",
    "\n",
    "Now that our Lambda function is set up, it is time to create a new API using API Gateway that will trigger the Lambda function we have just created.\n",
    "\n",
    "Using AWS Console, navigate to **Amazon API Gateway** and then click on **Get started**.\n",
    "\n",
    "On the next page, make sure that **New API** is selected and give the new api a name, for example, `sentiment_analysis_api`. Then, click on **Create API**.\n",
    "\n",
    "Now we have created an API, however it doesn't currently do anything. What we want it to do is to trigger the Lambda function that we created earlier.\n",
    "\n",
    "Select the **Actions** dropdown menu and click **Create Method**. A new blank method will be created, select its dropdown menu and select **POST**, then click on the check mark beside it.\n",
    "\n",
    "For the integration point, make sure that **Lambda Function** is selected and click on the **Use Lambda Proxy integration**. This option makes sure that the data that is sent to the API is then sent directly to the Lambda function with no processing. It also means that the return value must be a proper response object as it will also not be processed by API Gateway.\n",
    "\n",
    "Type the name of the Lambda function you created earlier into the **Lambda Function** text entry box and then click on **Save**. Click on **OK** in the pop-up box that then appears, giving permission to API Gateway to invoke the Lambda function you created.\n",
    "\n",
    "The last step in creating the API Gateway is to select the **Actions** dropdown and click on **Deploy API**. You will need to create a new Deployment stage and name it anything you like, for example `prod`.\n",
    "\n",
    "You have now successfully set up a public API to access your SageMaker model. Make sure to copy or write down the URL provided to invoke your newly created public API as this will be needed in the next step. This URL can be found at the top of the page, highlighted in blue next to the text **Invoke URL**."
   ]
  },
  {
   "cell_type": "markdown",
   "metadata": {},
   "source": [
    "## Step 4: Deploying our web app\n",
    "\n",
    "Now that we have a publicly available API, we can start using it in a web app. For our purposes, we have provided a simple static html file which can make use of the public api you created earlier.\n",
    "\n",
    "In the `website` folder there should be a file called `index.html`. Download the file to your computer and open that file up in a text editor of your choice. There should be a line which contains **\\*\\*REPLACE WITH PUBLIC API URL\\*\\***. Replace this string with the url that you wrote down in the last step and then save the file.\n",
    "\n",
    "Now, if you open `index.html` on your local computer, your browser will behave as a local web server and you can use the provided site to interact with your SageMaker model.\n",
    "\n",
    "If you'd like to go further, you can host this html file anywhere you'd like, for example using github or hosting a static site on Amazon's S3. Once you have done this you can share the link with anyone you'd like and have them play with it too!\n",
    "\n",
    "> **Important Note** In order for the web app to communicate with the SageMaker endpoint, the endpoint has to actually be deployed and running. This means that you are paying for it. Make sure that the endpoint is running when you want to use the web app but that you shut it down when you don't need it, otherwise you will end up with a surprisingly large AWS bill.\n",
    "\n",
    "**TODO:** Make sure that you include the edited `index.html` file in your project submission."
   ]
  },
  {
   "cell_type": "markdown",
   "metadata": {},
   "source": [
    "Now that your web app is working, trying playing around with it and see how well it works.\n",
    "\n",
    "**Question**: Give an example of a review that you entered into your web app. What was the predicted sentiment of your example review?"
   ]
  },
  {
   "cell_type": "markdown",
   "metadata": {},
   "source": [
    "**Answer:**\n",
    "\n",
    "- My review - \"This movie was a total waste of time, did not like it at all. The acting was horrible, and the direction was incompetant. There is a big gap in story telling, and camera movement is so jerky that it gives you headache\" \n",
    "\n",
    "- Rresult -  Your review was NEGATIVE"
   ]
  },
  {
   "cell_type": "markdown",
   "metadata": {},
   "source": [
    "### Delete the endpoint\n",
    "\n",
    "Remember to always shut down your endpoint if you are no longer using it. You are charged for the length of time that the endpoint is running so if you forget and leave it on you could end up with an unexpectedly large bill."
   ]
  },
  {
   "cell_type": "code",
   "execution_count": 89,
   "metadata": {},
   "outputs": [],
   "source": [
    "predictor.delete_endpoint()"
   ]
  },
  {
   "cell_type": "code",
   "execution_count": null,
   "metadata": {},
   "outputs": [],
   "source": []
  }
 ],
 "metadata": {
  "kernelspec": {
   "display_name": "conda_pytorch_p36",
   "language": "python",
   "name": "conda_pytorch_p36"
  },
  "language_info": {
   "codemirror_mode": {
    "name": "ipython",
    "version": 3
   },
   "file_extension": ".py",
   "mimetype": "text/x-python",
   "name": "python",
   "nbconvert_exporter": "python",
   "pygments_lexer": "ipython3",
   "version": "3.6.5"
  }
 },
 "nbformat": 4,
 "nbformat_minor": 2
}
